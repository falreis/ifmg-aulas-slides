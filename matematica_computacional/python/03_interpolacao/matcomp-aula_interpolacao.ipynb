{
 "cells": [
  {
   "cell_type": "markdown",
   "metadata": {},
   "source": [
    "![IFMG](https://storage.googleapis.com/ifmg/IFMG.png)\n",
    "\n",
    "---\n",
    "# Matemática Computacional\n",
    "\n",
    "## Interpolação\n",
    "\n",
    "- Professor: Felipe Reis\n"
   ]
  },
  {
   "cell_type": "markdown",
   "metadata": {},
   "source": [
    "---\n",
    "### Importação de bibliotecas "
   ]
  },
  {
   "cell_type": "code",
   "execution_count": 1,
   "metadata": {},
   "outputs": [],
   "source": [
    "from __future__ import division\n",
    "import scipy as sp\n",
    "import numpy as np\n",
    "from numpy import linalg\n",
    "from scipy import interpolate\n",
    "from numpy.polynomial import polynomial as poly\n",
    "import matplotlib.pyplot as plt"
   ]
  },
  {
   "cell_type": "markdown",
   "metadata": {},
   "source": [
    "---\n",
    "### Interpolação Polinomial\n",
    "\n",
    "Podemos encontrar o polinômio interpolador e esboçar seu gráfico usando a sequência de comandos abaixo.\n",
    "\n",
    "#### Exemplo (Polinômio Simples)\n",
    "\n",
    "Exemplo 6.1.1, do [livro texto](https://www.ufrgs.br/reamat/CalculoNumerico/livro-py/livro-py.pdf).\n",
    "\n",
    "Encontre o polinômio interpolador do conjunto de pontos {(0, 1), (1, 6), (2, 5), (3, −8)}"
   ]
  },
  {
   "cell_type": "markdown",
   "metadata": {},
   "source": [
    "Podemos representar esses pontos na forma de x e y."
   ]
  },
  {
   "cell_type": "code",
   "execution_count": 2,
   "metadata": {},
   "outputs": [
    {
     "name": "stdout",
     "output_type": "stream",
     "text": [
      "[0. 1. 2. 3.]\n",
      "[ 1.  6.  5. -8.]\n"
     ]
    }
   ],
   "source": [
    "xi = np.array([0, 1, 2, 3], dtype='double')\n",
    "yi = np.array([1, 6, 5, -8], dtype='double')\n",
    "\n",
    "print(xi)\n",
    "print(yi)"
   ]
  },
  {
   "cell_type": "markdown",
   "metadata": {},
   "source": [
    "Podemos plotar os pontos a serem interpolados, usando os comandos abaixo."
   ]
  },
  {
   "cell_type": "code",
   "execution_count": 3,
   "metadata": {},
   "outputs": [
    {
     "data": {
      "image/png": "[encoded data removed]",
      "text/plain": [
       "<Figure size 432x288 with 1 Axes>"
      ]
     },
     "metadata": {
      "needs_background": "light"
     },
     "output_type": "display_data"
    }
   ],
   "source": [
    "plt.plot(xi, yi,'ro') #'ro' = red (vermelho) + circulo ;\n",
    "plt.grid()\n",
    "plt.show()"
   ]
  },
  {
   "cell_type": "markdown",
   "metadata": {},
   "source": [
    "De acordo com o Teorema da Interpolação Polinomial, para um conjunto de $n$ pontos, é necessário um polinômio de ordem $n-1$.\n",
    "\n",
    "Como temos 4 pontos, é necessária uma função de ordem 3 \n",
    "\n",
    "$$f(x) = a_3 x^3 + a_2 x^2 + a_1 x^1 + a_0 x^0$$\n",
    "\n",
    "Para que possamos representar esse polinômio, temos que $p(x_i) = y_i$, onde $i = 0, 1, 2, 3$, gerando o seguinte sistema linear\n",
    "\n",
    "$a_0 = 1$\n",
    "\n",
    "$a_3 + a_2 + a_1 + a_0 = 6$\n",
    "\n",
    "$8 a_3 + 4 a_2 + 2 a_1 + a_0 = 5$\n",
    "\n",
    "$27 a_3 + 9 a_2 + 3 a_1 + a_0 = -8$\n",
    "\n",
    "Após transformar em um sistema linear, temos:"
   ]
  },
  {
   "cell_type": "code",
   "execution_count": 4,
   "metadata": {},
   "outputs": [
    {
     "name": "stdout",
     "output_type": "stream",
     "text": [
      "A =\n",
      " [[ 0.  0.  0.  1.]\n",
      " [ 1.  1.  1.  1.]\n",
      " [ 8.  4.  2.  1.]\n",
      " [27.  9.  3.  1.]]\n",
      "\n",
      "b=\n",
      " [[ 1.]\n",
      " [ 6.]\n",
      " [ 5.]\n",
      " [-8.]]\n"
     ]
    }
   ],
   "source": [
    "A = np.array([xi**3, xi**2, xi**1, xi**0]).transpose()\n",
    "print('A =\\n', A)\n",
    "print()\n",
    "print('b=\\n', yi.reshape(-1,1))"
   ]
  },
  {
   "cell_type": "markdown",
   "metadata": {},
   "source": [
    "Conseguimos resolver o sistema linear, usando o comando `np.linalg.solve`, conforme vimos na solução de Sistemas Lineares."
   ]
  },
  {
   "cell_type": "code",
   "execution_count": 5,
   "metadata": {},
   "outputs": [
    {
     "name": "stdout",
     "output_type": "stream",
     "text": [
      "[-1. -0.  6.  1.]\n"
     ]
    }
   ],
   "source": [
    "np.set_printoptions(precision=3, suppress=True) #comando para impressão de array com 3 casas decimais\n",
    "S = np.linalg.solve(A, yi) #comando para solução de sistemas lineares\n",
    "print(S)"
   ]
  },
  {
   "cell_type": "markdown",
   "metadata": {},
   "source": [
    "Com isso temos como resultado o seguinte polinômio:\n",
    "$$f(x) = -x^3 + 6 x^1 + 1$$"
   ]
  },
  {
   "cell_type": "markdown",
   "metadata": {},
   "source": [
    "Para representação de uma função $f(x)$ podemos utilizar a função `np.polyval`.\n",
    "\n",
    "Esse comando é capaz de representar um função $f(x) = a_n x^n + ... + a_1 x^1 + a_0 x^0$. \n",
    "\n",
    "Desse modo, podemos representar o polinômio na função e representá-lo usando um gráfico."
   ]
  },
  {
   "cell_type": "code",
   "execution_count": 6,
   "metadata": {},
   "outputs": [
    {
     "data": {
      "image/png": "[encoded data removed]",
      "text/plain": [
       "<Figure size 432x288 with 1 Axes>"
      ]
     },
     "metadata": {
      "needs_background": "light"
     },
     "output_type": "display_data"
    }
   ],
   "source": [
    "interv = np.linspace(0,3)\n",
    "plt.plot(interv, np.polyval(S,interv), 'b-') # 'b-' = blue (azul) + linha\n",
    "plt.grid()\n",
    "plt.show()"
   ]
  },
  {
   "cell_type": "markdown",
   "metadata": {},
   "source": [
    "Para podermos ver o gráfico junto aos pontos, podemos alterar ligeiramente o intervalo (para melhorar a exibição das informações) e plotar o gráfico do polinômio e dos pontos interpolados. "
   ]
  },
  {
   "cell_type": "code",
   "execution_count": 7,
   "metadata": {},
   "outputs": [
    {
     "data": {
      "image/png": "[encoded data removed]",
      "text/plain": [
       "<Figure size 432x288 with 1 Axes>"
      ]
     },
     "metadata": {
      "needs_background": "light"
     },
     "output_type": "display_data"
    }
   ],
   "source": [
    "interv = np.linspace(-0.5, 3.5)\n",
    "plt.plot(xi, yi,'ro', interv, np.polyval(S,interv), 'b-') #'ro' = red + circulo ; 'b-' = blue + linha\n",
    "plt.grid()\n",
    "plt.show()"
   ]
  },
  {
   "cell_type": "markdown",
   "metadata": {},
   "source": [
    "---\n",
    "\n",
    "### Polinômios de Lagrange\n",
    "\n",
    "Exemplo 6.3.1, do [livro texto](https://www.ufrgs.br/reamat/CalculoNumerico/livro-py/livro-py.pdf).\n",
    "\n",
    "Encontre um polinômio interpolador de Lagrange que passa pelos pontos (0, 0), (1, 1), (2, 4) e (3, 9). Calcule numericamente, f(4)."
   ]
  },
  {
   "cell_type": "markdown",
   "metadata": {},
   "source": [
    "Podemos representar esses pontos na forma de x e y."
   ]
  },
  {
   "cell_type": "code",
   "execution_count": 8,
   "metadata": {},
   "outputs": [
    {
     "name": "stdout",
     "output_type": "stream",
     "text": [
      "[0. 1. 2. 3.]\n",
      "[0. 1. 4. 9.]\n"
     ]
    }
   ],
   "source": [
    "xi = np.array([0, 1, 2, 3], dtype='double')\n",
    "yi = np.array([0, 1, 4, 9], dtype='double')\n",
    "\n",
    "print(xi)\n",
    "print(yi)"
   ]
  },
  {
   "cell_type": "code",
   "execution_count": 9,
   "metadata": {},
   "outputs": [
    {
     "name": "stdout",
     "output_type": "stream",
     "text": [
      "16.0\n"
     ]
    }
   ],
   "source": [
    "x = 4 #f(4)\n",
    "L0 = ((4 - 1)*(4 - 2)*(4 - 3))/((0 - 1)*(0 - 2)*(0 - 3))\n",
    "L1 = ((4 - 0)*(4 - 2)*(4 - 3))/((1 - 0)*(1 - 2)*(1 - 3))\n",
    "L2 = ((4 - 0)*(4 - 1)*(4 - 3))/((2 - 0)*(2 - 1)*(2 - 3))\n",
    "L3 = ((4 - 0)*(4 - 1)*(4 - 2))/((3 - 0)*(3 - 1)*(3 - 2))\n",
    "\n",
    "px = (yi[0] * L0) + (yi[1] * L1) + (yi[2] * L2) + (yi[3] * L3)\n",
    "print(px)"
   ]
  },
  {
   "cell_type": "code",
   "execution_count": 10,
   "metadata": {},
   "outputs": [
    {
     "name": "stdout",
     "output_type": "stream",
     "text": [
      "16.0\n"
     ]
    }
   ],
   "source": [
    "x = 4 #f(4)\n",
    "L0 = ((x - xi[1])*(x - xi[2])*(x - xi[3]))/((xi[0] - xi[1])*(xi[0] - xi[2])*(xi[0] - xi[3]))\n",
    "L1 = ((x - xi[0])*(x - xi[2])*(x - xi[3]))/((xi[1] - xi[0])*(xi[1] - xi[2])*(xi[1] - xi[3]))\n",
    "L2 = ((x - xi[0])*(x - xi[1])*(x - xi[3]))/((xi[2] - xi[0])*(xi[2] - xi[1])*(xi[2] - xi[3]))\n",
    "L3 = ((x - xi[0])*(x - xi[1])*(x - xi[2]))/((xi[3] - xi[0])*(xi[3] - xi[1])*(xi[3] - xi[2]))\n",
    "\n",
    "px = (yi[0] * L0) + (yi[1] * L1) + (yi[2] * L2) + (yi[3] * L3)\n",
    "print(px)"
   ]
  },
  {
   "cell_type": "code",
   "execution_count": 11,
   "metadata": {},
   "outputs": [],
   "source": [
    "####################################\n",
    "## Interpolação da Lagrange\n",
    "####################################\n",
    "\n",
    "#parâmetros de entrada\n",
    "# * xi - vetor de pontos x\n",
    "# * yi - vetor de pontos y\n",
    "# * x - ponto a ser interpolado\n",
    "# parâmetros de saída\n",
    "# * px - valor calculado pelo polinômio de lagrange\n",
    "\n",
    "def lagrange(xi, yi, x):\n",
    "    assert(len(xi) == len(yi)), \"Erro: Tamanho do vetor xi é diferente de yi\"\n",
    "    \n",
    "    #declaração de variáveis px e L\n",
    "    px, L = 0, 0\n",
    "    \n",
    "    #calcula os valores de L0,...,Ln\n",
    "    for i in range(0, len(xi)):\n",
    "        lnum, lden = 1, 1 #inicialização do valor de L\n",
    "        \n",
    "        #j corresponde aos outros elementos\n",
    "        for j in range(0, len(xi)):\n",
    "            if i != j:\n",
    "                lnum *= (x - xi[j])\n",
    "                lden *= (xi[i] - xi[j])\n",
    "            \n",
    "        L = lnum / lden\n",
    "        px += (yi[i] * L)\n",
    "               \n",
    "    return px"
   ]
  },
  {
   "cell_type": "code",
   "execution_count": 12,
   "metadata": {},
   "outputs": [
    {
     "name": "stdout",
     "output_type": "stream",
     "text": [
      "16.0\n"
     ]
    }
   ],
   "source": [
    "xi = np.array([0, 1, 2, 3], dtype='double')\n",
    "yi = np.array([0, 1, 4, 9], dtype='double')\n",
    "\n",
    "px = lagrange(xi, yi, 4)\n",
    "print(px)"
   ]
  },
  {
   "cell_type": "code",
   "execution_count": 13,
   "metadata": {},
   "outputs": [
    {
     "name": "stdout",
     "output_type": "stream",
     "text": [
      "-3.6688456271033405\n"
     ]
    }
   ],
   "source": [
    "xi = np.array([1.6, 2.5, 3., 4.2, 5.4, 6.7], dtype='double')\n",
    "yi = np.array([-1.5, -2.1, 0.3, 1.4, 2.1, 3.9], dtype='double')\n",
    "px = lagrange(xi, yi, 2)\n",
    "print(px)"
   ]
  },
  {
   "cell_type": "markdown",
   "metadata": {},
   "source": [
    "---\n",
    "### Polinômios de Newton (Diferenças Divididas de Newton)\n"
   ]
  },
  {
   "cell_type": "code",
   "execution_count": 14,
   "metadata": {},
   "outputs": [],
   "source": [
    "####################################\n",
    "## Polinômios de Newton\n",
    "####################################\n",
    "\n",
    "#parâmetros de entrada\n",
    "# * xi - vetor de pontos x\n",
    "# * yi - vetor de pontos y\n",
    "# * x - ponto a ser interpolado\n",
    "# parâmetros de saída\n",
    "# * px - valor calculado pelo polinômio de newton\n",
    "\n",
    "def diff_newton(xi, yi, x):\n",
    "    assert(len(xi) == len(yi)), \"Erro: Tamanho do vetor xi é diferente de yi\"\n",
    "    \n",
    "    #declaração de variáveis\n",
    "    coef = []             # coeficientes\n",
    "    yt = yi               # y temporario, para armazenamento de delta\n",
    "    num_diff = len(xi)-1  # número de diferenças divididas\n",
    "    px = 0                # polinômio px\n",
    "    \n",
    "    #adiciona o primeiro valor yi0 como coeficiente da equação\n",
    "    coef.append(yi[0])\n",
    "    \n",
    "    #calcula os coeficientes de diferenças divididas\n",
    "    for i in range(0, num_diff):\n",
    "        delta = [] #variável para armazenamento temporário de cálculo da diferença (equivalente coluna da tabela)\n",
    "        \n",
    "        #percorre diferenças yt (o número de diferenças se reduz ao longo da execução de n-1 até 1)\n",
    "        for j in range(0, len(yt)-1):\n",
    "            delta.append((yt[j+1] - yt[j]) / (xi[j+i+1] - xi[j]))\n",
    "        \n",
    "        yt = delta.copy()\n",
    "        coef.append(yt[0])\n",
    "\n",
    "    #calcula a equação (numericamente), percorrendo o vetor de coeficientes\n",
    "    for i in range(0, len(coef)):\n",
    "        pn = coef[i]\n",
    "        \n",
    "        #realiza n-i multiplicações, dependendo do grau do polinômio\n",
    "        for j in range(0, i):\n",
    "            pn *=(x - xi[j])\n",
    "            \n",
    "        px += pn\n",
    "   \n",
    "    return px"
   ]
  },
  {
   "cell_type": "code",
   "execution_count": 15,
   "metadata": {},
   "outputs": [
    {
     "name": "stdout",
     "output_type": "stream",
     "text": [
      "3.0\n"
     ]
    }
   ],
   "source": [
    "xi = np.array([-1, 0, 1, 3], dtype='double')\n",
    "yi = np.array([3, 1, 3, 43], dtype='double')\n",
    "\n",
    "px = diff_newton(xi, yi, -1)\n",
    "print(px)"
   ]
  },
  {
   "cell_type": "code",
   "execution_count": 16,
   "metadata": {},
   "outputs": [
    {
     "data": {
      "image/png": "[encoded data removed]",
      "text/plain": [
       "<Figure size 432x288 with 1 Axes>"
      ]
     },
     "metadata": {
      "needs_background": "light"
     },
     "output_type": "display_data"
    }
   ],
   "source": [
    "x, y = [], []\n",
    "for i in np.arange(np.min(xi)-1, np.max(xi)+1, 0.1):\n",
    "    x.append(i)\n",
    "    y.append(diff_newton(xi, yi, i))\n",
    "\n",
    "plt.plot(x, y)\n",
    "plt.grid()\n",
    "plt.show()"
   ]
  },
  {
   "cell_type": "code",
   "execution_count": 17,
   "metadata": {},
   "outputs": [
    {
     "name": "stdout",
     "output_type": "stream",
     "text": [
      "3.035\n"
     ]
    }
   ],
   "source": [
    "xi = np.array([.0, 0.2, .3, .4, .7, .9], dtype='double')\n",
    "yi = np.array([3., 2.76, 2.655, 2.6, 3.035, 4.125], dtype='double')\n",
    "\n",
    "px = diff_newton(xi, yi, 0.7)\n",
    "print(px)"
   ]
  },
  {
   "cell_type": "markdown",
   "metadata": {},
   "source": [
    "---\n",
    "### Interpolação Segmentada"
   ]
  },
  {
   "cell_type": "code",
   "execution_count": 18,
   "metadata": {},
   "outputs": [],
   "source": [
    "####################################\n",
    "## Interpolação Segmentada\n",
    "####################################\n",
    "\n",
    "#parâmetros de entrada\n",
    "# * xi - vetor de pontos x\n",
    "# * yi - vetor de pontos y\n",
    "# * x - ponto a ser interpolado\n",
    "# parâmetros de saída\n",
    "# * px - vetor de segmentos\n",
    "\n",
    "def interp_segmentada(xi, yi, x):\n",
    "    assert(len(xi) == len(yi)), \"Erro: Tamanho do vetor xi é diferente de yi\"\n",
    "    assert(x >= xi[0] and x <= xi[-1]), \"Erro: valor de x está fora do limite dos pontos xi\"\n",
    "    \n",
    "    #declaração de variáveis px\n",
    "    px = -1\n",
    "    i = -1\n",
    "    \n",
    "    #obtem indice de cálculo\n",
    "    for j in range(0, len(xi)-1):\n",
    "        if(x >= xi[j] and x <= xi[j+1]): \n",
    "            i = j\n",
    "            break\n",
    "                \n",
    "    #se um intervalo foi encontrado\n",
    "    if(i >= 0):\n",
    "        p1 = (yi[i] * (xi[i+1] - x)) / (xi[i+1] - xi[i])\n",
    "        p2 = (yi[i+1] * (x - xi[i])) / (xi[i+1] - xi[i])\n",
    "        px = p1 + p2\n",
    "               \n",
    "    return px"
   ]
  },
  {
   "cell_type": "code",
   "execution_count": 24,
   "metadata": {},
   "outputs": [
    {
     "name": "stdout",
     "output_type": "stream",
     "text": [
      "4.0\n"
     ]
    }
   ],
   "source": [
    "xi = np.array([0., 1., 2., 3., 4., 5.], dtype='double')\n",
    "yi = np.array([0., 4., 3., 0., 2., 0.], dtype='double')\n",
    "\n",
    "px = interp_segmentada(xi, yi, 2.5)\n",
    "print(px)"
   ]
  },
  {
   "cell_type": "code",
   "execution_count": 20,
   "metadata": {},
   "outputs": [
    {
     "data": {
      "image/png": "[encoded data removed]",
      "text/plain": [
       "<Figure size 432x288 with 1 Axes>"
      ]
     },
     "metadata": {
      "needs_background": "light"
     },
     "output_type": "display_data"
    }
   ],
   "source": [
    "x, y = [], []\n",
    "for i in np.arange(np.min(xi), np.max(xi), 0.1):\n",
    "    x.append(i)\n",
    "    y.append(interp_segmentada(xi, yi, i))\n",
    "\n",
    "plt.plot(x, y)\n",
    "plt.grid()\n",
    "plt.show()"
   ]
  },
  {
   "cell_type": "markdown",
   "metadata": {},
   "source": [
    "---\n",
    "### Interpolação com Scipy\n",
    "\n",
    "A documentação dos métodos de interpolação usando Scipy podem ser encontrados no link abaixo:\n",
    "\n",
    "* https://docs.scipy.org/doc/scipy/reference/generated/scipy.interpolate.make_interp_spline.html#scipy.interpolate.make_interp_spline\n",
    "\n",
    "#### Interpolação de Lagrange\n",
    "\n",
    "Para realizar a interpolação de Lagrande usando o Scipy, execute o comando abaixo\n",
    "\n",
    "```\n",
    "sp.interpolate.lagrange\n",
    "```\n",
    "\n",
    "A documentação da interpolação de Lagrange pode ser encontrada no link abaixo:\n",
    "\n",
    "* https://docs.scipy.org/doc/scipy/reference/generated/scipy.interpolate.lagrange.html\n",
    "\n",
    "Diferentemente do método construído, a interpolação de Lagrange disponibilizada no Scipy necessita da definição da função interpoladora, ao invés de apenas os pontos de referência."
   ]
  },
  {
   "cell_type": "code",
   "execution_count": 21,
   "metadata": {},
   "outputs": [
    {
     "name": "stdout",
     "output_type": "stream",
     "text": [
      "[ 3. -2.  0.]\n"
     ]
    }
   ],
   "source": [
    "# no exemplo abaixo, a função x**3 é interpolada com 3 pontos\n",
    "x = np.array([0, 1, 2])\n",
    "y = x**3\n",
    "polinomio = interpolate.lagrange(x, y)\n",
    "coefs = poly.Polynomial(polinomio).coef\n",
    "print(coefs)"
   ]
  },
  {
   "cell_type": "code",
   "execution_count": 22,
   "metadata": {},
   "outputs": [
    {
     "data": {
      "image/png": "[encoded data removed]",
      "text/plain": [
       "<Figure size 432x288 with 1 Axes>"
      ]
     },
     "metadata": {
      "needs_background": "light"
     },
     "output_type": "display_data"
    }
   ],
   "source": [
    "interv = np.linspace(0,3)\n",
    "plt.plot(interv, np.polyval(coefs, interv), 'b-') # 'b-' = blue (azul) + linha\n",
    "plt.grid()\n",
    "plt.show()"
   ]
  },
  {
   "cell_type": "code",
   "execution_count": null,
   "metadata": {},
   "outputs": [],
   "source": []
  }
 ],
 "metadata": {
  "kernelspec": {
   "display_name": "Python 3",
   "language": "python",
   "name": "python3"
  },
  "language_info": {
   "codemirror_mode": {
    "name": "ipython",
    "version": 3
   },
   "file_extension": ".py",
   "mimetype": "text/x-python",
   "name": "python",
   "nbconvert_exporter": "python",
   "pygments_lexer": "ipython3",
   "version": "3.8.3"
  }
 },
 "nbformat": 4,
 "nbformat_minor": 4
}
