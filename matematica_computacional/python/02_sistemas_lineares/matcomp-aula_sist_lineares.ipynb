{
 "cells": [
  {
   "cell_type": "markdown",
   "metadata": {},
   "source": [
    "![IFMG](https://storage.googleapis.com/ifmg/IFMG.png)\n",
    "\n",
    "---\n",
    "# Matemática Computacional\n",
    "\n",
    "## Sistemas Lineares\n",
    "\n",
    "- Professor: Felipe Reis\n"
   ]
  },
  {
   "cell_type": "markdown",
   "metadata": {},
   "source": [
    "---\n",
    "### Importação de bibliotecas "
   ]
  },
  {
   "cell_type": "code",
   "execution_count": 15,
   "metadata": {},
   "outputs": [],
   "source": [
    "from __future__ import division\n",
    "import numpy as np\n",
    "import matplotlib.pyplot as plt\n",
    "from numpy import linalg"
   ]
  },
  {
   "cell_type": "markdown",
   "metadata": {},
   "source": [
    "---\n",
    "## Eliminação Gaussiana \n",
    "\n",
    "### Eliminação Gaussiana via comandos Python passo-a-passo\n",
    "\n",
    "Considere o sistema linear:\n",
    "\n",
    "$x + y + z = 1$\n",
    "\n",
    "$4x + 4y + 2z = 2$\n",
    "\n",
    "$2x + y − z = 0$"
   ]
  },
  {
   "cell_type": "markdown",
   "metadata": {},
   "source": [
    "Podemos escrever ele na forma de matriz, utilizando comandos Python, com o seguinte comando"
   ]
  },
  {
   "cell_type": "code",
   "execution_count": 16,
   "metadata": {},
   "outputs": [
    {
     "name": "stdout",
     "output_type": "stream",
     "text": [
      "[[ 1.  1.  1.  1.]\n",
      " [ 4.  4.  2.  2.]\n",
      " [ 2.  1. -1.  0.]]\n"
     ]
    }
   ],
   "source": [
    "E = np.array([\n",
    "    [1, 1, 1, 1],\n",
    "    [4, 4, 2, 2],\n",
    "    [2, 1,-1, 0]], dtype='double')\n",
    "\n",
    "print(E)"
   ]
  },
  {
   "cell_type": "markdown",
   "metadata": {},
   "source": [
    "Podemos escrever cada uma das linhas (L1, L2 e L3) com os seguintes comandos"
   ]
  },
  {
   "cell_type": "code",
   "execution_count": 17,
   "metadata": {},
   "outputs": [
    {
     "name": "stdout",
     "output_type": "stream",
     "text": [
      "[1. 1. 1. 1.]\n",
      "[4. 4. 2. 2.]\n",
      "[ 2.  1. -1.  0.]\n"
     ]
    }
   ],
   "source": [
    "L1 = E[0,:]\n",
    "L2 = E[1,:]\n",
    "L3 = E[2,:]\n",
    "\n",
    "print(L1)\n",
    "print(L2)\n",
    "print(L3)"
   ]
  },
  {
   "cell_type": "markdown",
   "metadata": {},
   "source": [
    "Fazemos no primeiro passo do escalonamento as seguintes operações:\n",
    "\n",
    "* $L_2 \\leftarrow L_2 − 4 L_1$\n",
    "* $L_3 \\leftarrow L_3 − 2 L_1$"
   ]
  },
  {
   "cell_type": "code",
   "execution_count": 18,
   "metadata": {},
   "outputs": [
    {
     "name": "stdout",
     "output_type": "stream",
     "text": [
      "[ 0.  0. -2. -2.]\n",
      "[ 0. -1. -3. -2.]\n"
     ]
    }
   ],
   "source": [
    "#observação: cuidado ao rodar o script múltiplas vezes\n",
    "#o cálculo da mesma linha múltiplas vezes pode produzir resultados indesejados\n",
    "\n",
    "L2 = L2 - (4*L1)  #alternativamente, L2 -= (4L1)\n",
    "L3 -= (2*L1)\n",
    "\n",
    "print(L2)\n",
    "print(L3)"
   ]
  },
  {
   "cell_type": "markdown",
   "metadata": {},
   "source": [
    "Podemos voltar o resultado do primeiro escalonamento para a matriz original."
   ]
  },
  {
   "cell_type": "code",
   "execution_count": 19,
   "metadata": {},
   "outputs": [
    {
     "name": "stdout",
     "output_type": "stream",
     "text": [
      "[[ 1.  1.  1.  1.]\n",
      " [ 0.  0. -2. -2.]\n",
      " [ 0. -1. -3. -2.]]\n"
     ]
    }
   ],
   "source": [
    "#E[0,:] = L1\n",
    "E[1,:] = L2\n",
    "E[2,:] = L3\n",
    "\n",
    "print(E)"
   ]
  },
  {
   "cell_type": "markdown",
   "metadata": {},
   "source": [
    "### Resolução do Sistema Linear usando biblioteca Numpy\n",
    "\n",
    "* https://numpy.org/doc/stable/reference/generated/numpy.linalg.solve.html\n",
    "\n",
    "Considere o sistema linear:\n",
    "\n",
    "$x + y + z = 1$\n",
    "\n",
    "$4x + 4y + 2z = 2$\n",
    "\n",
    "$2x + y − z = 0$"
   ]
  },
  {
   "cell_type": "code",
   "execution_count": 20,
   "metadata": {},
   "outputs": [
    {
     "name": "stdout",
     "output_type": "stream",
     "text": [
      "[[ 1.  1.  1.]\n",
      " [ 4.  4.  2.]\n",
      " [ 2.  1. -1.]]\n",
      "[[1]\n",
      " [2]\n",
      " [0]]\n"
     ]
    }
   ],
   "source": [
    "A = np.array([\n",
    "    [1, 1, 1],\n",
    "    [4, 4, 2],\n",
    "    [2, 1,-1]], dtype='double')\n",
    "\n",
    "B = np.array([[1],[2],[0]])\n",
    "#B = np.array([1,2,0]) #também soluciona, porém retorna o resultado em outro formato\n",
    "\n",
    "print(A)\n",
    "print(B)"
   ]
  },
  {
   "cell_type": "code",
   "execution_count": 21,
   "metadata": {},
   "outputs": [
    {
     "name": "stdout",
     "output_type": "stream",
     "text": [
      "[[ 1.]\n",
      " [-1.]\n",
      " [ 1.]]\n"
     ]
    }
   ],
   "source": [
    "S = np.linalg.solve(A, B)\n",
    "print(S)"
   ]
  },
  {
   "cell_type": "code",
   "execution_count": 22,
   "metadata": {},
   "outputs": [
    {
     "name": "stdout",
     "output_type": "stream",
     "text": [
      "[[3. 3. 1.]\n",
      " [1. 1. 2.]\n",
      " [3. 1. 3.]]\n",
      "[[1]\n",
      " [2]\n",
      " [4]]\n",
      "[[ 0.5]\n",
      " [-0.5]\n",
      " [ 1. ]]\n"
     ]
    }
   ],
   "source": [
    "A = np.array([\n",
    "    [3, 3, 1],\n",
    "    [1, 1, 2],\n",
    "    [3, 1, 3]], dtype='double')\n",
    "\n",
    "B = np.array([[1],[2],[4]])\n",
    "#B = np.array([1,2,0]) #também soluciona, porém retorna o resultado em outro formato\n",
    "\n",
    "print(A)\n",
    "print(B)\n",
    "\n",
    "S = np.linalg.solve(A, B)\n",
    "print(S)"
   ]
  },
  {
   "cell_type": "markdown",
   "metadata": {},
   "source": [
    "---\n",
    "## Fatoração LU"
   ]
  },
  {
   "cell_type": "markdown",
   "metadata": {},
   "source": [
    "* Código disponível na página 105 do livro:\n",
    "\n",
    "Justo, D., Sauter, E., Azevedo, F., Guidi, L., and Konzen, P. H. (2020). **Cálculo Numérico, Um Livro Colaborativo - Versão Python.** UFRGS - Universidade Federal do Rio Grande do Sul. Disponível em: https://www.ufrgs.br/reamat/CalculoNumerico/livro-py/livro-py.pdf."
   ]
  },
  {
   "cell_type": "code",
   "execution_count": 23,
   "metadata": {},
   "outputs": [],
   "source": [
    "def fatoraLU(A):\n",
    "    U = np.copy(A)\n",
    "    n = np.shape(U)[0]\n",
    "    L = np.eye(n)\n",
    "    for j in np.arange(n-1):\n",
    "        for i in np.arange(j+1,n):\n",
    "            L[i,j] = U[i,j]/U[j,j]\n",
    "            for k in np.arange(j+1,n):\n",
    "                U[i,k] = U[i,k] - L[i,j]*U[j,k]\n",
    "            U[i,j] = 0\n",
    "    return L, U\n"
   ]
  },
  {
   "cell_type": "markdown",
   "metadata": {},
   "source": [
    "#### Solução do sistema linear abaixo (slide 37):\n",
    "\n",
    "$x_1 + x_2 + x_3 = -2$\n",
    "\n",
    "$2 x_1 + x_2 - x_3 = -1$\n",
    "\n",
    "$2 x_1 - x_2 + x_3 = 1$"
   ]
  },
  {
   "cell_type": "code",
   "execution_count": 24,
   "metadata": {},
   "outputs": [
    {
     "name": "stdout",
     "output_type": "stream",
     "text": [
      "Matriz L \n",
      " [[1. 0. 0.]\n",
      " [2. 1. 0.]\n",
      " [2. 3. 1.]]\n",
      "\n",
      "Matriz U \n",
      " [[ 1.  1.  1.]\n",
      " [ 0. -1. -3.]\n",
      " [ 0.  0.  8.]]\n"
     ]
    }
   ],
   "source": [
    "A = np.array([\n",
    "    [1,  1,  1],\n",
    "    [2,  1, -1],\n",
    "    [2, -1,  1]], dtype='double')\n",
    "\n",
    "L, U = fatoraLU(A)\n",
    "\n",
    "print('Matriz L \\n', L)\n",
    "print()\n",
    "print('Matriz U \\n', U)"
   ]
  },
  {
   "cell_type": "markdown",
   "metadata": {},
   "source": [
    "#### Solução do sistema linear abaixo (Ruggiero e Lopes):\n",
    "\n",
    "* Ruggiero, M. A. G. and Lopes, V. L. d. R. (2000). **Cálculo Numérico - Aspectos Teóricos e Computacionais.** Editora Makron, 2 edition.\n",
    "\n",
    "$3 x_1 + 2 x_2 + 4 x_3 = 1$\n",
    "\n",
    "$x_1 + x_2 + 2 x_3 = 2$\n",
    "  \n",
    "$4 x_1 + 3 x_2 + 2 x_3 = 3$"
   ]
  },
  {
   "cell_type": "code",
   "execution_count": 25,
   "metadata": {},
   "outputs": [
    {
     "name": "stdout",
     "output_type": "stream",
     "text": [
      "Matriz L \n",
      " [[1.         0.         0.        ]\n",
      " [0.33333333 1.         0.        ]\n",
      " [1.33333333 1.         1.        ]]\n",
      "\n",
      "Matriz U \n",
      " [[ 3.          2.          4.        ]\n",
      " [ 0.          0.33333333  0.66666667]\n",
      " [ 0.          0.         -4.        ]]\n"
     ]
    }
   ],
   "source": [
    "A = np.array([\n",
    "    [3,  2,  4],\n",
    "    [1,  1,  2],\n",
    "    [4,  3,  2]], dtype='double')\n",
    "\n",
    "L, U = fatoraLU(A)\n",
    "\n",
    "print('Matriz L \\n', L)\n",
    "print()\n",
    "print('Matriz U \\n', U)"
   ]
  },
  {
   "cell_type": "markdown",
   "metadata": {},
   "source": [
    "---\n",
    "## Método de Jacobi\n",
    "\n",
    "* Código disponível na página 124 do livro:\n",
    "\n",
    "Justo, D., Sauter, E., Azevedo, F., Guidi, L., and Konzen, P. H. (2020). **Cálculo Numérico, Um Livro Colaborativo - Versão Python.** UFRGS - Universidade Federal do Rio Grande do Sul. Disponível em: https://www.ufrgs.br/reamat/CalculoNumerico/livro-py/livro-py.pdf."
   ]
  },
  {
   "cell_type": "code",
   "execution_count": 32,
   "metadata": {},
   "outputs": [],
   "source": [
    "def jacobi(A, b, x0, tol, N):\n",
    "    #preliminares\n",
    "    A = A.astype('double')\n",
    "    b = b.astype('double')\n",
    "    x0 = x0.astype('double')\n",
    "    \n",
    "    n=np.shape(A)[0]\n",
    "    x = np.zeros(n)\n",
    "    it = 0\n",
    "    \n",
    "    arr = []\n",
    "    \n",
    "    #iteracoes\n",
    "    while (it < N):\n",
    "        it = it+1\n",
    "        #iteracao de Jacobi\n",
    "        for i in np.arange(n):\n",
    "            x[i] = b[i]\n",
    "            \n",
    "            for j in np.arange(n): \n",
    "                if(i != j):\n",
    "                    x[i] -= A[i,j]*x0[j]\n",
    "                    \n",
    "            x[i] /= A[i,i]\n",
    "        \n",
    "        arr.append(x.copy())\n",
    "        \n",
    "        #tolerancia (verifica a norma do vetor)\n",
    "        if (np.linalg.norm(x-x0,np.inf) < tol):\n",
    "            return x, arr\n",
    "        \n",
    "        #prepara nova iteracao\n",
    "        x0 = np.copy(x)\n",
    "    \n",
    "    raise NameError('num. max. de iteracoes excedido.')"
   ]
  },
  {
   "cell_type": "markdown",
   "metadata": {},
   "source": [
    "#### Solução do sistema linear abaixo (slide 57):\n",
    "\n",
    "$10x + y = 23$\n",
    "\n",
    "$x + 8y = 26$"
   ]
  },
  {
   "cell_type": "code",
   "execution_count": 33,
   "metadata": {},
   "outputs": [
    {
     "name": "stdout",
     "output_type": "stream",
     "text": [
      "[2.00000001 3.00000001]\n",
      "[array([2.3 , 3.25]), array([1.975 , 2.9625]), array([2.00375 , 3.003125]), array([1.9996875 , 2.99953125]), array([2.00004687, 3.00003906]), array([1.99999609, 2.99999414]), array([2.00000059, 3.00000049]), array([1.99999995, 2.99999993])]\n"
     ]
    }
   ],
   "source": [
    "A = np.array([\n",
    "    [10, 1,],\n",
    "    [1, 8]], dtype='double')\n",
    "\n",
    "B = np.array([[23],[26]], dtype='double')\n",
    "x0 = np.array([[0],[0]], dtype='double')\n",
    "\n",
    "x, arr = jacobi(A, B, x0, 0.0000001, 500)\n",
    "print(x)\n",
    "print(arr)"
   ]
  },
  {
   "cell_type": "code",
   "execution_count": 34,
   "metadata": {},
   "outputs": [
    {
     "name": "stdout",
     "output_type": "stream",
     "text": [
      "[2.3  3.25]\n",
      "[1.975  2.9625]\n",
      "[2.00375  3.003125]\n",
      "[1.9996875  2.99953125]\n",
      "[2.00004687 3.00003906]\n",
      "[1.99999609 2.99999414]\n",
      "[2.00000059 3.00000049]\n",
      "[1.99999995 2.99999993]\n"
     ]
    }
   ],
   "source": [
    "nx, ny = 2, 3\n",
    "\n",
    "err_x = []\n",
    "\n",
    "for a in arr:\n",
    "    err_abs_x, err_rel_x = calc_erro(nx, a[0])\n",
    "    err_abs_y, err_rel_y = calc_erro(ny, a[1])"
   ]
  },
  {
   "cell_type": "markdown",
   "metadata": {},
   "source": [
    "---\n",
    "## Método de Gauss-Seidel\n",
    "\n",
    "* Código disponível na página 126 do livro:\n",
    "\n",
    "Justo, D., Sauter, E., Azevedo, F., Guidi, L., and Konzen, P. H. (2020). **Cálculo Numérico, Um Livro Colaborativo - Versão Python.** UFRGS - Universidade Federal do Rio Grande do Sul. Disponível em: https://www.ufrgs.br/reamat/CalculoNumerico/livro-py/livro-py.pdf."
   ]
  },
  {
   "cell_type": "code",
   "execution_count": 13,
   "metadata": {},
   "outputs": [],
   "source": [
    "def gauss_seidel(A, b, x0, tol, N):\n",
    "    #preliminares\n",
    "    A = A.astype('double')\n",
    "    b = b.astype('double')\n",
    "    x0 = x0.astype('double')\n",
    "    \n",
    "    n=np.shape(A)[0]\n",
    "    x = np.copy(x0)\n",
    "    it = 0\n",
    "    \n",
    "    #iteracoes\n",
    "    while (it < N):\n",
    "        it = it+1\n",
    "        #iteracao de Gauss-Seidel\n",
    "        for i in np.arange(n):\n",
    "            x[i] = b[i]\n",
    "            \n",
    "            #gera todas as posições da matriz, exceto a diagonal principal\n",
    "            #equivalente a \"for j in np.arange(n): if(i != j):\"\n",
    "            for j in np.concatenate((np.arange(0,i),np.arange(i+1,n))):\n",
    "                x[i] -= A[i,j]*x[j]\n",
    "            x[i] /= A[i,i]\n",
    "            \n",
    "        #tolerancia (verifica a norma do vetor)\n",
    "        if (np.linalg.norm(x-x0,np.inf) < tol):\n",
    "            return x\n",
    "        \n",
    "        print(x)\n",
    "        \n",
    "        #prepara nova iteracao\n",
    "        x0 = np.copy(x)\n",
    "        \n",
    "    raise NameError('num. max. de iteracoes excedido.')"
   ]
  },
  {
   "cell_type": "markdown",
   "metadata": {},
   "source": [
    "#### Solução do sistema linear abaixo (slide 57):\n",
    "\n",
    "$10x + y = 23$\n",
    "\n",
    "$x + 8y = 26$"
   ]
  },
  {
   "cell_type": "code",
   "execution_count": 14,
   "metadata": {},
   "outputs": [
    {
     "name": "stdout",
     "output_type": "stream",
     "text": [
      "[[2.3   ]\n",
      " [2.9625]]\n",
      "[[2.00375   ]\n",
      " [2.99953125]]\n",
      "[[2.00004687]\n",
      " [2.99999414]]\n",
      "[[2.00000059]\n",
      " [2.99999993]]\n",
      "[[2.00000001]\n",
      " [3.        ]]\n"
     ]
    }
   ],
   "source": [
    "A = np.array([\n",
    "    [10, 1,],\n",
    "    [1, 8]], dtype='double')\n",
    "\n",
    "B = np.array([[23],[26]], dtype='double')\n",
    "x0 = np.array([[0],[0]], dtype='double')\n",
    "\n",
    "x = gauss_seidel(A, B, x0, 0.000001, 500)\n",
    "print(x)"
   ]
  },
  {
   "cell_type": "code",
   "execution_count": null,
   "metadata": {},
   "outputs": [],
   "source": []
  }
 ],
 "metadata": {
  "kernelspec": {
   "display_name": "Python 3",
   "language": "python",
   "name": "python3"
  },
  "language_info": {
   "codemirror_mode": {
    "name": "ipython",
    "version": 3
   },
   "file_extension": ".py",
   "mimetype": "text/x-python",
   "name": "python",
   "nbconvert_exporter": "python",
   "pygments_lexer": "ipython3",
   "version": "3.8.3"
  }
 },
 "nbformat": 4,
 "nbformat_minor": 4
}
