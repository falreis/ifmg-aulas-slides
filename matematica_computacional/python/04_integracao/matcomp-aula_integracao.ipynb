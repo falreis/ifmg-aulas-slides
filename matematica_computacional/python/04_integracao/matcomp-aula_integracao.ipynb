{
 "cells": [
  {
   "cell_type": "markdown",
   "metadata": {},
   "source": [
    "![IFMG](https://storage.googleapis.com/ifmg/IFMG.png)\n",
    "\n",
    "---\n",
    "# Matemática Computacional\n",
    "\n",
    "## Integração Numérica\n",
    "\n",
    "- Professor: Felipe Reis\n"
   ]
  },
  {
   "cell_type": "markdown",
   "metadata": {},
   "source": [
    "---\n",
    "### Importação de bibliotecas "
   ]
  },
  {
   "cell_type": "code",
   "execution_count": 1,
   "metadata": {},
   "outputs": [],
   "source": [
    "import scipy as sp\n",
    "from scipy import interpolate\n",
    "import scipy.integrate as integrate\n",
    "\n",
    "import numpy as np\n",
    "from numpy import linalg\n",
    "from numpy.polynomial import polynomial as poly\n",
    "\n",
    "import matplotlib.pyplot as plt"
   ]
  },
  {
   "cell_type": "markdown",
   "metadata": {},
   "source": [
    "---\n",
    "### Somas de Riemann\n",
    "\n",
    "Suponha a aproximação I de uma integral $I = \\int_a^b f(x) dx$\n",
    "\n",
    "#### Exemplo - Soma de Riemann à Esquerda\n",
    "\n",
    "Exemplo 9.1.1, do [livro texto](https://www.ufrgs.br/reamat/CalculoNumerico/livro-py/livro-py.pdf).\n",
    "\n",
    "Podemos aproximar a integral usando as somas de Riemann à esquerda, pela fórmula:\n",
    "\n",
    "$$S = \\sum_{i=1}^n \\Delta S_i = \\sum_{i=1}^n f(x_i) \\cdot h$$"
   ]
  },
  {
   "cell_type": "markdown",
   "metadata": {},
   "source": [
    "Suponha que queiramos aproximar a integral $I = \\int_a^b f(x) dx$, onde $f(x) = e^{-x}sin(x)$.\n",
    "\n",
    "Primeiramente, devemos representar a função f(x), usando uma função python (`def f_x(x)`) ou usando uma função lambda (um tipo de função anônima), usada para facilitar o cálculo de expressões (em alguns casos, as expressões lambdas servem também para filtrar registros).\n",
    "\n",
    "Mais informações sobre as funções lambda em Python podem ser encontradas no link abaixo:\n",
    "\n",
    "* https://www.w3schools.com/python/python_lambda.asp"
   ]
  },
  {
   "cell_type": "code",
   "execution_count": 2,
   "metadata": {},
   "outputs": [],
   "source": [
    "def f(x):\n",
    "    return np.exp(-x)*np.sin(x)\n",
    "\n",
    "f_lambda = lambda x: np.exp(-x)*np.sin(x)"
   ]
  },
  {
   "cell_type": "markdown",
   "metadata": {},
   "source": [
    "Após estabelecer f(x), podemos definir os intervalos de integração *a* e *b* e o número *n* de intervalos usados para aproximação."
   ]
  },
  {
   "cell_type": "code",
   "execution_count": 24,
   "metadata": {},
   "outputs": [],
   "source": [
    "a = 0\n",
    "b = 1\n",
    "n = 10"
   ]
  },
  {
   "cell_type": "markdown",
   "metadata": {},
   "source": [
    "Podemos calcular a integral de Riemann à esquerda, usando a fórmula descrita acima. \n",
    "\n",
    "Para isso, podemos fazer"
   ]
  },
  {
   "cell_type": "code",
   "execution_count": 21,
   "metadata": {},
   "outputs": [
    {
     "name": "stdout",
     "output_type": "stream",
     "text": [
      "Soma de Riemman à esquerda: 0.2294334884695058\n"
     ]
    }
   ],
   "source": [
    "x = np.linspace(a,b,n+1) #gera n+1 registros, no intervalo [a, b]\n",
    "h = (b-a)/n\n",
    "\n",
    "S_esq = 0\n",
    "for i in range(n):\n",
    "    S_esq += f(x[i])*h\n",
    "print(\"Soma de Riemman à esquerda:\", S_esq)"
   ]
  },
  {
   "cell_type": "markdown",
   "metadata": {},
   "source": [
    "#### Soma de Riemann à Direita e pelo Ponto Médio\n",
    "\n",
    "Podemos calcular ainda a soma de Riemann à Direita e pelo Ponto Médio, conforme códigos abaixo."
   ]
  },
  {
   "cell_type": "code",
   "execution_count": 5,
   "metadata": {},
   "outputs": [
    {
     "name": "stdout",
     "output_type": "stream",
     "text": [
      "Soma de Riemman à direita: 0.260389476034817\n",
      "Soma de Riemman pelo ponto medio: 0.24629971808937476\n"
     ]
    }
   ],
   "source": [
    "x = np.linspace(a,b,n+1) #gera n+1 registros, no intervalo [a, b]\n",
    "h = (b-a)/n\n",
    "\n",
    "S_dir = 0\n",
    "for i in range(n):\n",
    "    S_dir += f(x[i+1])*h\n",
    "print(\"Soma de Riemman à direita:\", S_dir)\n",
    "\n",
    "S_med = 0\n",
    "for i in range(n):\n",
    "    S_med += f((x[i] + x[i+1])/2)*h\n",
    "print(\"Soma de Riemman pelo ponto medio:\", S_med)"
   ]
  },
  {
   "cell_type": "markdown",
   "metadata": {},
   "source": [
    "---\n",
    "### Integral com Scipy\n",
    "\n",
    "Podemos conferir o resultado e comparar o com o cálculo da integral fornecido pela biblioteca Scipy.\n",
    "\n",
    "Para mais informações sobre integração numérica usando Scipy, consulte o link abaixo:\n",
    "\n",
    "* https://docs.scipy.org/doc/scipy/reference/tutorial/integrate.html\n",
    "\n",
    "No cálculo, usaremos a função `integrate.quad`, destinada à integração de propósito geral:\n",
    "\n",
    "* https://docs.scipy.org/doc/scipy/reference/generated/scipy.integrate.quad.html#scipy.integrate.quad\n",
    "\n",
    "A integral retorna dois valores: o valor calculado da integral e o erro numérico estimado."
   ]
  },
  {
   "cell_type": "code",
   "execution_count": 6,
   "metadata": {},
   "outputs": [
    {
     "name": "stdout",
     "output_type": "stream",
     "text": [
      "Valor integral: 0.24583700700023742\n",
      "Erro estimado: 2.7293390547659935e-15\n"
     ]
    }
   ],
   "source": [
    "integral = integrate.quad(lambda x: np.exp(-x)*np.sin(x), a=0, b=1)\n",
    "#integral = integrate.quad(f_lambda, a, b)\n",
    "\n",
    "print('Valor integral:', integral[0])\n",
    "print('Erro estimado:', integral[1])"
   ]
  },
  {
   "cell_type": "markdown",
   "metadata": {},
   "source": [
    "---\n",
    "### Fórmulas de Newton-Cotes  - Regra do Ponto Médio\n",
    "\n",
    "Suponha a aproximação I de uma integral $I = \\int_a^b f(x) dx$\n",
    "\n",
    "A Regra do Ponto Médio é dada por:\n",
    "$$ I_{PM} = h \\cdot \\frac{(a+b)}{2} \\quad \\longrightarrow \\quad I = (b-a) \\cdot \\frac{(a+b)}{2} $$"
   ]
  },
  {
   "cell_type": "code",
   "execution_count": 7,
   "metadata": {},
   "outputs": [],
   "source": [
    "####################################\n",
    "## Regra do Ponto Médio\n",
    "####################################\n",
    "\n",
    "#parâmetros de entrada\n",
    "# * f - função de cálculo\n",
    "# * a - limite inferior da integral\n",
    "# * b - limite superior da integral\n",
    "# parâmetros de saída\n",
    "# * valor aproximado da integral \n",
    "\n",
    "def regra_pt_medio(f, a, b):\n",
    "    return (b-a) * f((a+b)/2)"
   ]
  },
  {
   "cell_type": "markdown",
   "metadata": {},
   "source": [
    "#### Exemplo - Regra do Ponto Médio\n",
    "\n",
    "Exemplo 9.1.1, do [livro texto](https://www.ufrgs.br/reamat/CalculoNumerico/livro-py/livro-py.pdf)."
   ]
  },
  {
   "cell_type": "code",
   "execution_count": 8,
   "metadata": {},
   "outputs": [
    {
     "name": "stdout",
     "output_type": "stream",
     "text": [
      "0.29078628821269187\n"
     ]
    }
   ],
   "source": [
    "def f(x):\n",
    "    return np.exp(-x)*np.sin(x)\n",
    "\n",
    "IPM = regra_pt_medio(f, a=0, b=1)\n",
    "print(IPM)"
   ]
  },
  {
   "cell_type": "markdown",
   "metadata": {},
   "source": [
    "#### Exemplo - Regra do Ponto Médio\n",
    "\n",
    "Exemplo 9.2.1, do [livro texto](https://www.ufrgs.br/reamat/CalculoNumerico/livro-py/livro-py.pdf)."
   ]
  },
  {
   "cell_type": "code",
   "execution_count": 9,
   "metadata": {},
   "outputs": [
    {
     "name": "stdout",
     "output_type": "stream",
     "text": [
      "0.03253133816306783\n"
     ]
    }
   ],
   "source": [
    "#integral pela regra do ponto médio\n",
    "f_lambda = lambda x: np.exp(-x)*np.sin(x)\n",
    "\n",
    "IPM = regra_pt_medio(f_lambda, a=0.1, b=0.3)\n",
    "print(IPM)"
   ]
  },
  {
   "cell_type": "code",
   "execution_count": 10,
   "metadata": {},
   "outputs": [
    {
     "name": "stdout",
     "output_type": "stream",
     "text": [
      "(0.03199628954846014, 3.5523017359273705e-16)\n"
     ]
    }
   ],
   "source": [
    "#integral usando scipy\n",
    "Iscipy = integrate.quad(f_lambda, a=0.1, b=0.3)\n",
    "print(Iscipy)"
   ]
  },
  {
   "cell_type": "markdown",
   "metadata": {},
   "source": [
    "---\n",
    "### Fórmulas de Newton-Cotes  - Regra do Trapézio\n",
    "\n",
    "Suponha a aproximação I de uma integral $I = \\int_a^b f(x) dx$\n",
    "\n",
    "A Regra do Trapézio é dada por:\n",
    "$$ I_{T} = \\frac{h}{2} (f(a) + f(b)) $$"
   ]
  },
  {
   "cell_type": "code",
   "execution_count": 11,
   "metadata": {},
   "outputs": [],
   "source": [
    "####################################\n",
    "## Regra do Trapézio\n",
    "####################################\n",
    "\n",
    "#parâmetros de entrada\n",
    "# * f - função de cálculo\n",
    "# * a - limite inferior da integral\n",
    "# * b - limite superior da integral\n",
    "# parâmetros de saída\n",
    "# * valor aproximado da integral \n",
    "\n",
    "def regra_trapezio(f, a, b):\n",
    "    return ((b-a)/2) * (f(a) + f(b))"
   ]
  },
  {
   "cell_type": "markdown",
   "metadata": {},
   "source": [
    "#### Exemplo - Regra do Trapézio\n",
    "\n",
    "Exemplo 9.1.1, do [livro texto](https://www.ufrgs.br/reamat/CalculoNumerico/livro-py/livro-py.pdf)."
   ]
  },
  {
   "cell_type": "code",
   "execution_count": 12,
   "metadata": {},
   "outputs": [
    {
     "name": "stdout",
     "output_type": "stream",
     "text": [
      "0.1547799378265561\n"
     ]
    }
   ],
   "source": [
    "def f(x):\n",
    "    return np.exp(-x)*np.sin(x)\n",
    "\n",
    "IT = 0\n",
    "for i in range(0, 10):\n",
    "    IT += regra_trapezio(f, a=i/10, b=(i+1)/10)\n",
    "print(IT)"
   ]
  },
  {
   "cell_type": "markdown",
   "metadata": {},
   "source": [
    "#### Exemplo - Regra do Trapézio\n",
    "\n",
    "Exemplo 9.2.2, do [livro texto](https://www.ufrgs.br/reamat/CalculoNumerico/livro-py/livro-py.pdf)."
   ]
  },
  {
   "cell_type": "code",
   "execution_count": 13,
   "metadata": {},
   "outputs": [
    {
     "name": "stdout",
     "output_type": "stream",
     "text": [
      "0.6839397205857212\n"
     ]
    }
   ],
   "source": [
    "def f(x):\n",
    "    return np.exp(-(x**2))\n",
    "\n",
    "IT = regra_trapezio(f, a=0, b=1)\n",
    "print(IT)"
   ]
  },
  {
   "cell_type": "markdown",
   "metadata": {},
   "source": [
    "#### Exemplo - Regra do Trapézio\n",
    "\n",
    "Exemplo Slide 26"
   ]
  },
  {
   "cell_type": "code",
   "execution_count": 14,
   "metadata": {},
   "outputs": [
    {
     "name": "stdout",
     "output_type": "stream",
     "text": [
      "3.4285714285714284\n"
     ]
    }
   ],
   "source": [
    "IT = regra_trapezio(lambda x: 1/x, a=1, b=7)\n",
    "print(IT)"
   ]
  },
  {
   "cell_type": "code",
   "execution_count": 15,
   "metadata": {},
   "outputs": [
    {
     "name": "stdout",
     "output_type": "stream",
     "text": [
      "1.9459101490553132\n"
     ]
    }
   ],
   "source": [
    "i_scipy = integrate.quad(lambda x: 1/x, a=1, b=7)\n",
    "print(i_scipy[0])"
   ]
  },
  {
   "cell_type": "markdown",
   "metadata": {},
   "source": [
    "---\n",
    "### Fórmulas de Newton-Cotes  - Regra do Simpson\n",
    "\n",
    "Suponha a aproximação I de uma integral $I = \\int_a^b f(x) dx$\n",
    "\n",
    "A Regra do Simpson é dada por:\n",
    "$$ I_S = \\frac{(b-a)}{6} \\left(f(a) + 4f\\left(\\frac{a+b}{2}\\right) + f(b) \\right) $$"
   ]
  },
  {
   "cell_type": "code",
   "execution_count": 16,
   "metadata": {},
   "outputs": [],
   "source": [
    "####################################\n",
    "## Regra de Simpson\n",
    "####################################\n",
    "\n",
    "#parâmetros de entrada\n",
    "# * f - função de cálculo\n",
    "# * a - limite inferior da integral\n",
    "# * b - limite superior da integral\n",
    "# parâmetros de saída\n",
    "# * valor aproximado da integral \n",
    "\n",
    "def regra_simpson(f, a, b):\n",
    "    return ((b-a)/6) * (f(a) + (4 * f((a+b)/2)) + f(b)) "
   ]
  },
  {
   "cell_type": "markdown",
   "metadata": {},
   "source": [
    "#### Exemplo - Regra de Simpson\n",
    "\n",
    "Exemplo 9.1.1, do [livro texto](https://www.ufrgs.br/reamat/CalculoNumerico/livro-py/livro-py.pdf)."
   ]
  },
  {
   "cell_type": "code",
   "execution_count": 27,
   "metadata": {},
   "outputs": [
    {
     "name": "stdout",
     "output_type": "stream",
     "text": [
      "0.24545083808397994\n"
     ]
    }
   ],
   "source": [
    "def f(x):\n",
    "    return np.exp(-x)*np.sin(x)\n",
    "\n",
    "IS = regra_simpson(f, a=0, b=1)\n",
    "print(IS)"
   ]
  },
  {
   "cell_type": "markdown",
   "metadata": {},
   "source": [
    "#### Exemplo - Regra de Simpson\n",
    "\n",
    "Exemplo 9.2.2, do [livro texto](https://www.ufrgs.br/reamat/CalculoNumerico/livro-py/livro-py.pdf)."
   ]
  },
  {
   "cell_type": "code",
   "execution_count": 18,
   "metadata": {},
   "outputs": [
    {
     "name": "stdout",
     "output_type": "stream",
     "text": [
      "0.7471804289095104\n"
     ]
    }
   ],
   "source": [
    "IS = regra_simpson(lambda x: np.exp(-(x**2)), a=0, b=1)\n",
    "print(IS)"
   ]
  },
  {
   "cell_type": "markdown",
   "metadata": {},
   "source": [
    "#### Exemplo - Regra de Simpson\n",
    "\n",
    "Exemplo Slide 26"
   ]
  },
  {
   "cell_type": "code",
   "execution_count": 19,
   "metadata": {},
   "outputs": [
    {
     "name": "stdout",
     "output_type": "stream",
     "text": [
      "2.142857142857143\n"
     ]
    }
   ],
   "source": [
    "IT = regra_simpson(lambda x: 1/x, a=1, b=7)\n",
    "print(IT)"
   ]
  },
  {
   "cell_type": "code",
   "execution_count": null,
   "metadata": {},
   "outputs": [],
   "source": []
  }
 ],
 "metadata": {
  "kernelspec": {
   "display_name": "Python 3",
   "language": "python",
   "name": "python3"
  },
  "language_info": {
   "codemirror_mode": {
    "name": "ipython",
    "version": 3
   },
   "file_extension": ".py",
   "mimetype": "text/x-python",
   "name": "python",
   "nbconvert_exporter": "python",
   "pygments_lexer": "ipython3",
   "version": "3.8.3"
  }
 },
 "nbformat": 4,
 "nbformat_minor": 4
}
