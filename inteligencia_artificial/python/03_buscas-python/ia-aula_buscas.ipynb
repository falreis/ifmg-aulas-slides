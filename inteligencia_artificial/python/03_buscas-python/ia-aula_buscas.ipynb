{
 "cells": [
  {
   "cell_type": "markdown",
   "metadata": {
    "id": "smy50IRT1Tmz"
   },
   "source": [
    "![IFMG](https://storage.googleapis.com/ifmg/IFMG.png)\n",
    "\n",
    "---\n",
    "# Inteligência Artificial\n",
    "\n",
    "## Métodos de Busca\n",
    "\n",
    "### Professor: Felipe Reis\n"
   ]
  },
  {
   "cell_type": "markdown",
   "metadata": {
    "id": "94Q1X6-H1Tm1"
   },
   "source": [
    "---\n",
    "### Informações Iniciais\n",
    "\n",
    "O presente tutorial tem como objetivo estudar os seguintes algoritmos:\n",
    "\n",
    "* Busca em Largura\n",
    "* Busca em Profundidade\n",
    "* Busca com Profundidade Limitada\n",
    "\n",
    "#### Referências\n",
    "\n",
    "O tutorial abaixo foi inspirado nas seguintes links:\n",
    "\n",
    "* Ben Coppin. **Artificial Intelligence Illuminated, 1st edition**. 2004. Jones and Bartlett Publishers.\n",
    "\n",
    "* Stuart Russel e Peter Norvig. **Inteligência artificial, 3a edição**. 2013. Campus - Elsevier.\n",
    "\n",
    "* Shivali Bhadaniya. **Depth First Search in Python (with Code) | DFS Algorithm**. 2020. Disponível em: https://favtutor.com/blogs/depth-first-search-python\n",
    "\n",
    "* Abhilash Bandla. **How to implement Breadth First Search algorithm in Python**. Disponível em: https://www.codespeedy.com/breadth-first-search-algorithm-in-python/"
   ]
  },
  {
   "cell_type": "markdown",
   "metadata": {
    "id": "4bfeiAJc1TnR"
   },
   "source": [
    "### Importação de bibliotecas "
   ]
  },
  {
   "cell_type": "code",
   "execution_count": 1,
   "metadata": {
    "executionInfo": {
     "elapsed": 662,
     "status": "ok",
     "timestamp": 1602675001556,
     "user": {
      "displayName": "Felipe Augusto Lima Reis",
      "photoUrl": "https://lh3.googleusercontent.com/a-/AOh14GgmuJ275x7vlGLqN7Ms6LW-c6fuWOg24u3W2f2d=s64",
      "userId": "04303091859947772173"
     },
     "user_tz": 180
    },
    "id": "xSeC-myg1TnT"
   },
   "outputs": [],
   "source": [
    "import numpy as np\n",
    "import numpy.random as rd\n",
    "import operator \n",
    "import matplotlib.pyplot as plt\n",
    "\n",
    "import networkx as nx\n",
    "\n",
    "from queue import LifoQueue as Stack\n",
    "from queue import Queue"
   ]
  },
  {
   "cell_type": "markdown",
   "metadata": {},
   "source": [
    "---\n",
    "# Representação de Grafos\n",
    "\n",
    "Podemos representar grafos usando a biblioteca NetworkX.\n",
    "\n",
    "Para mais informações, acesse https://networkx.org/"
   ]
  },
  {
   "cell_type": "code",
   "execution_count": 2,
   "metadata": {},
   "outputs": [],
   "source": [
    "#podemos representar um grafo como uma matriz de adjacencias\n",
    "matriz_adj = {\n",
    " '1': [],\n",
    " '2': [],\n",
    " '3': ['2', '4'],\n",
    " '4': [],\n",
    " '5': ['3','7','8'],\n",
    " '6': ['9'],\n",
    " '7': ['1'],\n",
    " '8': ['6'],\n",
    " '9': []\n",
    "}"
   ]
  },
  {
   "cell_type": "code",
   "execution_count": 3,
   "metadata": {},
   "outputs": [],
   "source": [
    "#gera um grafo usando biblioteca networkx\n",
    "#essa biblioteca permite a representação visual de um grafo\n",
    "\n",
    "def gera_grafo(adj_matrix):\n",
    "    G = nx.Graph()\n",
    "\n",
    "    #percorre matriz de adjacencias para gerar grafo\n",
    "    for node in adj_matrix:\n",
    "        G.add_node(node) #adiciona nós\n",
    "        \n",
    "        for edge in adj_matrix[node]:\n",
    "            G.add_edge(node, edge) #adiciona arestas\n",
    "    \n",
    "    return G"
   ]
  },
  {
   "cell_type": "code",
   "execution_count": 4,
   "metadata": {},
   "outputs": [
    {
     "data": {
      "image/png": "[encoded data removed]",
      "text/plain": [
       "<Figure size 432x288 with 1 Axes>"
      ]
     },
     "metadata": {},
     "output_type": "display_data"
    }
   ],
   "source": [
    "#imprime representacao de um grafo\n",
    "G = gera_grafo(matriz_adj)\n",
    "nx.draw(G, with_labels=True, font_weight='bold')"
   ]
  },
  {
   "cell_type": "markdown",
   "metadata": {},
   "source": [
    "---\n",
    "# Busca Básica"
   ]
  },
  {
   "cell_type": "markdown",
   "metadata": {
    "id": "Sb--KlDy1TnY"
   },
   "source": [
    "## Busca em Largura"
   ]
  },
  {
   "cell_type": "code",
   "execution_count": 5,
   "metadata": {},
   "outputs": [],
   "source": [
    "def busca_largura(graph, initial):\n",
    "    visited = []\n",
    "    queue = [initial]\n",
    "    \n",
    "    while queue:\n",
    "        node = queue.pop(0) #implementação de fila\n",
    "        \n",
    "        if node not in visited:\n",
    "            visited.append(node)\n",
    "            neighbours = graph[node]\n",
    "            \n",
    "            for neighbour in neighbours:\n",
    "                queue.append(neighbour)\n",
    "    return visited"
   ]
  },
  {
   "cell_type": "code",
   "execution_count": 6,
   "metadata": {},
   "outputs": [
    {
     "name": "stdout",
     "output_type": "stream",
     "text": [
      "['5', '3', '7', '8', '2', '4', '1', '6', '9']\n"
     ]
    }
   ],
   "source": [
    "graph = matriz_adj.copy()\n",
    "print(busca_largura(graph,'5'))"
   ]
  },
  {
   "cell_type": "markdown",
   "metadata": {},
   "source": [
    "## Busca em Profundidade"
   ]
  },
  {
   "cell_type": "markdown",
   "metadata": {},
   "source": [
    "### Busca em Profundidade baseada na Busca em Largura"
   ]
  },
  {
   "cell_type": "markdown",
   "metadata": {},
   "source": [
    "Para implementar uma Busca em Profundidade, baseado no método de Busca em Largura, basta alterar a fila por uma pilha, no comando abaixo.\n",
    "\n",
    "```\n",
    "node = queue.pop() #implementação de pilha\n",
    "```\n",
    "\n",
    "Apesar da busca iniciar da direita para esquerda, ela continua sendo classificada como uma busca em profundidade."
   ]
  },
  {
   "cell_type": "code",
   "execution_count": 7,
   "metadata": {},
   "outputs": [],
   "source": [
    "#implementação da busca em profundidade, baseado no código de busca em largura\n",
    "def busca_profundidade(graph, initial):\n",
    "    visited = []\n",
    "    queue = [initial]\n",
    "    \n",
    "    while queue:\n",
    "        node = queue.pop() #implementação de pilha\n",
    "        \n",
    "        if node not in visited:\n",
    "            visited.append(node)\n",
    "            neighbours = graph[node]\n",
    "            \n",
    "            for neighbour in neighbours:\n",
    "                queue.append(neighbour)\n",
    "    return visited"
   ]
  },
  {
   "cell_type": "code",
   "execution_count": 8,
   "metadata": {},
   "outputs": [
    {
     "name": "stdout",
     "output_type": "stream",
     "text": [
      "['5', '8', '6', '9', '7', '1', '3', '4', '2']\n"
     ]
    }
   ],
   "source": [
    "graph = matriz_adj.copy()\n",
    "print(busca_profundidade(graph,'5'))"
   ]
  },
  {
   "cell_type": "markdown",
   "metadata": {},
   "source": [
    "### Busca em Profundidade Recursiva"
   ]
  },
  {
   "cell_type": "code",
   "execution_count": 9,
   "metadata": {},
   "outputs": [],
   "source": [
    "def busca_profundidade_recursiva(matriz_adj, node):\n",
    "    visited = []\n",
    "    \n",
    "    if node not in visited:\n",
    "        visited.append(node)\n",
    "        \n",
    "        for neighbour in matriz_adj[node]:\n",
    "            vis = busca_profundidade_recursiva(matriz_adj, neighbour)\n",
    "            \n",
    "            if(vis != None): #nó folha\n",
    "                visited.extend(vis)\n",
    "                \n",
    "    return visited"
   ]
  },
  {
   "cell_type": "code",
   "execution_count": 10,
   "metadata": {},
   "outputs": [
    {
     "name": "stdout",
     "output_type": "stream",
     "text": [
      "['5', '3', '2', '4', '7', '1', '8', '6', '9']\n"
     ]
    }
   ],
   "source": [
    "graph = matriz_adj.copy()\n",
    "print(busca_profundidade_recursiva(matriz_adj, '5'))"
   ]
  },
  {
   "cell_type": "markdown",
   "metadata": {},
   "source": [
    "## Busca com Profundidade Limitada"
   ]
  },
  {
   "cell_type": "code",
   "execution_count": 11,
   "metadata": {},
   "outputs": [],
   "source": [
    "def busca_profundidade_limitada(matriz_adj, node, max_prof):\n",
    "    visited = []\n",
    "    \n",
    "    if(max_prof >= 0):\n",
    "        max_prof -= 1\n",
    "    \n",
    "        if node not in visited:\n",
    "            visited.append(node)\n",
    "\n",
    "            for neighbour in matriz_adj[node]:\n",
    "                vis = busca_profundidade_limitada(matriz_adj, neighbour, max_prof)\n",
    "                \n",
    "                if(vis != None): #nó folha\n",
    "                    visited.extend(vis)\n",
    "                \n",
    "    return visited"
   ]
  },
  {
   "cell_type": "code",
   "execution_count": 12,
   "metadata": {},
   "outputs": [
    {
     "name": "stdout",
     "output_type": "stream",
     "text": [
      "['5', '3', '7', '8']\n"
     ]
    }
   ],
   "source": [
    "graph = matriz_adj.copy()\n",
    "print(busca_profundidade_limitada(matriz_adj, '5', 1))"
   ]
  },
  {
   "cell_type": "markdown",
   "metadata": {},
   "source": [
    "---\n",
    "---\n",
    "# Grafos - Distâncias Cidades Romênia"
   ]
  },
  {
   "cell_type": "markdown",
   "metadata": {},
   "source": [
    "Reprodução do grafo contendo distâncias reais entre algumas cidades da Romênia (slide 48). \n",
    "\n",
    "Referências:\n",
    "* Johnson, M. (2008). Informed search methods. [Online]; acessado em 06 de JUlho de 2021. Disponível em: https://www.massey.ac.nz/~mjjohnso/notes/59302/l04.html.\n",
    "* Russel, S. and Norvig, P. (2013). Inteligência artificial. Campus - Elsevier, 3 edition."
   ]
  },
  {
   "cell_type": "code",
   "execution_count": 13,
   "metadata": {},
   "outputs": [
    {
     "name": "stdout",
     "output_type": "stream",
     "text": [
      "\n"
     ]
    }
   ],
   "source": [
    "cidades = {\n",
    "    \"Arad\": (-4, 4),\n",
    "    \"Zerind\": (-3.8, 5), \n",
    "    \"Oradea\": (-3.5, 6), \n",
    "    \"Timisoara\": (-3.9, 2), \n",
    "    \"Lugoj\": (-3, 1), \n",
    "    \"Mehadia\": (-3, 0),\n",
    "    \"Dobreta\": (-3, -1), \n",
    "    \"Craiova\": (-2, -1), \n",
    "    \"Rimnicu\": (-2.3, 2), \n",
    "    \"Pitesti\": (-1, 1), \n",
    "    \"Sibiu\": (-2.5, 3), \n",
    "    \"Fagaras\": (-1.5, 3),\n",
    "    \"Bucharest\": (0, 0),\n",
    "    \"Giurgiu\": (-0.5, -1),\n",
    "    \"Urziceni\": (1, 0.5),\n",
    "    \"Vaslui\": (2, 3),\n",
    "    \"Iasi\": (1, 5),\n",
    "    \"Neamt\": (0, 6),\n",
    "    \"Hirsova\": (2, 0.5),\n",
    "    \"Eforie\": (3, -1)\n",
    "}\n",
    "\n",
    "distancias ={\n",
    "    \"Arad\": [(\"Sibiu\", 140), (\"Zerind\", 75), (\"Timisoara\", 118)],\n",
    "    \"Zerind\": [(\"Oradea\", 71), (\"Arad\", 75)],\n",
    "    \"Oradea\": [(\"Sibiu\", 151), (\"Zerind\", 71)],\n",
    "    \"Timisoara\": [(\"Arad\", 118), (\"Lugoj\", 111)],\n",
    "    \"Lugoj\": [(\"Timisoara\", 111), (\"Mehadia\", 70)],\n",
    "    \"Mehadia\": [(\"Lugoj\", 70), (\"Dobreta\",75)],\n",
    "    \"Dobreta\": [(\"Mehadia\", 75), (\"Craiova\", 120)],\n",
    "    \"Craiova\": [(\"Dobreta\", 120), (\"Rimnicu\", 146), (\"Pitesti\", 138)],\n",
    "    \"Rimnicu\": [(\"Craiova\", 146), (\"Sibiu\", 80), (\"Pitesti\", 97)], \n",
    "    \"Pitesti\": [(\"Craiova\", 138), (\"Rimnicu\", 97), (\"Bucharest\", 101)],\n",
    "    \"Sibiu\": [(\"Rimnicu\", 80), (\"Oradea\", 151), (\"Arad\", 140), (\"Fagaras\", 99)],\n",
    "    \"Fagaras\": [(\"Sibiu\", 99), (\"Bucharest\", 211)],\n",
    "    \"Bucharest\": [(\"Fagaras\", 211), (\"Pitesti\", 101), (\"Giurgiu\", 90), (\"Urziceni\", 85)],\n",
    "    \"Giurgiu\": [(\"Bucharest\", 90)],\n",
    "    \"Urziceni\": [(\"Bucharest\", 85), (\"Vaslui\", 142), (\"Hirsova\", 98)],\n",
    "    \"Vaslui\": [(\"Urziceni\", 142), (\"Iasi\", 92)],\n",
    "    \"Iasi\": [(\"Vaslui\", 92), (\"Neamt\", 87)], \n",
    "    \"Neamt\": [(\"Iasi\", 87)], \n",
    "    \"Hirsova\": [(\"Urziceni\", 98), (\"Eforie\", 86)],\n",
    "    \"Eforie\": [(\"Hirsova\", 86)],\n",
    "}\n",
    "\n",
    "G = nx.Graph()\n",
    "print(G)\n",
    "\n",
    "for c in cidades:\n",
    "    G.add_node(c, pos=cidades[c])\n",
    "    #print(c, cidades[c])\n",
    "    \n",
    "for origem in distancias:\n",
    "    for destino, peso in distancias[origem]:\n",
    "        G.add_edge(origem, destino, weight=peso)\n",
    "        #print(origem, destino, peso)"
   ]
  },
  {
   "cell_type": "markdown",
   "metadata": {},
   "source": [
    "Plota o gráfico criado."
   ]
  },
  {
   "cell_type": "code",
   "execution_count": 14,
   "metadata": {},
   "outputs": [
    {
     "data": {
      "text/plain": [
       "{('Arad', 'Sibiu'): Text(-3.25, 3.5, '140'),\n",
       " ('Arad', 'Zerind'): Text(-3.9, 4.5, '75'),\n",
       " ('Arad', 'Timisoara'): Text(-3.95, 3.0, '118'),\n",
       " ('Zerind', 'Oradea'): Text(-3.65, 5.5, '71'),\n",
       " ('Oradea', 'Sibiu'): Text(-3.0, 4.5, '151'),\n",
       " ('Timisoara', 'Lugoj'): Text(-3.45, 1.5, '111'),\n",
       " ('Lugoj', 'Mehadia'): Text(-3.0, 0.5, '70'),\n",
       " ('Mehadia', 'Dobreta'): Text(-3.0, -0.5, '75'),\n",
       " ('Dobreta', 'Craiova'): Text(-2.5, -1.0, '120'),\n",
       " ('Craiova', 'Rimnicu'): Text(-2.15, 0.5, '146'),\n",
       " ('Craiova', 'Pitesti'): Text(-1.5, 0.0, '138'),\n",
       " ('Rimnicu', 'Sibiu'): Text(-2.4, 2.5, '80'),\n",
       " ('Rimnicu', 'Pitesti'): Text(-1.65, 1.5, '97'),\n",
       " ('Pitesti', 'Bucharest'): Text(-0.5, 0.5, '101'),\n",
       " ('Sibiu', 'Fagaras'): Text(-2.0, 3.0, '99'),\n",
       " ('Fagaras', 'Bucharest'): Text(-0.75, 1.5, '211'),\n",
       " ('Bucharest', 'Giurgiu'): Text(-0.25, -0.5, '90'),\n",
       " ('Bucharest', 'Urziceni'): Text(0.5, 0.25, '85'),\n",
       " ('Urziceni', 'Vaslui'): Text(1.5, 1.75, '142'),\n",
       " ('Urziceni', 'Hirsova'): Text(1.5, 0.5, '98'),\n",
       " ('Vaslui', 'Iasi'): Text(1.5, 4.0, '92'),\n",
       " ('Iasi', 'Neamt'): Text(0.5, 5.5, '87'),\n",
       " ('Hirsova', 'Eforie'): Text(2.5, -0.25, '86')}"
      ]
     },
     "execution_count": 14,
     "metadata": {},
     "output_type": "execute_result"
    },
    {
     "data": {
      "image/png": "[encoded data removed]",
      "text/plain": [
       "<Figure size 1080x576 with 1 Axes>"
      ]
     },
     "metadata": {},
     "output_type": "display_data"
    }
   ],
   "source": [
    "pos=nx.get_node_attributes(G,'pos')\n",
    "labels = nx.get_edge_attributes(G,'weight')\n",
    "\n",
    "plt.figure(figsize=(15,8)) \n",
    "nx.draw(G, pos=pos, with_labels=True, font_weight='bold')\n",
    "nx.draw_networkx_edge_labels(G, pos=pos, edge_labels=labels)"
   ]
  },
  {
   "cell_type": "markdown",
   "metadata": {},
   "source": [
    "Para implementação da busca A*, precisamos criar uma função heurística.\n",
    "\n",
    "A função a ser criada, será implementada apenas como uma lista, com a distância até Bucareste."
   ]
  },
  {
   "cell_type": "code",
   "execution_count": 15,
   "metadata": {},
   "outputs": [],
   "source": [
    "def h_cidade(cidade_atual, destino='Bucharest'):\n",
    "    hx = {\n",
    "        \"Arad\": 366, #366\n",
    "        \"Zerind\": 374,\n",
    "        \"Oradea\": 380,\n",
    "        \"Timisoara\": 329,\n",
    "        \"Lugoj\": 244,\n",
    "        \"Mehadia\": 241,\n",
    "        \"Dobreta\": 242,\n",
    "        \"Craiova\": 160,\n",
    "        \"Rimnicu\": 193,\n",
    "        \"Pitesti\": 100,\n",
    "        \"Sibiu\": 253,\n",
    "        \"Fagaras\": 176,\n",
    "        \"Bucharest\": 0,\n",
    "        \"Giurgiu\": 77,\n",
    "        \"Urziceni\": 80,\n",
    "        \"Vaslui\": 199,\n",
    "        \"Iasi\": 226,\n",
    "        \"Neamt\": 234,\n",
    "        \"Hirsova\": 151,\n",
    "        \"Eforie\": 161\n",
    "    }\n",
    "    return hx[cidade_atual]"
   ]
  },
  {
   "cell_type": "markdown",
   "metadata": {},
   "source": [
    "### Buscas A* e Dijkstra\n",
    "\n",
    "Podemos definir a origem, destino e aplicar os métodos de Dijkstra e A*.\n",
    "\n",
    "Para maiores detalhes sobre os métodos de busca, acesse a [lista de algoritmos](https://networkx.org/documentation/networkx-1.10/reference/algorithms.shortest_paths.html) da biblioteca NetworkX."
   ]
  },
  {
   "cell_type": "code",
   "execution_count": 16,
   "metadata": {},
   "outputs": [],
   "source": [
    "origem = 'Timisoara'\n",
    "destino = 'Bucharest'"
   ]
  },
  {
   "cell_type": "markdown",
   "metadata": {},
   "source": [
    "#### Busca A*\n",
    "\n",
    "Links:\n",
    "- https://networkx.org/documentation/networkx-1.10/reference/generated/networkx.algorithms.shortest_paths.astar.astar_path.html\n",
    "- https://networkx.org/documentation/networkx-1.10/reference/generated/networkx.algorithms.shortest_paths.astar.astar_path_length.html"
   ]
  },
  {
   "cell_type": "code",
   "execution_count": 17,
   "metadata": {},
   "outputs": [
    {
     "name": "stdout",
     "output_type": "stream",
     "text": [
      "['Timisoara', 'Arad', 'Sibiu', 'Rimnicu', 'Pitesti', 'Bucharest']\n",
      "536\n"
     ]
    }
   ],
   "source": [
    "print(nx.astar_path(G, origem, destino, heuristic=h_cidade))\n",
    "print(nx.astar_path_length(G, origem, destino, heuristic=h_cidade))"
   ]
  },
  {
   "cell_type": "markdown",
   "metadata": {},
   "source": [
    "#### Algoritmo de Dijkstra\n",
    "\n",
    "Links:\n",
    "- https://networkx.org/documentation/networkx-1.10/reference/generated/networkx.algorithms.shortest_paths.weighted.dijkstra_path.html\n",
    "- https://networkx.org/documentation/networkx-1.10/reference/generated/networkx.algorithms.shortest_paths.weighted.dijkstra_path_length.html"
   ]
  },
  {
   "cell_type": "code",
   "execution_count": 18,
   "metadata": {},
   "outputs": [
    {
     "name": "stdout",
     "output_type": "stream",
     "text": [
      "['Timisoara', 'Arad', 'Sibiu', 'Rimnicu', 'Pitesti', 'Bucharest']\n",
      "536\n"
     ]
    }
   ],
   "source": [
    "print(nx.dijkstra_path(G, origem, destino))\n",
    "print(nx.dijkstra_path_length(G, origem, destino))"
   ]
  },
  {
   "cell_type": "markdown",
   "metadata": {},
   "source": [
    "#### Dijkstra Bidirecional\n",
    "\n",
    "Links:\n",
    "https://networkx.org/documentation/networkx-1.10/reference/generated/networkx.algorithms.shortest_paths.weighted.bidirectional_dijkstra.html"
   ]
  },
  {
   "cell_type": "code",
   "execution_count": 19,
   "metadata": {},
   "outputs": [
    {
     "name": "stdout",
     "output_type": "stream",
     "text": [
      "(536, ['Timisoara', 'Arad', 'Sibiu', 'Rimnicu', 'Pitesti', 'Bucharest'])\n"
     ]
    }
   ],
   "source": [
    "print(nx.bidirectional_dijkstra(G, origem, destino))"
   ]
  },
  {
   "cell_type": "markdown",
   "metadata": {},
   "source": [
    "---\n",
    "# Busca Informada"
   ]
  },
  {
   "cell_type": "markdown",
   "metadata": {},
   "source": [
    "## Best-First Search (BFS)"
   ]
  },
  {
   "cell_type": "markdown",
   "metadata": {},
   "source": [
    "Implementação do BFS recursivo, com o mínimo de recursos possíveis."
   ]
  },
  {
   "cell_type": "code",
   "execution_count": 20,
   "metadata": {},
   "outputs": [],
   "source": [
    "def simple_bfs(origem, destino='Bucharest'):\n",
    "    print(origem)\n",
    "    \n",
    "    if(origem != destino):        \n",
    "        adjacentes, pesos = [], []\n",
    "\n",
    "        #percorre a lista de nós adjacentes\n",
    "        for dist, cr in distancias[origem]:\n",
    "            adjacentes.append(dist)\n",
    "            pesos.append(h_cidade(dist)) #adciona pesos da heurística\n",
    "\n",
    "        #seleciona o índice do nó de menor custo\n",
    "        index = np.argmin(pesos)\n",
    "        \n",
    "        #adiciona ao caminho atual\n",
    "        next_node = adjacentes[index]\n",
    "        \n",
    "        #executa o BFS recursivamente\n",
    "        simple_bfs(next_node, destino)"
   ]
  },
  {
   "cell_type": "code",
   "execution_count": 21,
   "metadata": {},
   "outputs": [
    {
     "name": "stdout",
     "output_type": "stream",
     "text": [
      "Timisoara\n",
      "Lugoj\n",
      "Mehadia\n",
      "Dobreta\n",
      "Craiova\n",
      "Pitesti\n",
      "Bucharest\n"
     ]
    }
   ],
   "source": [
    "simple_bfs('Timisoara')"
   ]
  },
  {
   "cell_type": "markdown",
   "metadata": {},
   "source": [
    "Implementação do BFS recursivo, retornando o custo e o caminho."
   ]
  },
  {
   "cell_type": "code",
   "execution_count": 22,
   "metadata": {},
   "outputs": [],
   "source": [
    "def bfs_recursivo(origem, destino='Bucharest'):\n",
    "    path_bfs, custo_bfs = [], []\n",
    "    path_bfs.append(origem)\n",
    "    \n",
    "    if(origem != destino):\n",
    "        adjacentes, pesos, custos = [], [], []\n",
    "\n",
    "        #percorre a lista de nós adjacentes\n",
    "        for nome, custo_real in distancias[origem]:\n",
    "            adjacentes.append(nome)\n",
    "            custos.append(custo_real)\n",
    "            pesos.append(h_cidade(nome)) #adciona pesos da heurística\n",
    "\n",
    "        #seleciona o índice do nó de menor custo\n",
    "        index = np.argmin(pesos)\n",
    "        \n",
    "        #adiciona ao caminho atual\n",
    "        next_node = adjacentes[index]\n",
    "        custo_bfs.append(custos[index])\n",
    "        \n",
    "        #executa o BFS recursivamente\n",
    "        path_t, custo_t = bfs_recursivo(next_node, destino)\n",
    "        \n",
    "        #atualiza caminho e custo\n",
    "        path_bfs.extend(path_t)\n",
    "        custo_bfs.extend(custo_t)\n",
    "    \n",
    "    return path_bfs, custo_bfs"
   ]
  },
  {
   "cell_type": "code",
   "execution_count": 23,
   "metadata": {},
   "outputs": [
    {
     "name": "stdout",
     "output_type": "stream",
     "text": [
      "['Timisoara', 'Lugoj', 'Mehadia', 'Dobreta', 'Craiova', 'Pitesti', 'Bucharest'] 615\n"
     ]
    }
   ],
   "source": [
    "caminho, custo = bfs_recursivo('Timisoara')\n",
    "print(caminho, sum(custo))"
   ]
  },
  {
   "cell_type": "markdown",
   "metadata": {},
   "source": [
    "Implementação do BFS iterativo, retornando o custo e o caminho."
   ]
  },
  {
   "cell_type": "code",
   "execution_count": 24,
   "metadata": {},
   "outputs": [],
   "source": [
    "def bfs(origem, destino='Bucharest'):\n",
    "    path_bfs, custo_bfs = [], []\n",
    "    path_bfs.append(origem)\n",
    "    \n",
    "    while(origem != destino):\n",
    "        adjacentes, pesos, custos = [], [], []\n",
    "\n",
    "        #percorre a lista de nós adjacentes\n",
    "        for nome, custo_real in distancias[origem]:\n",
    "            adjacentes.append(nome)\n",
    "            custos.append(custo_real)\n",
    "            pesos.append(h_cidade(nome)) #adciona pesos da heurística\n",
    "\n",
    "        #seleciona o índice do nó de menor custo\n",
    "        index = np.argmin(pesos)\n",
    "        \n",
    "        #adiciona ao caminho atual\n",
    "        next_node = adjacentes[index]\n",
    "        custo_bfs.append(custos[index])\n",
    "        \n",
    "        #atualiza o nó de origem\n",
    "        origem = next_node\n",
    "        \n",
    "        #atualiza caminho e custo\n",
    "        path_bfs.append(origem)\n",
    "    \n",
    "    return path_bfs, custo_bfs"
   ]
  },
  {
   "cell_type": "code",
   "execution_count": 25,
   "metadata": {},
   "outputs": [
    {
     "name": "stdout",
     "output_type": "stream",
     "text": [
      "['Timisoara', 'Lugoj', 'Mehadia', 'Dobreta', 'Craiova', 'Pitesti', 'Bucharest'] 615\n"
     ]
    }
   ],
   "source": [
    "caminho, custo = bfs('Timisoara')\n",
    "print(caminho, sum(custo))"
   ]
  },
  {
   "cell_type": "markdown",
   "metadata": {},
   "source": [
    "## Busca A*\n",
    "\n",
    "Algoritmo baseado em https://medium.com/@nicholas.w.swift/easy-a-star-pathfinding-7e6689c7f7b2"
   ]
  },
  {
   "cell_type": "code",
   "execution_count": 26,
   "metadata": {},
   "outputs": [],
   "source": [
    "class Node():\n",
    "    def __init__(self, nome=None,  g=0, parent=None):\n",
    "        self.nome = nome\n",
    "        self.g = g\n",
    "        self.parent = parent #utilizado para recuperar a origem do nó\n",
    "        \n",
    "    #custo f(n) = g(n) + h(n)\n",
    "    def f(self):\n",
    "        return self.g + self.h()\n",
    "    \n",
    "    #heuristica\n",
    "    def h(self):\n",
    "        return h_cidade(self.nome) #função de distâncias até bucareste\n",
    "    \n",
    "    #comparação de igualdade entre dois nós\n",
    "    def __eq__(self, other):\n",
    "        return self.nome == other.nome\n",
    "        \n",
    "    #comparação de inferioridade entre dois nós\n",
    "    def __lt__(self, other):\n",
    "        return self.f() < other.f()\n",
    "    \n",
    "    #método para impressão (print)\n",
    "    def __repr__(self):\n",
    "        if(self.parent is None):\n",
    "            return \"{} ({})\".format(self.nome, self.f())\n",
    "        else:\n",
    "            return \"{} ({}, by {})\".format(self.nome, self.f(), self.parent.nome)"
   ]
  },
  {
   "cell_type": "code",
   "execution_count": 27,
   "metadata": {},
   "outputs": [
    {
     "name": "stdout",
     "output_type": "stream",
     "text": [
      "[Arad (366), Zerind (374), Oradea (380), Timisoara (329), Lugoj (244), Mehadia (241), Dobreta (242), Craiova (160), Rimnicu (193), Pitesti (100), Sibiu (253), Fagaras (176), Bucharest (0), Giurgiu (77), Urziceni (80), Vaslui (199), Iasi (226), Neamt (234), Hirsova (151), Eforie (161)]\n"
     ]
    }
   ],
   "source": [
    "#criação do array city_nodes\n",
    "city_nodes = []\n",
    "for c in cidades:\n",
    "    n = Node(c)\n",
    "    city_nodes.append(n)\n",
    "\n",
    "print(city_nodes)"
   ]
  },
  {
   "cell_type": "code",
   "execution_count": 28,
   "metadata": {},
   "outputs": [],
   "source": [
    "def a_star(origem, destino, verbose=False):\n",
    "    solutions = []\n",
    "    open_list, closed_list = [], []\n",
    "    open_list.append(origem)\n",
    "    \n",
    "    while(len(open_list) > 0):\n",
    "        current_node = min(open_list)\n",
    "        \n",
    "        if(verbose): print('[Go]>', current_node)\n",
    "            \n",
    "        open_list.remove(current_node)\n",
    "        closed_list.append(current_node)\n",
    "\n",
    "        #se não é o nó de destino, expande\n",
    "        for nome, dist in distancias[current_node.nome]:\n",
    "            adj = Node(nome=nome, g=(current_node.g + dist), parent=current_node)\n",
    "            if(verbose): print(adj)\n",
    "\n",
    "            visitado = False\n",
    "            for clo in closed_list:\n",
    "                if(adj.nome == clo.nome and adj.parent == current_node):\n",
    "                    visitado = True\n",
    "                    break\n",
    "            \n",
    "            #se o nó ainda não foi visitado, adiciona na lista de visitas\n",
    "            if(not visitado):\n",
    "                open_list.append(adj)\n",
    "\n",
    "            #se o nó é de destino, retorna a solução\n",
    "            if(adj == destino):\n",
    "                path = [] \n",
    "                prox = adj\n",
    "                \n",
    "                #recupera o caminho até o nó\n",
    "                while prox is not None: \n",
    "                    path.append(prox)\n",
    "                    prox = prox.parent\n",
    "                solutions.append((adj.f(), path[::-1])) \n",
    "\n",
    "                open_list.remove(adj)\n",
    "                if(verbose): print('\\n********\\n', adj, '\\n********\\n')\n",
    "        if(verbose): print()\n",
    "            \n",
    "    return solutions"
   ]
  },
  {
   "cell_type": "code",
   "execution_count": 29,
   "metadata": {
    "scrolled": false
   },
   "outputs": [
    {
     "name": "stdout",
     "output_type": "stream",
     "text": [
      "Origem: Timisoara (329) - Destino: Bucharest (0)\n",
      "[Go]> Timisoara (329)\n",
      "Arad (484, by Timisoara)\n",
      "Lugoj (355, by Timisoara)\n",
      "\n",
      "[Go]> Lugoj (355, by Timisoara)\n",
      "Timisoara (551, by Lugoj)\n",
      "Mehadia (422, by Lugoj)\n",
      "\n",
      "[Go]> Mehadia (422, by Lugoj)\n",
      "Lugoj (495, by Mehadia)\n",
      "Dobreta (498, by Mehadia)\n",
      "\n",
      "[Go]> Arad (484, by Timisoara)\n",
      "Sibiu (511, by Arad)\n",
      "Zerind (567, by Arad)\n",
      "Timisoara (565, by Arad)\n",
      "\n",
      "[Go]> Dobreta (498, by Mehadia)\n",
      "Mehadia (572, by Dobreta)\n",
      "Craiova (536, by Dobreta)\n",
      "\n",
      "[Go]> Sibiu (511, by Arad)\n",
      "Rimnicu (531, by Sibiu)\n",
      "Oradea (789, by Sibiu)\n",
      "Arad (764, by Sibiu)\n",
      "Fagaras (533, by Sibiu)\n",
      "\n",
      "[Go]> Rimnicu (531, by Sibiu)\n",
      "Craiova (644, by Rimnicu)\n",
      "Sibiu (671, by Rimnicu)\n",
      "Pitesti (535, by Rimnicu)\n",
      "\n",
      "[Go]> Fagaras (533, by Sibiu)\n",
      "Sibiu (709, by Fagaras)\n",
      "Bucharest (568, by Fagaras)\n",
      "\n",
      "********\n",
      " Bucharest (568, by Fagaras) \n",
      "********\n",
      "\n",
      "\n",
      "[Go]> Pitesti (535, by Rimnicu)\n",
      "Craiova (733, by Pitesti)\n",
      "Rimnicu (725, by Pitesti)\n",
      "Bucharest (536, by Pitesti)\n",
      "\n",
      "********\n",
      " Bucharest (536, by Pitesti) \n",
      "********\n",
      "\n",
      "\n",
      "[Go]> Craiova (536, by Dobreta)\n",
      "Dobreta (738, by Craiova)\n",
      "Rimnicu (715, by Craiova)\n",
      "Pitesti (614, by Craiova)\n",
      "\n",
      "[Go]> Zerind (567, by Arad)\n",
      "Oradea (644, by Zerind)\n",
      "Arad (634, by Zerind)\n",
      "\n",
      "[Go]> Craiova (644, by Rimnicu)\n",
      "Dobreta (846, by Craiova)\n",
      "Rimnicu (823, by Craiova)\n",
      "Pitesti (722, by Craiova)\n",
      "\n",
      "[Go]> Oradea (644, by Zerind)\n",
      "Sibiu (668, by Oradea)\n",
      "Zerind (709, by Oradea)\n",
      "\n",
      "[Go]> Oradea (644, by Zerind)\n",
      "Sibiu (668, by Oradea)\n",
      "Zerind (709, by Oradea)\n",
      "\n",
      "[Go]> Craiova (733, by Pitesti)\n",
      "Dobreta (935, by Craiova)\n",
      "Rimnicu (912, by Craiova)\n",
      "Pitesti (811, by Craiova)\n",
      "\n",
      "(568, [Timisoara (329), Arad (484, by Timisoara), Sibiu (511, by Arad), Fagaras (533, by Sibiu), Bucharest (568, by Fagaras)])\n",
      "(536, [Timisoara (329), Arad (484, by Timisoara), Sibiu (511, by Arad), Rimnicu (531, by Sibiu), Pitesti (535, by Rimnicu), Bucharest (536, by Pitesti)])\n"
     ]
    }
   ],
   "source": [
    "origem = [f for f in city_nodes if f.nome == 'Timisoara'][0]\n",
    "destino = [f for f in city_nodes if f.nome == 'Bucharest'][0]\n",
    "\n",
    "print('Origem: {} - Destino: {}'.format(origem, destino))\n",
    "solutions = a_star(origem, destino, verbose=True)\n",
    "\n",
    "for sol in solutions:\n",
    "    print(sol)"
   ]
  },
  {
   "cell_type": "markdown",
   "metadata": {},
   "source": [
    "---\n",
    "# Busca Não Informada"
   ]
  },
  {
   "cell_type": "code",
   "execution_count": 31,
   "metadata": {},
   "outputs": [],
   "source": [
    "class Node():\n",
    "    def __init__(self, nome=None, f=0, parent=None):\n",
    "        self.nome = nome\n",
    "        self.f = f\n",
    "        self.parent = parent #utilizado para recuperar a origem do nó\n",
    "            \n",
    "    #comparação de igualdade entre dois nós\n",
    "    def __eq__(self, other):\n",
    "        return self.nome == other.nome\n",
    "        \n",
    "    #comparação de inferioridade entre dois nós\n",
    "    def __lt__(self, other):\n",
    "        return self.f < other.f\n",
    "    \n",
    "    #método para impressão (print)\n",
    "    def __repr__(self):\n",
    "        if(self.parent is None):\n",
    "            return \"{} ({})\".format(self.nome, self.f)\n",
    "        else:\n",
    "            return \"{} ({}, by {})\".format(self.nome, self.f, self.parent.nome)"
   ]
  },
  {
   "cell_type": "code",
   "execution_count": 32,
   "metadata": {},
   "outputs": [
    {
     "name": "stdout",
     "output_type": "stream",
     "text": [
      "[Arad (0), Zerind (0), Oradea (0), Timisoara (0), Lugoj (0), Mehadia (0), Dobreta (0), Craiova (0), Rimnicu (0), Pitesti (0), Sibiu (0), Fagaras (0), Bucharest (0), Giurgiu (0), Urziceni (0), Vaslui (0), Iasi (0), Neamt (0), Hirsova (0), Eforie (0)]\n"
     ]
    }
   ],
   "source": [
    "city_nodes = []\n",
    "for c in cidades:\n",
    "    n = Node(c)\n",
    "    city_nodes.append(n)\n",
    "\n",
    "print(city_nodes)"
   ]
  },
  {
   "cell_type": "markdown",
   "metadata": {},
   "source": [
    "## Busca de Custo Uniforme (*Uniform Cost Search*)"
   ]
  },
  {
   "cell_type": "code",
   "execution_count": 40,
   "metadata": {},
   "outputs": [],
   "source": [
    "def dijkstra(origem, destino, verbose=False):\n",
    "    solutions = []\n",
    "    open_list, closed_list = [], []\n",
    "    open_list.append(origem)\n",
    "    \n",
    "    while(len(open_list) > 0):\n",
    "        current_node = min(open_list)\n",
    "        \n",
    "        if(verbose): print('[Go]>', current_node)\n",
    "            \n",
    "        open_list.remove(current_node)\n",
    "        closed_list.append(current_node)\n",
    "\n",
    "        #se não é o nó de destino, expande\n",
    "        for nome, dist in distancias[current_node.nome]:\n",
    "            adj = Node(nome=nome, f=(current_node.f + dist), parent=current_node)\n",
    "            if(verbose): print(adj)\n",
    "\n",
    "            visitado = False\n",
    "            for clo in closed_list:\n",
    "                if(adj.nome == clo.nome and adj.parent == current_node):\n",
    "                    visitado = True\n",
    "                    break\n",
    "            \n",
    "            #se o nó ainda não foi visitado, adiciona na lista de visitas\n",
    "            if(not visitado):\n",
    "                open_list.append(adj)\n",
    "\n",
    "            #se o nó é de destino, retorna a solução\n",
    "            if(adj == destino):\n",
    "                path = []\n",
    "                prox = adj\n",
    "                \n",
    "                #recupera o caminho até o nó\n",
    "                while prox is not None: \n",
    "                    path.append(prox)\n",
    "                    prox = prox.parent\n",
    "                    \n",
    "                solutions.append((adj.f, path[::-1]))\n",
    "\n",
    "                open_list.remove(adj)\n",
    "                print(open_list)\n",
    "                if(verbose): print('\\n********\\n', adj, '\\n********\\n')\n",
    "        if(verbose): print()\n",
    "            \n",
    "    return solutions"
   ]
  },
  {
   "cell_type": "code",
   "execution_count": 41,
   "metadata": {
    "scrolled": false
   },
   "outputs": [
    {
     "name": "stdout",
     "output_type": "stream",
     "text": [
      "Origem: Timisoara (0) - Destino: Bucharest (0)\n",
      "[Go]> Timisoara (0)\n",
      "Arad (118, by Timisoara)\n",
      "Lugoj (111, by Timisoara)\n",
      "\n",
      "[Go]> Lugoj (111, by Timisoara)\n",
      "Timisoara (222, by Lugoj)\n",
      "Mehadia (181, by Lugoj)\n",
      "\n",
      "[Go]> Arad (118, by Timisoara)\n",
      "Sibiu (258, by Arad)\n",
      "Zerind (193, by Arad)\n",
      "Timisoara (236, by Arad)\n",
      "\n",
      "[Go]> Mehadia (181, by Lugoj)\n",
      "Lugoj (251, by Mehadia)\n",
      "Dobreta (256, by Mehadia)\n",
      "\n",
      "[Go]> Zerind (193, by Arad)\n",
      "Oradea (264, by Zerind)\n",
      "Arad (268, by Zerind)\n",
      "\n",
      "[Go]> Dobreta (256, by Mehadia)\n",
      "Mehadia (331, by Dobreta)\n",
      "Craiova (376, by Dobreta)\n",
      "\n",
      "[Go]> Sibiu (258, by Arad)\n",
      "Rimnicu (338, by Sibiu)\n",
      "Oradea (409, by Sibiu)\n",
      "Arad (398, by Sibiu)\n",
      "Fagaras (357, by Sibiu)\n",
      "\n",
      "[Go]> Oradea (264, by Zerind)\n",
      "Sibiu (415, by Oradea)\n",
      "Zerind (335, by Oradea)\n",
      "\n",
      "[Go]> Rimnicu (338, by Sibiu)\n",
      "Craiova (484, by Rimnicu)\n",
      "Sibiu (418, by Rimnicu)\n",
      "Pitesti (435, by Rimnicu)\n",
      "\n",
      "[Go]> Fagaras (357, by Sibiu)\n",
      "Sibiu (456, by Fagaras)\n",
      "Bucharest (568, by Fagaras)\n",
      "[Craiova (376, by Dobreta), Oradea (409, by Sibiu), Craiova (484, by Rimnicu), Pitesti (435, by Rimnicu)]\n",
      "\n",
      "********\n",
      " Bucharest (568, by Fagaras) \n",
      "********\n",
      "\n",
      "\n",
      "[Go]> Craiova (376, by Dobreta)\n",
      "Dobreta (496, by Craiova)\n",
      "Rimnicu (522, by Craiova)\n",
      "Pitesti (514, by Craiova)\n",
      "\n",
      "[Go]> Oradea (409, by Sibiu)\n",
      "Sibiu (560, by Oradea)\n",
      "Zerind (480, by Oradea)\n",
      "\n",
      "[Go]> Pitesti (435, by Rimnicu)\n",
      "Craiova (573, by Pitesti)\n",
      "Rimnicu (532, by Pitesti)\n",
      "Bucharest (536, by Pitesti)\n",
      "[Craiova (484, by Rimnicu), Pitesti (514, by Craiova)]\n",
      "\n",
      "********\n",
      " Bucharest (536, by Pitesti) \n",
      "********\n",
      "\n",
      "\n",
      "[Go]> Craiova (484, by Rimnicu)\n",
      "Dobreta (604, by Craiova)\n",
      "Rimnicu (630, by Craiova)\n",
      "Pitesti (622, by Craiova)\n",
      "\n",
      "[Go]> Pitesti (514, by Craiova)\n",
      "Craiova (652, by Pitesti)\n",
      "Rimnicu (611, by Pitesti)\n",
      "Bucharest (615, by Pitesti)\n",
      "[]\n",
      "\n",
      "********\n",
      " Bucharest (615, by Pitesti) \n",
      "********\n",
      "\n",
      "\n",
      "(568, [Timisoara (0), Arad (118, by Timisoara), Sibiu (258, by Arad), Fagaras (357, by Sibiu), Bucharest (568, by Fagaras)])\n",
      "(536, [Timisoara (0), Arad (118, by Timisoara), Sibiu (258, by Arad), Rimnicu (338, by Sibiu), Pitesti (435, by Rimnicu), Bucharest (536, by Pitesti)])\n",
      "(615, [Timisoara (0), Lugoj (111, by Timisoara), Mehadia (181, by Lugoj), Dobreta (256, by Mehadia), Craiova (376, by Dobreta), Pitesti (514, by Craiova), Bucharest (615, by Pitesti)])\n"
     ]
    }
   ],
   "source": [
    "origem = [f for f in city_nodes if f.nome == 'Timisoara'][0]\n",
    "destino = [f for f in city_nodes if f.nome == 'Bucharest'][0]\n",
    "\n",
    "print('Origem: {} - Destino: {}'.format(origem, destino))\n",
    "solutions = dijkstra(origem, destino, verbose=True)\n",
    "\n",
    "for sol in solutions:\n",
    "    print(sol)"
   ]
  },
  {
   "cell_type": "code",
   "execution_count": null,
   "metadata": {},
   "outputs": [],
   "source": []
  }
 ],
 "metadata": {
  "colab": {
   "collapsed_sections": [],
   "name": "ia-aula_meta-heuristicas.ipynb",
   "provenance": []
  },
  "kernelspec": {
   "display_name": "Python 3",
   "language": "python",
   "name": "python3"
  },
  "language_info": {
   "codemirror_mode": {
    "name": "ipython",
    "version": 3
   },
   "file_extension": ".py",
   "mimetype": "text/x-python",
   "name": "python",
   "nbconvert_exporter": "python",
   "pygments_lexer": "ipython3",
   "version": "3.6.5"
  }
 },
 "nbformat": 4,
 "nbformat_minor": 1
}
