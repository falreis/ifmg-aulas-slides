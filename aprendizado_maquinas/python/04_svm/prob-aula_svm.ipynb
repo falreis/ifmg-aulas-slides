{
 "cells": [
  {
   "cell_type": "markdown",
   "metadata": {},
   "source": [
    "![IFMG](https://storage.googleapis.com/ifmg/IFMG.png)\n",
    "\n",
    "---\n",
    "# Problemas Clássicos da Computação\n",
    "\n",
    "## SVM\n",
    "\n",
    "- Professor: Felipe Reis\n"
   ]
  },
  {
   "cell_type": "markdown",
   "metadata": {},
   "source": [
    "## Referências\n",
    "\n",
    "O presente tutorial foi inspirado em:\n",
    "\n",
    "* Richert, W. and Coelho, L. P. (2013). Building Machine Learning Systems with Python. Ed. Packt Publishing Ltd., 1 edition.\n",
    "* Marsland, S. (2014). Machine Learning: An Algorithm Perspective. CRC Press, 2 edition.\n",
    "\n",
    "\n",
    "## Bibliotecas Necessárias\n",
    "\n",
    "As bibliotecas necessárias à execução desse tutorial:\n",
    "* Numpy: https://numpy.org/\n",
    "* Matplotlib: https://matplotlib.org/\n",
    "* Pandas: https://pandas.pydata.org/\n",
    "* Sciki-Learn: https://scikit-learn.org/"
   ]
  },
  {
   "cell_type": "markdown",
   "metadata": {},
   "source": [
    "---\n",
    "## Instalação de Bibliotecas"
   ]
  },
  {
   "cell_type": "code",
   "execution_count": 1,
   "metadata": {},
   "outputs": [],
   "source": [
    "# Execute essa linha para instalação no Google Colab\n",
    "# Os pacotes numpy e matplotlib não precisam ser instalados\n",
    "# Caso esteja usando seu computador pessoal, instale o pacote via linha de comando.\n",
    "\n",
    "#!pip install -U pandas\n",
    "#!pip install -U scikit-learn"
   ]
  },
  {
   "cell_type": "markdown",
   "metadata": {},
   "source": [
    "---\n",
    "## Importação de bibliotecas "
   ]
  },
  {
   "cell_type": "code",
   "execution_count": 2,
   "metadata": {},
   "outputs": [],
   "source": [
    "import numpy as np\n",
    "import matplotlib.pyplot as plt \n",
    "import pandas as pd\n",
    "import random\n",
    "\n",
    "from sklearn.model_selection import train_test_split, cross_val_score\n",
    "from sklearn.model_selection import RepeatedStratifiedKFold\n",
    "from sklearn.model_selection import cross_val_score\n",
    "\n",
    "from sklearn.discriminant_analysis import LinearDiscriminantAnalysis \n",
    "from sklearn.decomposition import PCA, KernelPCA\n",
    "from sklearn import svm\n",
    "\n",
    "from sklearn.metrics import accuracy_score, plot_roc_curve, roc_curve, auc, confusion_matrix\n",
    "from sklearn.datasets import load_wine, load_boston, load_iris"
   ]
  },
  {
   "cell_type": "markdown",
   "metadata": {},
   "source": [
    "---\n",
    "## Funções Úteis"
   ]
  },
  {
   "cell_type": "code",
   "execution_count": 3,
   "metadata": {},
   "outputs": [],
   "source": [
    "def split_data(x_data, y_data):\n",
    "    return train_test_split(\n",
    "            x_data,\n",
    "            y_data, \n",
    "            test_size = 0.3, #percentual do conjunto de treino\n",
    "            random_state = 10 #seed random, para resultados semelhantes\n",
    "    )"
   ]
  },
  {
   "cell_type": "code",
   "execution_count": 4,
   "metadata": {},
   "outputs": [],
   "source": [
    "def imprime_grafico_iris(data, target, targets_names, dt_column1=0, dt_column2=1):\n",
    "    plt.figure()\n",
    "    colors = ['red', 'green', 'blue']\n",
    "    \n",
    "    for color, i, target_name in zip(colors, [0, 1, 2], targets_names):\n",
    "        x = data[target == i, dt_column1]\n",
    "        y = data[target == i, dt_column2]\n",
    "        \n",
    "        plt.scatter(x, y, alpha=.8, color=color, label=target_name)\n",
    "\n",
    "    #adiciona legenda e imprime gráfico\n",
    "    plt.legend(loc='best', shadow=False, scatterpoints=1)\n",
    "    plt.show()"
   ]
  },
  {
   "cell_type": "markdown",
   "metadata": {},
   "source": [
    "---\n",
    "## Wine e Íris Datasets\n",
    "\n",
    "A primeira parte to tutorial utilizará a base de dados Iris Dataset (contém informações sobre a flor Íris), disponível nativamente pela biblioteca Scikit Learn.\n",
    "\n",
    "A segunda parte do tutorial utilizará a base de dados Wine Dataset (contém informação sobre vinhos), disponível nativamente pela biblioteca Scikit Learn.\n",
    "\n",
    "Informações sobre as bases de dados:\n",
    "* Iris Dataset: https://sklearn.org/modules/generated/sklearn.datasets.load_iris.html#sklearn.datasets.load_iris\n",
    "* Wine Dataset: https://sklearn.org/modules/generated/sklearn.datasets.load_wine.html#sklearn.datasets.load_wine"
   ]
  },
  {
   "cell_type": "markdown",
   "metadata": {},
   "source": [
    "### Iris Dataset"
   ]
  },
  {
   "cell_type": "code",
   "execution_count": 11,
   "metadata": {},
   "outputs": [],
   "source": [
    "#carrega a base de dados\n",
    "iris = load_iris()"
   ]
  },
  {
   "cell_type": "code",
   "execution_count": 16,
   "metadata": {},
   "outputs": [
    {
     "name": "stdout",
     "output_type": "stream",
     "text": [
      "(105, 4) (105,)\n",
      "(45, 4) (45,)\n"
     ]
    }
   ],
   "source": [
    "X_train, X_test, y_train, y_test = split_data(iris.data, iris.target)\n",
    "print(X_train.shape, y_train.shape)\n",
    "print(X_test.shape, y_test.shape)"
   ]
  },
  {
   "cell_type": "code",
   "execution_count": 18,
   "metadata": {},
   "outputs": [
    {
     "data": {
      "text/plain": [
       "SVC(degree=2, kernel='poly')"
      ]
     },
     "execution_count": 18,
     "metadata": {},
     "output_type": "execute_result"
    }
   ],
   "source": [
    "model = svm.SVC(kernel='poly', degree=2)\n",
    "model.fit(X_train, y_train)"
   ]
  },
  {
   "cell_type": "code",
   "execution_count": 22,
   "metadata": {},
   "outputs": [
    {
     "name": "stdout",
     "output_type": "stream",
     "text": [
      "2nd degree polynomial Kernel\n",
      "Accuracy (normalized): 1.0\n"
     ]
    }
   ],
   "source": [
    "predictions_poly = model.predict(X_test)\n",
    "accuracy_poly = accuracy_score(y_test, predictions_poly)\n",
    "print(\"2nd degree polynomial Kernel\\nAccuracy (normalized): \" + str(accuracy_poly))"
   ]
  },
  {
   "cell_type": "markdown",
   "metadata": {},
   "source": [
    "### Wine Dataset"
   ]
  },
  {
   "cell_type": "code",
   "execution_count": 7,
   "metadata": {},
   "outputs": [],
   "source": [
    "#carrega a base de dados\n",
    "wine = load_wine()"
   ]
  },
  {
   "cell_type": "code",
   "execution_count": 8,
   "metadata": {},
   "outputs": [
    {
     "name": "stdout",
     "output_type": "stream",
     "text": [
      "(124, 13) (124,)\n",
      "(54, 13) (54,)\n"
     ]
    }
   ],
   "source": [
    "X_train, X_test, y_train, y_test = split_data(wine.data, wine.target)\n",
    "print(X_train.shape, y_train.shape)\n",
    "print(X_test.shape, y_test.shape)"
   ]
  },
  {
   "cell_type": "code",
   "execution_count": 9,
   "metadata": {},
   "outputs": [
    {
     "data": {
      "text/plain": [
       "SVC(degree=2, kernel='poly')"
      ]
     },
     "execution_count": 9,
     "metadata": {},
     "output_type": "execute_result"
    }
   ],
   "source": [
    "model = svm.SVC(kernel='poly', degree=2)\n",
    "model.fit(X_train, y_train)"
   ]
  },
  {
   "cell_type": "code",
   "execution_count": 10,
   "metadata": {},
   "outputs": [
    {
     "name": "stdout",
     "output_type": "stream",
     "text": [
      "2nd degree polynomial Kernel\n",
      "Accuracy (normalized): 0.6111111111111112\n"
     ]
    }
   ],
   "source": [
    "predictions_poly = model.predict(X_test)\n",
    "accuracy_poly = accuracy_score(y_test, predictions_poly)\n",
    "print(\"2nd degree polynomial Kernel\\nAccuracy (normalized): \" + str(accuracy_poly))"
   ]
  },
  {
   "cell_type": "markdown",
   "metadata": {},
   "source": [
    "Podemos avaliar múltiplos tipos de SVM, para verificarmos aquele que melhor se adapta ao problema."
   ]
  },
  {
   "cell_type": "code",
   "execution_count": 19,
   "metadata": {},
   "outputs": [
    {
     "name": "stdout",
     "output_type": "stream",
     "text": [
      "Kernel: linear\n",
      "Accuracy:  0.9074074074074074\n",
      "\n",
      "Kernel: poly\n",
      "Accuracy:  0.6111111111111112\n",
      "\n",
      "Kernel: rbf\n",
      "Accuracy:  0.6111111111111112\n",
      "\n",
      "Kernel: sigmoid\n",
      "Accuracy:  0.18518518518518517\n",
      "\n"
     ]
    }
   ],
   "source": [
    "for k in ['linear', 'poly', 'rbf', 'sigmoid']:\n",
    "    model = svm.SVC(kernel=k, degree=2)\n",
    "    model.fit(X_train, y_train)\n",
    "    \n",
    "    predictions = model.predict(X_test)\n",
    "    print(\"Kernel:\", k)\n",
    "    print(\"Accuracy: \", accuracy_score(y_test, predictions))\n",
    "    print()"
   ]
  },
  {
   "cell_type": "code",
   "execution_count": 23,
   "metadata": {},
   "outputs": [],
   "source": [
    "from sklearn.pipeline import make_pipeline\n",
    "from sklearn.preprocessing import StandardScaler\n",
    "from sklearn.svm import SVC"
   ]
  },
  {
   "cell_type": "code",
   "execution_count": 26,
   "metadata": {},
   "outputs": [
    {
     "name": "stdout",
     "output_type": "stream",
     "text": [
      "Kernel: linear\n",
      "Accuracy:  0.9259259259259259\n",
      "\n",
      "Kernel: poly\n",
      "Accuracy:  0.8703703703703703\n",
      "\n",
      "Kernel: rbf\n",
      "Accuracy:  0.9629629629629629\n",
      "\n",
      "Kernel: sigmoid\n",
      "Accuracy:  0.9074074074074074\n",
      "\n"
     ]
    }
   ],
   "source": [
    "for k in ['linear', 'poly', 'rbf', 'sigmoid']:\n",
    "    clf = make_pipeline(StandardScaler(), svm.SVC(gamma='auto', kernel=k, degree=2))\n",
    "    clf.fit(X_train, y_train)\n",
    "\n",
    "    predictions = clf.predict(X_test)\n",
    "    print(\"Kernel:\", k)\n",
    "    print(\"Accuracy: \", accuracy_score(y_test, predictions))\n",
    "    print()"
   ]
  },
  {
   "cell_type": "markdown",
   "metadata": {},
   "source": [
    "#### Análise de Discriminantes Lineares (LDA)\n",
    "\n",
    "Podemos utilizar a Análise de Discriminantes Lineares (LDA) para separar as classes e fazer previsões."
   ]
  },
  {
   "cell_type": "code",
   "execution_count": 12,
   "metadata": {},
   "outputs": [
    {
     "name": "stdout",
     "output_type": "stream",
     "text": [
      "(124, 13) (124,)\n",
      "(54, 13) (54,)\n"
     ]
    }
   ],
   "source": [
    "X_train, X_test, y_train, y_test = split_data(wine.data, wine.target)\n",
    "print(X_train.shape, y_train.shape)\n",
    "print(X_test.shape, y_test.shape)"
   ]
  },
  {
   "cell_type": "code",
   "execution_count": 13,
   "metadata": {},
   "outputs": [
    {
     "data": {
      "text/plain": [
       "LinearDiscriminantAnalysis()"
      ]
     },
     "execution_count": 13,
     "metadata": {},
     "output_type": "execute_result"
    }
   ],
   "source": [
    "lda = LinearDiscriminantAnalysis()\n",
    "lda.fit(X_train, y_train)"
   ]
  },
  {
   "cell_type": "code",
   "execution_count": 14,
   "metadata": {},
   "outputs": [
    {
     "name": "stdout",
     "output_type": "stream",
     "text": [
      "Accuracy: 0.9074074074074074\n"
     ]
    }
   ],
   "source": [
    "predictions = lda.predict(X_test)\n",
    "acc = accuracy_score(y_test, predictions)\n",
    "print(\"Accuracy: \" + str(acc))"
   ]
  },
  {
   "cell_type": "code",
   "execution_count": 17,
   "metadata": {},
   "outputs": [
    {
     "data": {
      "image/png": "[encoded data removed]",
      "text/plain": [
       "<Figure size 432x288 with 1 Axes>"
      ]
     },
     "metadata": {
      "needs_background": "light"
     },
     "output_type": "display_data"
    }
   ],
   "source": [
    "lda_plot = lda.transform(X_test)\n",
    "imprime_grafico_iris(lda_plot, y_test, wine.target_names)"
   ]
  },
  {
   "cell_type": "code",
   "execution_count": null,
   "metadata": {},
   "outputs": [],
   "source": []
  }
 ],
 "metadata": {
  "kernelspec": {
   "display_name": "Python 3",
   "language": "python",
   "name": "python3"
  },
  "language_info": {
   "codemirror_mode": {
    "name": "ipython",
    "version": 3
   },
   "file_extension": ".py",
   "mimetype": "text/x-python",
   "name": "python",
   "nbconvert_exporter": "python",
   "pygments_lexer": "ipython3",
   "version": "3.6.5"
  }
 },
 "nbformat": 4,
 "nbformat_minor": 4
}
