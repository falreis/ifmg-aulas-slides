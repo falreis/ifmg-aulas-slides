{
 "cells": [
  {
   "cell_type": "markdown",
   "metadata": {},
   "source": [
    "![IFMG](https://storage.googleapis.com/ifmg/IFMG.png)\n",
    "\n",
    "---\n",
    "# Problemas Clássicos da Computação\n",
    "\n",
    "## Preditores Bayesianos e Lineares\n",
    "\n",
    "- Professor: Felipe Reis\n"
   ]
  },
  {
   "cell_type": "markdown",
   "metadata": {},
   "source": [
    "### Referências\n",
    "\n",
    "O presente tutorial foi inspirado em:\n",
    "\n",
    "* http://daydreamingnumbers.com/blog/introduction-naive-bayes-algorithm-python/\n",
    "* https://in.springboard.com/blog/naive-bayes-classification/\n",
    "* https://medium.com/bite-sized-machine-learning/linear-regression-example-in-sklearn-4d4ff244ac44\n",
    "\n",
    "\n",
    "### Bibliotecas Necessárias\n",
    "\n",
    "As bibliotecas necessárias à execução desse tutorial:\n",
    "* Numpy: https://numpy.org/\n",
    "* Matplotlib: https://matplotlib.org/\n",
    "* Pandas: https://pandas.pydata.org/\n",
    "* Sciki-Learn: https://scikit-learn.org/"
   ]
  },
  {
   "cell_type": "markdown",
   "metadata": {},
   "source": [
    "---\n",
    "### Instalação de Bibliotecas"
   ]
  },
  {
   "cell_type": "code",
   "execution_count": 1,
   "metadata": {},
   "outputs": [],
   "source": [
    "# Execute essa linha para instalação no Google Colab\n",
    "# Os pacotes numpy e matplotlib não precisam ser instalados\n",
    "# Caso esteja usando seu computador pessoal, instale o pacote via linha de comando.\n",
    "\n",
    "#!pip install -U pandas\n",
    "#!pip install -U scikit-learn"
   ]
  },
  {
   "cell_type": "markdown",
   "metadata": {},
   "source": [
    "---\n",
    "### Importação de bibliotecas "
   ]
  },
  {
   "cell_type": "code",
   "execution_count": 2,
   "metadata": {},
   "outputs": [],
   "source": [
    "import numpy as np\n",
    "import matplotlib.pyplot as plt \n",
    "import pandas as pd\n",
    "import random\n",
    "\n",
    "from sklearn.naive_bayes import GaussianNB, MultinomialNB, BernoulliNB\n",
    "from sklearn.preprocessing import LabelEncoder\n",
    "from sklearn.model_selection import train_test_split, cross_val_score\n",
    "from sklearn.metrics import accuracy_score, mean_squared_error, r2_score\n",
    "from sklearn.datasets import load_wine, load_digits, load_boston\n",
    "from sklearn.linear_model import LinearRegression, LogisticRegression, Perceptron\n",
    "from sklearn.metrics import plot_roc_curve, roc_curve, auc, confusion_matrix"
   ]
  },
  {
   "cell_type": "markdown",
   "metadata": {},
   "source": [
    "---\n",
    "### Funções Úteis"
   ]
  },
  {
   "cell_type": "code",
   "execution_count": 3,
   "metadata": {},
   "outputs": [],
   "source": [
    "def print_confusion_matrix_digits(confusion_matrix):\n",
    "    cm = confusion_matrix\n",
    "    \n",
    "    #imprime matriz de confusão\n",
    "    plt.figure(figsize=(9,9))\n",
    "    plt.imshow(cm, interpolation='nearest', cmap='Pastel1')\n",
    "    plt.title('Confusion matrix', size = 15)\n",
    "    plt.colorbar()\n",
    "    tick_marks = np.arange(10)\n",
    "    plt.xticks(tick_marks, [\"0\", \"1\", \"2\", \"3\", \"4\", \"5\", \"6\", \"7\", \"8\", \"9\"], rotation=45, size = 10)\n",
    "    plt.yticks(tick_marks, [\"0\", \"1\", \"2\", \"3\", \"4\", \"5\", \"6\", \"7\", \"8\", \"9\"], size = 10)\n",
    "    plt.tight_layout()\n",
    "    plt.ylabel('Actual label', size = 15)\n",
    "    plt.xlabel('Predicted label', size = 15)\n",
    "    width, height = cm.shape\n",
    "\n",
    "    for x in range(width):\n",
    "        for y in range(height):\n",
    "            plt.annotate(str(cm[x][y]), xy=(y, x), \n",
    "            horizontalalignment='center',\n",
    "            verticalalignment='center')"
   ]
  },
  {
   "cell_type": "code",
   "execution_count": 4,
   "metadata": {},
   "outputs": [],
   "source": [
    "def split_data(x_data, y_data):\n",
    "    return train_test_split(\n",
    "            x_data,\n",
    "            y_data, \n",
    "            test_size = 0.3, #percentual do conjunto de treino\n",
    "            random_state = 10 #seed random, para resultados semelhantes\n",
    "    )"
   ]
  },
  {
   "cell_type": "code",
   "execution_count": 5,
   "metadata": {},
   "outputs": [],
   "source": [
    "def print_reg_linear(lin_reg, x_test, y_test, preds):\n",
    "    print(\"Erro médio quadrático: %.2f\" % mean_squared_error(y_test, preds))\n",
    "\n",
    "    #gráfico\n",
    "    plt.figure(figsize=(10, 8))\n",
    "    plt.scatter(x_test, y_test,linewidth=0.1,alpha=0.5)\n",
    "    plt.plot(x_test, preds, color='green', linewidth=3)\n",
    "    #plt.xlabel('Variável avaliada')\n",
    "    plt.ylabel('Preço do imóvel')\n",
    "    plt.title('Preço imóvel: = %.2f + %.2f * x'% (lin_reg.intercept_, lin_reg.coef_[0]))\n",
    "    plt.show()"
   ]
  },
  {
   "cell_type": "markdown",
   "metadata": {},
   "source": [
    "---\n",
    "## Naïve Bayes \n",
    "\n",
    "### Play Tennis Dataset\n",
    "\n",
    "Para desenvolvimento desta seção, será utilizada a base de dados de exemplo Play Tenis, traduzida manualmente para português."
   ]
  },
  {
   "cell_type": "code",
   "execution_count": 6,
   "metadata": {},
   "outputs": [],
   "source": [
    "#carrega a base de dados play tennis\n",
    "play_tennis = pd.read_csv(\"PlayTennis.csv\")"
   ]
  },
  {
   "cell_type": "code",
   "execution_count": 7,
   "metadata": {},
   "outputs": [
    {
     "data": {
      "text/html": [
       "<div>\n",
       "<style scoped>\n",
       "    .dataframe tbody tr th:only-of-type {\n",
       "        vertical-align: middle;\n",
       "    }\n",
       "\n",
       "    .dataframe tbody tr th {\n",
       "        vertical-align: top;\n",
       "    }\n",
       "\n",
       "    .dataframe thead th {\n",
       "        text-align: right;\n",
       "    }\n",
       "</style>\n",
       "<table border=\"1\" class=\"dataframe\">\n",
       "  <thead>\n",
       "    <tr style=\"text-align: right;\">\n",
       "      <th></th>\n",
       "      <th>Previsao</th>\n",
       "      <th>Temperatura</th>\n",
       "      <th>Umidade</th>\n",
       "      <th>Vento</th>\n",
       "      <th>Jogar Tenis</th>\n",
       "    </tr>\n",
       "  </thead>\n",
       "  <tbody>\n",
       "    <tr>\n",
       "      <th>0</th>\n",
       "      <td>Ensolarado</td>\n",
       "      <td>Quente</td>\n",
       "      <td>Alta</td>\n",
       "      <td>Fraco</td>\n",
       "      <td>Nao</td>\n",
       "    </tr>\n",
       "    <tr>\n",
       "      <th>1</th>\n",
       "      <td>Ensolarado</td>\n",
       "      <td>Quente</td>\n",
       "      <td>Alta</td>\n",
       "      <td>Forte</td>\n",
       "      <td>Nao</td>\n",
       "    </tr>\n",
       "    <tr>\n",
       "      <th>2</th>\n",
       "      <td>Nublado</td>\n",
       "      <td>Quente</td>\n",
       "      <td>Alta</td>\n",
       "      <td>Fraco</td>\n",
       "      <td>Sim</td>\n",
       "    </tr>\n",
       "    <tr>\n",
       "      <th>3</th>\n",
       "      <td>Chuva</td>\n",
       "      <td>Moderado</td>\n",
       "      <td>Alta</td>\n",
       "      <td>Fraco</td>\n",
       "      <td>Sim</td>\n",
       "    </tr>\n",
       "    <tr>\n",
       "      <th>4</th>\n",
       "      <td>Chuva</td>\n",
       "      <td>Frio</td>\n",
       "      <td>Normal</td>\n",
       "      <td>Fraco</td>\n",
       "      <td>Sim</td>\n",
       "    </tr>\n",
       "    <tr>\n",
       "      <th>5</th>\n",
       "      <td>Chuva</td>\n",
       "      <td>Frio</td>\n",
       "      <td>Normal</td>\n",
       "      <td>Forte</td>\n",
       "      <td>Nao</td>\n",
       "    </tr>\n",
       "    <tr>\n",
       "      <th>6</th>\n",
       "      <td>Nublado</td>\n",
       "      <td>Frio</td>\n",
       "      <td>Normal</td>\n",
       "      <td>Forte</td>\n",
       "      <td>Sim</td>\n",
       "    </tr>\n",
       "    <tr>\n",
       "      <th>7</th>\n",
       "      <td>Ensolarado</td>\n",
       "      <td>Moderado</td>\n",
       "      <td>Alta</td>\n",
       "      <td>Fraco</td>\n",
       "      <td>Nao</td>\n",
       "    </tr>\n",
       "    <tr>\n",
       "      <th>8</th>\n",
       "      <td>Ensolarado</td>\n",
       "      <td>Frio</td>\n",
       "      <td>Normal</td>\n",
       "      <td>Fraco</td>\n",
       "      <td>Sim</td>\n",
       "    </tr>\n",
       "    <tr>\n",
       "      <th>9</th>\n",
       "      <td>Chuva</td>\n",
       "      <td>Moderado</td>\n",
       "      <td>Normal</td>\n",
       "      <td>Fraco</td>\n",
       "      <td>Sim</td>\n",
       "    </tr>\n",
       "    <tr>\n",
       "      <th>10</th>\n",
       "      <td>Ensolarado</td>\n",
       "      <td>Moderado</td>\n",
       "      <td>Normal</td>\n",
       "      <td>Forte</td>\n",
       "      <td>Sim</td>\n",
       "    </tr>\n",
       "    <tr>\n",
       "      <th>11</th>\n",
       "      <td>Nublado</td>\n",
       "      <td>Moderado</td>\n",
       "      <td>Alta</td>\n",
       "      <td>Forte</td>\n",
       "      <td>Sim</td>\n",
       "    </tr>\n",
       "    <tr>\n",
       "      <th>12</th>\n",
       "      <td>Nublado</td>\n",
       "      <td>Quente</td>\n",
       "      <td>Normal</td>\n",
       "      <td>Fraco</td>\n",
       "      <td>Sim</td>\n",
       "    </tr>\n",
       "    <tr>\n",
       "      <th>13</th>\n",
       "      <td>Chuva</td>\n",
       "      <td>Moderado</td>\n",
       "      <td>Alta</td>\n",
       "      <td>Forte</td>\n",
       "      <td>Nao</td>\n",
       "    </tr>\n",
       "  </tbody>\n",
       "</table>\n",
       "</div>"
      ],
      "text/plain": [
       "      Previsao Temperatura Umidade  Vento Jogar Tenis\n",
       "0   Ensolarado      Quente    Alta  Fraco         Nao\n",
       "1   Ensolarado      Quente    Alta  Forte         Nao\n",
       "2      Nublado      Quente    Alta  Fraco         Sim\n",
       "3        Chuva    Moderado    Alta  Fraco         Sim\n",
       "4        Chuva        Frio  Normal  Fraco         Sim\n",
       "5        Chuva        Frio  Normal  Forte         Nao\n",
       "6      Nublado        Frio  Normal  Forte         Sim\n",
       "7   Ensolarado    Moderado    Alta  Fraco         Nao\n",
       "8   Ensolarado        Frio  Normal  Fraco         Sim\n",
       "9        Chuva    Moderado  Normal  Fraco         Sim\n",
       "10  Ensolarado    Moderado  Normal  Forte         Sim\n",
       "11     Nublado    Moderado    Alta  Forte         Sim\n",
       "12     Nublado      Quente  Normal  Fraco         Sim\n",
       "13       Chuva    Moderado    Alta  Forte         Nao"
      ]
     },
     "execution_count": 7,
     "metadata": {},
     "output_type": "execute_result"
    }
   ],
   "source": [
    "play_tennis #exibe todos os registros\n",
    "#play_tennis.head() #exibe somente os primeiros registros"
   ]
  },
  {
   "cell_type": "code",
   "execution_count": 8,
   "metadata": {},
   "outputs": [],
   "source": [
    "#guarda os valores originais, para uso posteriuor\n",
    "play_tennis_original = play_tennis.copy()"
   ]
  },
  {
   "cell_type": "code",
   "execution_count": 9,
   "metadata": {},
   "outputs": [],
   "source": [
    "#LabelEncoder converte dados categoricos em valores do intervalo 0-1\n",
    "labelEncoder = LabelEncoder()"
   ]
  },
  {
   "cell_type": "code",
   "execution_count": 10,
   "metadata": {},
   "outputs": [
    {
     "data": {
      "text/html": [
       "<div>\n",
       "<style scoped>\n",
       "    .dataframe tbody tr th:only-of-type {\n",
       "        vertical-align: middle;\n",
       "    }\n",
       "\n",
       "    .dataframe tbody tr th {\n",
       "        vertical-align: top;\n",
       "    }\n",
       "\n",
       "    .dataframe thead th {\n",
       "        text-align: right;\n",
       "    }\n",
       "</style>\n",
       "<table border=\"1\" class=\"dataframe\">\n",
       "  <thead>\n",
       "    <tr style=\"text-align: right;\">\n",
       "      <th></th>\n",
       "      <th>Previsao</th>\n",
       "      <th>Temperatura</th>\n",
       "      <th>Umidade</th>\n",
       "      <th>Vento</th>\n",
       "      <th>Jogar Tenis</th>\n",
       "    </tr>\n",
       "  </thead>\n",
       "  <tbody>\n",
       "    <tr>\n",
       "      <th>0</th>\n",
       "      <td>1</td>\n",
       "      <td>2</td>\n",
       "      <td>0</td>\n",
       "      <td>1</td>\n",
       "      <td>0</td>\n",
       "    </tr>\n",
       "    <tr>\n",
       "      <th>1</th>\n",
       "      <td>1</td>\n",
       "      <td>2</td>\n",
       "      <td>0</td>\n",
       "      <td>0</td>\n",
       "      <td>0</td>\n",
       "    </tr>\n",
       "    <tr>\n",
       "      <th>2</th>\n",
       "      <td>2</td>\n",
       "      <td>2</td>\n",
       "      <td>0</td>\n",
       "      <td>1</td>\n",
       "      <td>1</td>\n",
       "    </tr>\n",
       "    <tr>\n",
       "      <th>3</th>\n",
       "      <td>0</td>\n",
       "      <td>1</td>\n",
       "      <td>0</td>\n",
       "      <td>1</td>\n",
       "      <td>1</td>\n",
       "    </tr>\n",
       "    <tr>\n",
       "      <th>4</th>\n",
       "      <td>0</td>\n",
       "      <td>0</td>\n",
       "      <td>1</td>\n",
       "      <td>1</td>\n",
       "      <td>1</td>\n",
       "    </tr>\n",
       "    <tr>\n",
       "      <th>5</th>\n",
       "      <td>0</td>\n",
       "      <td>0</td>\n",
       "      <td>1</td>\n",
       "      <td>0</td>\n",
       "      <td>0</td>\n",
       "    </tr>\n",
       "    <tr>\n",
       "      <th>6</th>\n",
       "      <td>2</td>\n",
       "      <td>0</td>\n",
       "      <td>1</td>\n",
       "      <td>0</td>\n",
       "      <td>1</td>\n",
       "    </tr>\n",
       "    <tr>\n",
       "      <th>7</th>\n",
       "      <td>1</td>\n",
       "      <td>1</td>\n",
       "      <td>0</td>\n",
       "      <td>1</td>\n",
       "      <td>0</td>\n",
       "    </tr>\n",
       "    <tr>\n",
       "      <th>8</th>\n",
       "      <td>1</td>\n",
       "      <td>0</td>\n",
       "      <td>1</td>\n",
       "      <td>1</td>\n",
       "      <td>1</td>\n",
       "    </tr>\n",
       "    <tr>\n",
       "      <th>9</th>\n",
       "      <td>0</td>\n",
       "      <td>1</td>\n",
       "      <td>1</td>\n",
       "      <td>1</td>\n",
       "      <td>1</td>\n",
       "    </tr>\n",
       "    <tr>\n",
       "      <th>10</th>\n",
       "      <td>1</td>\n",
       "      <td>1</td>\n",
       "      <td>1</td>\n",
       "      <td>0</td>\n",
       "      <td>1</td>\n",
       "    </tr>\n",
       "    <tr>\n",
       "      <th>11</th>\n",
       "      <td>2</td>\n",
       "      <td>1</td>\n",
       "      <td>0</td>\n",
       "      <td>0</td>\n",
       "      <td>1</td>\n",
       "    </tr>\n",
       "    <tr>\n",
       "      <th>12</th>\n",
       "      <td>2</td>\n",
       "      <td>2</td>\n",
       "      <td>1</td>\n",
       "      <td>1</td>\n",
       "      <td>1</td>\n",
       "    </tr>\n",
       "    <tr>\n",
       "      <th>13</th>\n",
       "      <td>0</td>\n",
       "      <td>1</td>\n",
       "      <td>0</td>\n",
       "      <td>0</td>\n",
       "      <td>0</td>\n",
       "    </tr>\n",
       "  </tbody>\n",
       "</table>\n",
       "</div>"
      ],
      "text/plain": [
       "    Previsao  Temperatura  Umidade  Vento  Jogar Tenis\n",
       "0          1            2        0      1            0\n",
       "1          1            2        0      0            0\n",
       "2          2            2        0      1            1\n",
       "3          0            1        0      1            1\n",
       "4          0            0        1      1            1\n",
       "5          0            0        1      0            0\n",
       "6          2            0        1      0            1\n",
       "7          1            1        0      1            0\n",
       "8          1            0        1      1            1\n",
       "9          0            1        1      1            1\n",
       "10         1            1        1      0            1\n",
       "11         2            1        0      0            1\n",
       "12         2            2        1      1            1\n",
       "13         0            1        0      0            0"
      ]
     },
     "execution_count": 10,
     "metadata": {},
     "output_type": "execute_result"
    }
   ],
   "source": [
    "#realiza a transformação\n",
    "play_tennis['Previsao']    = labelEncoder.fit_transform(play_tennis['Previsao'])\n",
    "play_tennis['Temperatura'] = labelEncoder.fit_transform(play_tennis['Temperatura'])\n",
    "play_tennis['Umidade']     = labelEncoder.fit_transform(play_tennis['Umidade'])\n",
    "play_tennis['Vento']       = labelEncoder.fit_transform(play_tennis['Vento'])\n",
    "play_tennis['Jogar Tenis'] = labelEncoder.fit_transform(play_tennis['Jogar Tenis'])\n",
    "\n",
    "play_tennis"
   ]
  },
  {
   "cell_type": "code",
   "execution_count": 11,
   "metadata": {},
   "outputs": [],
   "source": [
    "#define as features (características) e o objetivo\n",
    "features = [\"Previsao\", \"Temperatura\", \"Umidade\", \"Vento\"]\n",
    "target = \"Jogar Tenis\""
   ]
  },
  {
   "cell_type": "code",
   "execution_count": 12,
   "metadata": {},
   "outputs": [
    {
     "name": "stdout",
     "output_type": "stream",
     "text": [
      "    Previsao  Temperatura  Umidade  Vento\n",
      "2          2            2        0      1\n",
      "10         1            1        1      0\n",
      "5          0            0        1      0\n",
      "11         2            1        0      0\n",
      "13         0            1        0      0\n",
      "1          1            2        0      0\n",
      "0          1            2        0      1\n",
      "4          0            0        1      1\n",
      "9          0            1        1      1\n",
      "\n",
      "    Previsao  Temperatura  Umidade  Vento\n",
      "3          0            1        0      1\n",
      "7          1            1        0      1\n",
      "12         2            2        1      1\n",
      "6          2            0        1      0\n",
      "8          1            0        1      1\n"
     ]
    }
   ],
   "source": [
    "#divide conjuntos de treino e teste\n",
    "split = split_data(play_tennis[features], play_tennis[target])\n",
    "tennis_x_train, tennis_x_test, tennis_y_train, tennis_y_test = split\n",
    "\n",
    "#impressão de valores (visualização de divisão dos conjuntos)\n",
    "print(tennis_x_train)\n",
    "print()\n",
    "print(tennis_x_test)"
   ]
  },
  {
   "cell_type": "code",
   "execution_count": 13,
   "metadata": {},
   "outputs": [
    {
     "data": {
      "text/plain": [
       "GaussianNB()"
      ]
     },
     "execution_count": 13,
     "metadata": {},
     "output_type": "execute_result"
    }
   ],
   "source": [
    "#criação de modelo Naive Bayes (Gaussiano)\n",
    "model = GaussianNB()\n",
    "model.fit(tennis_x_train, tennis_y_train) #treino do preditor"
   ]
  },
  {
   "cell_type": "code",
   "execution_count": 14,
   "metadata": {},
   "outputs": [
    {
     "name": "stdout",
     "output_type": "stream",
     "text": [
      "0.8\n"
     ]
    }
   ],
   "source": [
    "#realiza a predição do conjunto de teste e avalia desempenho\n",
    "tennis_predict = model.predict(tennis_x_test) #predição do conjunto de testes\n",
    "accuracy = accuracy_score(tennis_y_test, tennis_predict) #definição da acurácia\n",
    "\n",
    "print(accuracy)"
   ]
  },
  {
   "cell_type": "code",
   "execution_count": 15,
   "metadata": {},
   "outputs": [
    {
     "data": {
      "text/html": [
       "<div>\n",
       "<style scoped>\n",
       "    .dataframe tbody tr th:only-of-type {\n",
       "        vertical-align: middle;\n",
       "    }\n",
       "\n",
       "    .dataframe tbody tr th {\n",
       "        vertical-align: top;\n",
       "    }\n",
       "\n",
       "    .dataframe thead th {\n",
       "        text-align: right;\n",
       "    }\n",
       "</style>\n",
       "<table border=\"1\" class=\"dataframe\">\n",
       "  <thead>\n",
       "    <tr style=\"text-align: right;\">\n",
       "      <th></th>\n",
       "      <th>Previsao</th>\n",
       "      <th>Temperatura</th>\n",
       "      <th>Umidade</th>\n",
       "      <th>Vento</th>\n",
       "      <th>Jogar Tenis</th>\n",
       "    </tr>\n",
       "  </thead>\n",
       "  <tbody>\n",
       "    <tr>\n",
       "      <th>3</th>\n",
       "      <td>Chuva</td>\n",
       "      <td>Moderado</td>\n",
       "      <td>Alta</td>\n",
       "      <td>Fraco</td>\n",
       "      <td>Sim</td>\n",
       "    </tr>\n",
       "  </tbody>\n",
       "</table>\n",
       "</div>"
      ],
      "text/plain": [
       "  Previsao Temperatura Umidade  Vento Jogar Tenis\n",
       "3    Chuva    Moderado    Alta  Fraco         Sim"
      ]
     },
     "execution_count": 15,
     "metadata": {},
     "output_type": "execute_result"
    }
   ],
   "source": [
    "#obtem um elemento do conjunto de testes (manualmente definido com índice 3)\n",
    "play_tennis_original[3:4]"
   ]
  },
  {
   "cell_type": "code",
   "execution_count": 16,
   "metadata": {},
   "outputs": [
    {
     "data": {
      "text/html": [
       "<div>\n",
       "<style scoped>\n",
       "    .dataframe tbody tr th:only-of-type {\n",
       "        vertical-align: middle;\n",
       "    }\n",
       "\n",
       "    .dataframe tbody tr th {\n",
       "        vertical-align: top;\n",
       "    }\n",
       "\n",
       "    .dataframe thead th {\n",
       "        text-align: right;\n",
       "    }\n",
       "</style>\n",
       "<table border=\"1\" class=\"dataframe\">\n",
       "  <thead>\n",
       "    <tr style=\"text-align: right;\">\n",
       "      <th></th>\n",
       "      <th>Previsao</th>\n",
       "      <th>Temperatura</th>\n",
       "      <th>Umidade</th>\n",
       "      <th>Vento</th>\n",
       "      <th>Jogar Tenis</th>\n",
       "    </tr>\n",
       "  </thead>\n",
       "  <tbody>\n",
       "    <tr>\n",
       "      <th>3</th>\n",
       "      <td>0</td>\n",
       "      <td>1</td>\n",
       "      <td>0</td>\n",
       "      <td>1</td>\n",
       "      <td>1</td>\n",
       "    </tr>\n",
       "  </tbody>\n",
       "</table>\n",
       "</div>"
      ],
      "text/plain": [
       "   Previsao  Temperatura  Umidade  Vento  Jogar Tenis\n",
       "3         0            1        0      1            1"
      ]
     },
     "execution_count": 16,
     "metadata": {},
     "output_type": "execute_result"
    }
   ],
   "source": [
    "play_tennis[3:4]"
   ]
  },
  {
   "cell_type": "code",
   "execution_count": 17,
   "metadata": {},
   "outputs": [
    {
     "name": "stdout",
     "output_type": "stream",
     "text": [
      "Predição: ['Sim']\n"
     ]
    }
   ],
   "source": [
    "#A partir dos registros, temos:\n",
    "# - Previsão: Chuva = 0\n",
    "# - Temperatura: Moderada = 1\n",
    "# - Umidade: Alta = 0\n",
    "# - Vento: Fraco = 1\n",
    "\n",
    "previsao = model.predict([[0, 1, 0, 1]])\n",
    "label = labelEncoder.inverse_transform(previsao)\n",
    "print('Predição:', label)"
   ]
  },
  {
   "cell_type": "code",
   "execution_count": 18,
   "metadata": {},
   "outputs": [
    {
     "name": "stdout",
     "output_type": "stream",
     "text": [
      "Predição: ['Nao']\n"
     ]
    }
   ],
   "source": [
    "#substituição do parâmetro vento, para \"Forte\"\n",
    "previsao = model.predict([[0, 1, 0, 0]])\n",
    "label = labelEncoder.inverse_transform(previsao)\n",
    "print('Predição:', label)"
   ]
  },
  {
   "cell_type": "markdown",
   "metadata": {},
   "source": [
    "### Alteração do Método Naive Bayes \n",
    "\n",
    "Na seção iremos comparar os desempenhos dos modelos Gaussiano, Multinomial e de Bernoulli, do algoritmo Naive Bayes."
   ]
  },
  {
   "cell_type": "code",
   "execution_count": 19,
   "metadata": {},
   "outputs": [],
   "source": [
    "#(Gaussiano)\n",
    "gnb = GaussianNB()\n",
    "gnb.fit(tennis_x_train, tennis_y_train)\n",
    "tennis_gnb = gnb.predict(tennis_x_test) \n",
    "acc_gnb = accuracy_score(tennis_y_test, tennis_gnb)"
   ]
  },
  {
   "cell_type": "code",
   "execution_count": 20,
   "metadata": {},
   "outputs": [],
   "source": [
    "#(Multinomial)\n",
    "mnb = MultinomialNB()\n",
    "mnb.fit(tennis_x_train, tennis_y_train)\n",
    "tennis_mnb = mnb.predict(tennis_x_test) \n",
    "acc_mnb = accuracy_score(tennis_y_test, tennis_mnb)"
   ]
  },
  {
   "cell_type": "code",
   "execution_count": 21,
   "metadata": {},
   "outputs": [],
   "source": [
    "#(Bernoulli)\n",
    "bnb = BernoulliNB()\n",
    "bnb.fit(tennis_x_train, tennis_y_train)\n",
    "tennis_bnb = bnb.predict(tennis_x_test) \n",
    "acc_bnb = accuracy_score(tennis_y_test, tennis_bnb)"
   ]
  },
  {
   "cell_type": "code",
   "execution_count": 22,
   "metadata": {},
   "outputs": [
    {
     "name": "stdout",
     "output_type": "stream",
     "text": [
      "Gaussiano: 0.8\n",
      "Multinomial: 0.8\n",
      "Bernoulli: 0.8\n"
     ]
    }
   ],
   "source": [
    "print('Gaussiano:', acc_gnb)\n",
    "print('Multinomial:', acc_mnb)\n",
    "print('Bernoulli:', acc_bnb)"
   ]
  },
  {
   "cell_type": "code",
   "execution_count": 23,
   "metadata": {},
   "outputs": [
    {
     "data": {
      "image/png": "[encoded data removed]",
      "text/plain": [
       "<Figure size 432x288 with 1 Axes>"
      ]
     },
     "metadata": {
      "needs_background": "light"
     },
     "output_type": "display_data"
    },
    {
     "data": {
      "image/png": "[encoded data removed]",
      "text/plain": [
       "<Figure size 432x288 with 1 Axes>"
      ]
     },
     "metadata": {
      "needs_background": "light"
     },
     "output_type": "display_data"
    },
    {
     "data": {
      "image/png": "[encoded data removed]",
      "text/plain": [
       "<Figure size 432x288 with 1 Axes>"
      ]
     },
     "metadata": {
      "needs_background": "light"
     },
     "output_type": "display_data"
    }
   ],
   "source": [
    "#plot roc curves\n",
    "plot_roc_curve(gnb, tennis_x_test, tennis_y_test)\n",
    "plot_roc_curve(mnb, tennis_x_test, tennis_y_test)\n",
    "plot_roc_curve(bnb, tennis_x_test, tennis_y_test)\n",
    "plt.show() "
   ]
  },
  {
   "cell_type": "markdown",
   "metadata": {},
   "source": [
    "---\n",
    "### Digits e Wine Datasets\n",
    "\n",
    "O primeira parte do tutorial utilizará base de dados Wine Dataset, disponível nativamente pela biblioteca Scikit Learn.\n",
    "\n",
    "Informações sobre as bases de dados:\n",
    "* Digits Dataset: https://sklearn.org/modules/generated/sklearn.datasets.load_digits.html#sklearn.datasets.load_digits\n",
    "* Wine Dataset: https://sklearn.org/modules/generated/sklearn.datasets.load_wine.html#sklearn.datasets.load_wine"
   ]
  },
  {
   "cell_type": "markdown",
   "metadata": {},
   "source": [
    "#### Digits Dataset"
   ]
  },
  {
   "cell_type": "code",
   "execution_count": 24,
   "metadata": {},
   "outputs": [],
   "source": [
    "#carrega a base de dados\n",
    "digits = load_digits()"
   ]
  },
  {
   "cell_type": "code",
   "execution_count": 25,
   "metadata": {},
   "outputs": [
    {
     "name": "stdout",
     "output_type": "stream",
     "text": [
      "1797\n"
     ]
    }
   ],
   "source": [
    "#imprime o número de registros\n",
    "print(len(digits.data))"
   ]
  },
  {
   "cell_type": "code",
   "execution_count": 26,
   "metadata": {},
   "outputs": [
    {
     "data": {
      "image/png": "[encoded data removed]",
      "text/plain": [
       "<Figure size 576x360 with 12 Axes>"
      ]
     },
     "metadata": {
      "needs_background": "light"
     },
     "output_type": "display_data"
    }
   ],
   "source": [
    "fig=plt.figure(figsize=(8, 5))\n",
    "plt.gray()\n",
    "columns = 4\n",
    "rows = 3\n",
    "\n",
    "for i in range(1, columns*rows +1):\n",
    "    idx = random.randrange(0, len(digits.data))\n",
    "    img = digits.images[idx]\n",
    "    fig.add_subplot(rows, columns, i)\n",
    "    plt.imshow(img)\n",
    "plt.show()"
   ]
  },
  {
   "cell_type": "code",
   "execution_count": 27,
   "metadata": {},
   "outputs": [
    {
     "name": "stdout",
     "output_type": "stream",
     "text": [
      "Gaussiano: 0.8113904407200497\n",
      "Multinomial: 0.8797858472998138\n"
     ]
    }
   ],
   "source": [
    "#treinamento e classificação, usando métodos Naive Bayes\n",
    "gnb = GaussianNB()\n",
    "mnb = MultinomialNB()\n",
    "\n",
    "#avalia o método usando cross-validation\n",
    "digits_gnb = cross_val_score(gnb, digits.data, digits.target, scoring='accuracy', cv=10)\n",
    "digits_mnb = cross_val_score(mnb, digits.data, digits.target, scoring='accuracy', cv=10)\n",
    "\n",
    "#imprime os resultados\n",
    "print('Gaussiano:', digits_gnb.mean())\n",
    "print('Multinomial:', digits_mnb.mean())"
   ]
  },
  {
   "cell_type": "code",
   "execution_count": 28,
   "metadata": {},
   "outputs": [
    {
     "name": "stdout",
     "output_type": "stream",
     "text": [
      "0.8851851851851852\n"
     ]
    },
    {
     "data": {
      "image/png": "[encoded data removed]",
      "text/plain": [
       "<Figure size 648x648 with 2 Axes>"
      ]
     },
     "metadata": {
      "needs_background": "light"
     },
     "output_type": "display_data"
    }
   ],
   "source": [
    "#treinamento e classificação, usando métodos Naive Bayes\n",
    "mnb = MultinomialNB()\n",
    "\n",
    "digits_x_train, digits_x_test, digits_y_train, digits_y_test = split_data(digits.data, digits.target)\n",
    "\n",
    "mnb.fit(digits_x_train, digits_y_train)\n",
    "mnb_digits_preds = mnb.predict(digits_x_test)\n",
    "print(mnb.score(digits_x_test, digits_y_test))\n",
    "\n",
    "#imprime matrix de confusao\n",
    "cm = confusion_matrix(digits_y_test, mnb_digits_preds)\n",
    "print_confusion_matrix_digits(cm)"
   ]
  },
  {
   "cell_type": "markdown",
   "metadata": {},
   "source": [
    "#### Wine Dataset"
   ]
  },
  {
   "cell_type": "code",
   "execution_count": 29,
   "metadata": {},
   "outputs": [],
   "source": [
    "#carrega a base de dados\n",
    "wines = load_wine()"
   ]
  },
  {
   "cell_type": "code",
   "execution_count": 30,
   "metadata": {},
   "outputs": [
    {
     "name": "stdout",
     "output_type": "stream",
     "text": [
      "['class_0', 'class_1', 'class_2']\n",
      "178\n"
     ]
    }
   ],
   "source": [
    "#imprime o nome das classes\n",
    "print(list(wines.target_names))\n",
    "print(len(wines.data))"
   ]
  },
  {
   "cell_type": "code",
   "execution_count": 31,
   "metadata": {},
   "outputs": [
    {
     "name": "stdout",
     "output_type": "stream",
     "text": [
      "Gaussiano: 0.9777777777777779\n",
      "Multinomial: 0.8496732026143791\n"
     ]
    }
   ],
   "source": [
    "#treinamento e classificação, usando métodos Naive Bayes\n",
    "gnb = GaussianNB()\n",
    "mnb = MultinomialNB()\n",
    "\n",
    "#avalia o método usando cross-validation\n",
    "wine_gnb = cross_val_score(gnb, wines.data, wines.target, scoring='accuracy', cv=10).mean()\n",
    "wine_mnb = cross_val_score(mnb, wines.data, wines.target, scoring='accuracy', cv=10).mean()\n",
    "\n",
    "#imprime os resultados\n",
    "print('Gaussiano:', wine_gnb)\n",
    "print('Multinomial:', wine_mnb)"
   ]
  },
  {
   "cell_type": "markdown",
   "metadata": {},
   "source": [
    "---\n",
    "## Regressão Linear\n",
    "\n",
    "### Boston House Pricing Dataset\n",
    "\n",
    "Para desenvolvimento desta seção, será utilizada a base de dados de Boston House Pricing Dataset.\n",
    "A base de dados está disponível no Kaggle, porém pode ser acessada diretamente pelo biblioteca Scikit-Learning.\n",
    "\n",
    "Informações sobre a base de dados:\n",
    "* https://www.kaggle.com/vikrishnan/boston-house-prices"
   ]
  },
  {
   "cell_type": "code",
   "execution_count": 32,
   "metadata": {},
   "outputs": [
    {
     "name": "stdout",
     "output_type": "stream",
     "text": [
      "(506, 13)\n"
     ]
    }
   ],
   "source": [
    "#carrega a base de dados\n",
    "boston = load_boston()\n",
    "print(boston.data.shape)"
   ]
  },
  {
   "cell_type": "markdown",
   "metadata": {},
   "source": [
    "#### Parte 1 - Preço Imóvel x Número Quartos\n",
    "\n",
    "Nesta primeira parte, iremos correlacionar o preço do imóvel ao número de quartos por habitação."
   ]
  },
  {
   "cell_type": "code",
   "execution_count": 33,
   "metadata": {},
   "outputs": [],
   "source": [
    "#recupera coluna de interesse e valor objetivo (preço imóvel)\n",
    "boston_no_quartos = boston.data[:,np.newaxis,5] #números de quartos por habitação\n",
    "boston_preco_imovel = boston.target"
   ]
  },
  {
   "cell_type": "code",
   "execution_count": 34,
   "metadata": {},
   "outputs": [],
   "source": [
    "#divisão dos conjuntos de treino e testes\n",
    "boston_x_train, boston_x_test, boston_y_train, boston_y_test = split_data(boston_no_quartos, boston_preco_imovel)"
   ]
  },
  {
   "cell_type": "code",
   "execution_count": 35,
   "metadata": {},
   "outputs": [],
   "source": [
    "#treinamento e predição, usando Regressão Linear\n",
    "lin_reg= LinearRegression()\n",
    "\n",
    "lin_reg.fit(boston_x_train, boston_y_train)\n",
    "boston_linreg_preds = lin_reg.predict(boston_x_test)"
   ]
  },
  {
   "cell_type": "code",
   "execution_count": 36,
   "metadata": {},
   "outputs": [
    {
     "name": "stdout",
     "output_type": "stream",
     "text": [
      "Erro médio quadrático: 45.08\n"
     ]
    },
    {
     "data": {
      "image/png": "[encoded data removed]",
      "text/plain": [
       "<Figure size 720x576 with 1 Axes>"
      ]
     },
     "metadata": {
      "needs_background": "light"
     },
     "output_type": "display_data"
    }
   ],
   "source": [
    "#impressão de erro médio quadrático\n",
    "print_reg_linear(lin_reg, boston_x_test, boston_y_test, boston_linreg_preds)"
   ]
  },
  {
   "cell_type": "markdown",
   "metadata": {},
   "source": [
    "#### Parte 2 - Preço Imóvel x Distância Ponderada Centro Comerciais/Empresariais\n",
    "\n",
    "Nesta segunda parte, iremos correlacionar o valor do imóvel à distância dos 5 principais centros comerciais/empresariais da cidade."
   ]
  },
  {
   "cell_type": "code",
   "execution_count": 37,
   "metadata": {},
   "outputs": [],
   "source": [
    "#recupera coluna de interesse e valor objetivo (preço imóvel)\n",
    "boston_distancia = boston.data[:,np.newaxis,7] #distâncias ponderadas para cinco centros de empregos de Boston\n",
    "boston_preco_imovel = boston.target"
   ]
  },
  {
   "cell_type": "code",
   "execution_count": 38,
   "metadata": {},
   "outputs": [],
   "source": [
    "#divisão dos conjuntos de treino e testes\n",
    "boston_x_train, boston_x_test, boston_y_train, boston_y_test = split_data(boston_distancia, boston_preco_imovel)"
   ]
  },
  {
   "cell_type": "code",
   "execution_count": 39,
   "metadata": {},
   "outputs": [],
   "source": [
    "#treinamento e predição, usando Regressão Linear\n",
    "lin_reg= LinearRegression()\n",
    "\n",
    "lin_reg.fit(boston_x_train, boston_y_train)\n",
    "boston_linreg_preds = lin_reg.predict(boston_x_test)"
   ]
  },
  {
   "cell_type": "code",
   "execution_count": 40,
   "metadata": {},
   "outputs": [
    {
     "name": "stdout",
     "output_type": "stream",
     "text": [
      "Erro médio quadrático: 98.91\n"
     ]
    },
    {
     "data": {
      "image/png": "[encoded data removed]",
      "text/plain": [
       "<Figure size 720x576 with 1 Axes>"
      ]
     },
     "metadata": {
      "needs_background": "light"
     },
     "output_type": "display_data"
    }
   ],
   "source": [
    "#imprime gráfico\n",
    "print_reg_linear(lin_reg, boston_x_test, boston_y_test, boston_linreg_preds)"
   ]
  },
  {
   "cell_type": "markdown",
   "metadata": {},
   "source": [
    "---\n",
    "## Regressão Logística\n",
    "\n",
    "Nesta seção, será utilizada a base de dados *Digits*, previamente utilizada.\n",
    "\n",
    "O algorito de Regressão Logística possui diversas parametrizações, conforme disponível em sua documentação. No entanto, o presente tutorial irá utilizar a versão padrão do algoritmo, disponibilizado pela biblioteca Scikit Learn.\n",
    "\n",
    "A documentação do algoritmo está disponível em:\n",
    "* https://sklearn.org/modules/generated/sklearn.linear_model.LogisticRegression.html#sklearn.linear_model.LogisticRegression"
   ]
  },
  {
   "cell_type": "code",
   "execution_count": 41,
   "metadata": {},
   "outputs": [],
   "source": [
    "#será utilizada a base de dados 'digits', já previamente carregada"
   ]
  },
  {
   "cell_type": "code",
   "execution_count": 42,
   "metadata": {},
   "outputs": [],
   "source": [
    "#treinamento e predição, usando Regressão Linear\n",
    "log_reg = LogisticRegression(max_iter=5000)\n",
    "\n",
    "log_reg.fit(digits_x_train, digits_y_train)\n",
    "log_reg_preds = log_reg.predict(digits_x_test)"
   ]
  },
  {
   "cell_type": "code",
   "execution_count": 43,
   "metadata": {},
   "outputs": [
    {
     "name": "stdout",
     "output_type": "stream",
     "text": [
      "0.9648148148148148\n",
      "Erro médio quadrático: 0.57\n"
     ]
    }
   ],
   "source": [
    "#impressão da acurácia do modelo\n",
    "print(log_reg.score(digits_x_test, digits_y_test))\n",
    "\n",
    "#impressão de erro médio quadrático\n",
    "print(\"Erro médio quadrático: %.2f\" % mean_squared_error(digits_y_test, log_reg_preds))"
   ]
  },
  {
   "cell_type": "code",
   "execution_count": 44,
   "metadata": {},
   "outputs": [
    {
     "data": {
      "image/png": "[encoded data removed]",
      "text/plain": [
       "<Figure size 648x648 with 2 Axes>"
      ]
     },
     "metadata": {
      "needs_background": "light"
     },
     "output_type": "display_data"
    }
   ],
   "source": [
    "#calcula matriz de confusão\n",
    "cm = confusion_matrix(digits_y_test, log_reg_preds)\n",
    "\n",
    "#imprime matrix de confusao\n",
    "print_confusion_matrix_digits(cm)"
   ]
  },
  {
   "cell_type": "markdown",
   "metadata": {},
   "source": [
    "---\n",
    "## Perceptron\n",
    "\n",
    "Nesta seção, será utilizada a base de dados Digits, previamente utilizada.\n",
    "\n",
    "O método Perceptron possui diversas parametrizações, conforme disponível em sua documentação. No entanto, o presente tutorial irá utilizar a versão *default* do algoritmo, disponibilizado pela biblioteca Scikit Learn.\n",
    "\n",
    "A documentação do algoritmo está disponível em:\n",
    "* https://sklearn.org/modules/generated/sklearn.linear_model.Perceptron.html#sklearn.linear_model.Perceptron"
   ]
  },
  {
   "cell_type": "code",
   "execution_count": 48,
   "metadata": {},
   "outputs": [],
   "source": [
    "#será utilizada a base de dados 'digits', já previamente carregada"
   ]
  },
  {
   "cell_type": "code",
   "execution_count": 49,
   "metadata": {},
   "outputs": [],
   "source": [
    "#treinamento e predição, usando Regressão Linear\n",
    "perceptron = Perceptron(max_iter=5000)\n",
    "\n",
    "perceptron.fit(digits_x_train, digits_y_train)\n",
    "percep_preds = perceptron.predict(digits_x_test)"
   ]
  },
  {
   "cell_type": "code",
   "execution_count": 50,
   "metadata": {},
   "outputs": [
    {
     "name": "stdout",
     "output_type": "stream",
     "text": [
      "0.9203703703703704\n",
      "Erro médio quadrático: 1.58\n"
     ]
    }
   ],
   "source": [
    "#impressão da acurácia do modelo\n",
    "print(perceptron.score(digits_x_test, digits_y_test))\n",
    "\n",
    "#impressão de erro médio quadrático\n",
    "print(\"Erro médio quadrático: %.2f\" % mean_squared_error(digits_y_test, percep_preds))"
   ]
  },
  {
   "cell_type": "code",
   "execution_count": 51,
   "metadata": {},
   "outputs": [
    {
     "data": {
      "image/png": "[encoded data removed]",
      "text/plain": [
       "<Figure size 648x648 with 2 Axes>"
      ]
     },
     "metadata": {
      "needs_background": "light"
     },
     "output_type": "display_data"
    }
   ],
   "source": [
    "#calcula matriz de confusão\n",
    "cm = confusion_matrix(digits_y_test, percep_preds)\n",
    "\n",
    "#imprime matrix de confusao\n",
    "print_confusion_matrix_digits(cm)"
   ]
  },
  {
   "cell_type": "code",
   "execution_count": null,
   "metadata": {},
   "outputs": [],
   "source": []
  }
 ],
 "metadata": {
  "kernelspec": {
   "display_name": "Python 3",
   "language": "python",
   "name": "python3"
  },
  "language_info": {
   "codemirror_mode": {
    "name": "ipython",
    "version": 3
   },
   "file_extension": ".py",
   "mimetype": "text/x-python",
   "name": "python",
   "nbconvert_exporter": "python",
   "pygments_lexer": "ipython3",
   "version": "3.6.5"
  }
 },
 "nbformat": 4,
 "nbformat_minor": 4
}
