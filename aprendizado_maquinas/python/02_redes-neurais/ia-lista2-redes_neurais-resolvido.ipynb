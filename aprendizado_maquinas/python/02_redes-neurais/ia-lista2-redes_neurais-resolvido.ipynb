{
 "cells": [
  {
   "cell_type": "markdown",
   "metadata": {},
   "source": [
    "![IFMG](https://storage.googleapis.com/ifmg/IFMG.png)\n",
    "\n",
    "---\n",
    "# Problemas Clássicos da Computação\n"
   ]
  },
  {
   "cell_type": "markdown",
   "metadata": {},
   "source": [
    "---\n",
    "## Instruções Iniciais\n",
    "\n",
    "Olá,\n",
    "\n",
    "Para solucionar esta lista de exercícios, será necessário que assista as aulas assíncronas e consulte o material da disciplina, disponibilizados no Google Classroom.\n",
    "\n",
    "Caso tenha dúvidas sobre a escrita de marcadores usando o Jupyter Notebook / Google Colab, consulte os links abaixo:\n",
    "* https://jupyter.org/documentation\n",
    "* https://www.datacamp.com/community/tutorials/markdown-in-jupyter-notebook\n",
    "\n",
    "Caso tenha dúvidas sobre programação em Python, utilização de Anaconda, Jupyter Notebook e/ou Google Colab utilize as playlists/vídeos abaixo:\n",
    "* https://www.youtube.com/playlist?list=PLyqOvdQmGdTSEPnO0DKgHlkXb8x3cyglD\n",
    "* https://www.youtube.com/watch?v=Gojqw9BQ5qY\n",
    "\n",
    "A lista requer conhecimento de redes neurais, Tensorflow e Keras. Caso tenha dúvidas sobre Tensorflow e Keras, consulte os seguintes links:\n",
    "* https://www.tensorflow.org/\n",
    "* https://keras.io/\n",
    "\n",
    "Caso tenha dúvidas, faça sua pergunta no fórum da disciplina no Google Classroom, envie um email para o professor (felipe.reis@ifmg.edu.br) ou faça sua pergunta durante uma aula síncrona (via Google Meet).\n",
    "\n",
    "Após a conclusão da lista, faça do download arquivo em formato *.ipynb* e *.pdf* e submeta os arquivos na atividade do Google Classroom.\n",
    "\n",
    "Boa prática!\n",
    "\n",
    "---"
   ]
  },
  {
   "cell_type": "markdown",
   "metadata": {},
   "source": [
    "---\n",
    "### Importação de bibliotecas necessárias à prática"
   ]
  },
  {
   "cell_type": "code",
   "execution_count": 1,
   "metadata": {},
   "outputs": [],
   "source": [
    "import numpy as np\n",
    "import matplotlib.pyplot as plt\n",
    "import random\n",
    "import time\n",
    "\n",
    "#tensorflow\n",
    "import tensorflow as tf\n",
    "from tensorflow.python.client import device_lib\n",
    "\n",
    "#keras\n",
    "from tensorflow import keras"
   ]
  },
  {
   "cell_type": "markdown",
   "metadata": {},
   "source": [
    "#### Uso de GPU\n",
    "\n",
    "Execute o código abaixo para verificar se está utilizando GPU para execução do Tensorflow."
   ]
  },
  {
   "cell_type": "code",
   "execution_count": 2,
   "metadata": {},
   "outputs": [
    {
     "name": "stdout",
     "output_type": "stream",
     "text": [
      "Default GPU Name: [name: \"/device:CPU:0\"\n",
      "device_type: \"CPU\"\n",
      "memory_limit: 268435456\n",
      "locality {\n",
      "}\n",
      "incarnation: 446985847143737166\n",
      ", name: \"/device:XLA_CPU:0\"\n",
      "device_type: \"XLA_CPU\"\n",
      "memory_limit: 17179869184\n",
      "locality {\n",
      "}\n",
      "incarnation: 17139696221298517824\n",
      "physical_device_desc: \"device: XLA_CPU device\"\n",
      ", name: \"/device:GPU:0\"\n",
      "device_type: \"GPU\"\n",
      "memory_limit: 3722444800\n",
      "locality {\n",
      "  bus_id: 1\n",
      "  links {\n",
      "  }\n",
      "}\n",
      "incarnation: 15087384166174651675\n",
      "physical_device_desc: \"device: 0, name: GeForce GTX 1050 Ti, pci bus id: 0000:07:00.0, compute capability: 6.1\"\n",
      ", name: \"/device:XLA_GPU:0\"\n",
      "device_type: \"XLA_GPU\"\n",
      "memory_limit: 17179869184\n",
      "locality {\n",
      "}\n",
      "incarnation: 10193853644737861069\n",
      "physical_device_desc: \"device: XLA_GPU device\"\n",
      "]\n"
     ]
    }
   ],
   "source": [
    "if tf.test.gpu_device_name():\n",
    "    print('Default GPU Name: {}'.format(device_lib.list_local_devices()))\n",
    "else:\n",
    "    print(\"Please install GPU version of TF\")\n",
    "    print('Acesse o menu Edit > Notebook Settings')\n",
    "    print('Escolha a opção \"Hardware Accelerator: GPU\"')\n",
    "    print('Importe novamente as bibliotecas e execute o código novamente')"
   ]
  },
  {
   "cell_type": "markdown",
   "metadata": {},
   "source": [
    "#### Funções Úteis\n",
    "\n",
    "Execute o código abaixo para utilizar funções de plotagem de imagens e recuperação do valor do array."
   ]
  },
  {
   "cell_type": "code",
   "execution_count": 3,
   "metadata": {},
   "outputs": [],
   "source": [
    "#funções úteis \n",
    "#plota imagens\n",
    "def plot_image(i, predictions_array, true_label, img):\n",
    "    predictions_array, true_label, img = predictions_array[i], true_label[i], img[i]\n",
    "    plt.grid(False)\n",
    "    plt.xticks([])\n",
    "    plt.yticks([])\n",
    "\n",
    "    plt.imshow(img, cmap=plt.cm.binary)\n",
    "\n",
    "    predicted_label = np.argmax(predictions_array)\n",
    "    \n",
    "    if predicted_label == true_label:\n",
    "        color = 'blue'\n",
    "    else:\n",
    "        color = 'red'\n",
    "\n",
    "    plt.xlabel(\"{} {:2.0f}% ({})\".format(class_names[predicted_label],\n",
    "                                100*np.max(predictions_array),\n",
    "                                class_names[true_label]),\n",
    "                                color=color)\n",
    "\n",
    "#plota valor do array\n",
    "def plot_value_array(i, predictions_array, true_label):\n",
    "    predictions_array, true_label = predictions_array[i], true_label[i]\n",
    "    plt.grid(False)\n",
    "    plt.xticks([])\n",
    "    plt.yticks([])\n",
    "    thisplot = plt.bar(range(10), predictions_array, color=\"#777777\")\n",
    "    plt.ylim([0, 1])\n",
    "    predicted_label = np.argmax(predictions_array)\n",
    "\n",
    "    thisplot[predicted_label].set_color('red')\n",
    "    thisplot[true_label].set_color('blue')"
   ]
  },
  {
   "cell_type": "markdown",
   "metadata": {},
   "source": [
    "---\n",
    "## Questões Práticas - Parte B\n"
   ]
  },
  {
   "cell_type": "markdown",
   "metadata": {},
   "source": [
    "### [B-01] Analise a implementação de uma rede neural MLP existente [neste](https://github.com/jaymody/backpropagation/blob/master/README.md) repositório. Descreva, com auxílio dos slides da disciplina, a rotina de back-propagation, a fase forward de treinamento e as funções de ativação (e suas derivadas) existentes no código fonte.\n",
    "\n",
    "* Repositório: https://github.com/jaymody/backpropagation\n",
    "* Autor repositório: Jay Mody\n",
    "* Arquivo repositório: https://github.com/jaymody/backpropagation/blob/master/README.md\n"
   ]
  },
  {
   "cell_type": "markdown",
   "metadata": {},
   "source": [
    "[Insira sua resposta aqui]"
   ]
  },
  {
   "cell_type": "markdown",
   "metadata": {},
   "source": [
    "### [B-02] Altere a classe Perceptron abaixo e adicione um parâmetro para definir o limiar de ativação da função degrau. Apresente os dados de treinamento (verbose=True) para a operação AND, conforme tabela verdade abaixo, para os limiares de ativação iguais a 0, 0.25 e 0.5. Explique os resultados encontrados.\n",
    "\n",
    "* **obs. 1: Limite a execução a no máximo 10 épocas de treinamento**\n",
    "* **obs. 2: Utilize taxa de aprendizado máxima de 0.01**\n",
    "\n",
    "| A  | B  | A ^ B |\n",
    "| --- | --- | --- |\n",
    "| 0 | 0 | 0 |\n",
    "| 0 | 1 | 0 |\n",
    "| 1 | 0 | 0 |\n",
    "| 1 | 1 | 1 |\n"
   ]
  },
  {
   "cell_type": "code",
   "execution_count": 4,
   "metadata": {},
   "outputs": [],
   "source": [
    "class Perceptron(object):\n",
    "\n",
    "    #inicialização da classe\n",
    "    def __init__(self, no_of_inputs, epochs=100, learning_rate=0.01, \n",
    "                 activation='step', threshold=0, init='zeros'):\n",
    "        \n",
    "        self.epochs = epochs\n",
    "        self.learning_rate = learning_rate\n",
    "        self.activation_method = 'step'\n",
    "        self.threshold = threshold\n",
    "        \n",
    "        if(init == 'zeros'):\n",
    "            self.weights = np.zeros(no_of_inputs + 1) #+1 para entrada de bias\n",
    "        else:\n",
    "            self.weights = np.random.rand(no_of_inputs + 1) - 0.5 #+1 para entrada de bias]\n",
    "    \n",
    "    #método de predição de entradas\n",
    "    def predict(self, inputs):\n",
    "        summation = np.dot(inputs, self.weights[1:]) + self.weights[0] #(entrada x pesos) + bias\n",
    "        \n",
    "        if(self.activation_method == 'step'):\n",
    "            if summation > self.threshold:\n",
    "                activation = 1\n",
    "            else:\n",
    "                activation = 0            \n",
    "            return activation, summation\n",
    "        \n",
    "        else:\n",
    "            return None, None\n",
    "    \n",
    "    def predict_out(self, inputs):\n",
    "        return self.predict(inputs)[0]\n",
    "\n",
    "    #treinamento da rede neural\n",
    "    def train(self, training_inputs, labels, verbose=False):\n",
    "        for epoch in range(self.epochs):\n",
    "            #imprime predições intermediárias\n",
    "            if(verbose):\n",
    "                print('Época #', epoch)\n",
    "                for inputs in training_inputs:\n",
    "                    activ, summ = self.predict(inputs)\n",
    "                    print('Input', inputs, 'Prediction:', activ, 'Intermediary: %.3f' % summ)\n",
    "            \n",
    "            for inputs, label in zip(training_inputs, labels):\n",
    "                prediction, _ = self.predict(inputs)\n",
    "                self.weights[1:] += self.learning_rate * (label - prediction) * inputs  #vetor de pesos\n",
    "                self.weights[0] += self.learning_rate * (label - prediction)  #bias"
   ]
  },
  {
   "cell_type": "code",
   "execution_count": 5,
   "metadata": {},
   "outputs": [],
   "source": [
    "#insira sua resposta aqui\n",
    "\n",
    "#tabela verdade\n",
    "training_inputs = np.array([\n",
    "                [0, 0],\n",
    "                [0, 1],\n",
    "                [1, 0],\n",
    "                [1, 1]], dtype='double')\n",
    "\n",
    "#resultados esperados\n",
    "labels = np.array([0, 0, 0, 1]) #and operation"
   ]
  },
  {
   "cell_type": "code",
   "execution_count": 6,
   "metadata": {
    "scrolled": true
   },
   "outputs": [
    {
     "name": "stdout",
     "output_type": "stream",
     "text": [
      "Época # 0\n",
      "Input [0. 0.] Prediction: 0 Intermediary: 0.000\n",
      "Input [0. 1.] Prediction: 0 Intermediary: 0.000\n",
      "Input [1. 0.] Prediction: 0 Intermediary: 0.000\n",
      "Input [1. 1.] Prediction: 0 Intermediary: 0.000\n",
      "Época # 1\n",
      "Input [0. 0.] Prediction: 1 Intermediary: 0.010\n",
      "Input [0. 1.] Prediction: 1 Intermediary: 0.020\n",
      "Input [1. 0.] Prediction: 1 Intermediary: 0.020\n",
      "Input [1. 1.] Prediction: 1 Intermediary: 0.030\n",
      "Época # 2\n",
      "Input [0. 0.] Prediction: 0 Intermediary: 0.000\n",
      "Input [0. 1.] Prediction: 1 Intermediary: 0.010\n",
      "Input [1. 0.] Prediction: 1 Intermediary: 0.020\n",
      "Input [1. 1.] Prediction: 1 Intermediary: 0.030\n",
      "Época # 3\n",
      "Input [0. 0.] Prediction: 0 Intermediary: -0.010\n",
      "Input [0. 1.] Prediction: 0 Intermediary: 0.000\n",
      "Input [1. 0.] Prediction: 1 Intermediary: 0.010\n",
      "Input [1. 1.] Prediction: 1 Intermediary: 0.020\n",
      "Época # 4\n",
      "Input [0. 0.] Prediction: 0 Intermediary: -0.010\n",
      "Input [0. 1.] Prediction: 1 Intermediary: 0.010\n",
      "Input [1. 0.] Prediction: 1 Intermediary: 0.010\n",
      "Input [1. 1.] Prediction: 1 Intermediary: 0.030\n",
      "Época # 5\n",
      "Input [0. 0.] Prediction: 0 Intermediary: -0.020\n",
      "Input [0. 1.] Prediction: 0 Intermediary: -0.010\n",
      "Input [1. 0.] Prediction: 0 Intermediary: 0.000\n",
      "Input [1. 1.] Prediction: 1 Intermediary: 0.010\n",
      "Época # 6\n",
      "Input [0. 0.] Prediction: 0 Intermediary: -0.020\n",
      "Input [0. 1.] Prediction: 0 Intermediary: -0.010\n",
      "Input [1. 0.] Prediction: 0 Intermediary: 0.000\n",
      "Input [1. 1.] Prediction: 1 Intermediary: 0.010\n",
      "Época # 7\n",
      "Input [0. 0.] Prediction: 0 Intermediary: -0.020\n",
      "Input [0. 1.] Prediction: 0 Intermediary: -0.010\n",
      "Input [1. 0.] Prediction: 0 Intermediary: 0.000\n",
      "Input [1. 1.] Prediction: 1 Intermediary: 0.010\n",
      "Época # 8\n",
      "Input [0. 0.] Prediction: 0 Intermediary: -0.020\n",
      "Input [0. 1.] Prediction: 0 Intermediary: -0.010\n",
      "Input [1. 0.] Prediction: 0 Intermediary: 0.000\n",
      "Input [1. 1.] Prediction: 1 Intermediary: 0.010\n",
      "Época # 9\n",
      "Input [0. 0.] Prediction: 0 Intermediary: -0.020\n",
      "Input [0. 1.] Prediction: 0 Intermediary: -0.010\n",
      "Input [1. 0.] Prediction: 0 Intermediary: 0.000\n",
      "Input [1. 1.] Prediction: 1 Intermediary: 0.010\n"
     ]
    }
   ],
   "source": [
    "#limiar = 0\n",
    "perceptron = Perceptron(no_of_inputs=2, epochs=10, learning_rate=0.01, activation='step', threshold=0)\n",
    "perceptron.train(training_inputs, labels, verbose=True)"
   ]
  },
  {
   "cell_type": "code",
   "execution_count": 7,
   "metadata": {
    "scrolled": true
   },
   "outputs": [
    {
     "name": "stdout",
     "output_type": "stream",
     "text": [
      "Época # 0\n",
      "Input [0. 0.] Prediction: 0 Intermediary: 0.000\n",
      "Input [0. 1.] Prediction: 0 Intermediary: 0.000\n",
      "Input [1. 0.] Prediction: 0 Intermediary: 0.000\n",
      "Input [1. 1.] Prediction: 0 Intermediary: 0.000\n",
      "Época # 1\n",
      "Input [0. 0.] Prediction: 0 Intermediary: 0.010\n",
      "Input [0. 1.] Prediction: 0 Intermediary: 0.020\n",
      "Input [1. 0.] Prediction: 0 Intermediary: 0.020\n",
      "Input [1. 1.] Prediction: 0 Intermediary: 0.030\n",
      "Época # 2\n",
      "Input [0. 0.] Prediction: 0 Intermediary: 0.020\n",
      "Input [0. 1.] Prediction: 0 Intermediary: 0.040\n",
      "Input [1. 0.] Prediction: 0 Intermediary: 0.040\n",
      "Input [1. 1.] Prediction: 0 Intermediary: 0.060\n",
      "Época # 3\n",
      "Input [0. 0.] Prediction: 0 Intermediary: 0.030\n",
      "Input [0. 1.] Prediction: 0 Intermediary: 0.060\n",
      "Input [1. 0.] Prediction: 0 Intermediary: 0.060\n",
      "Input [1. 1.] Prediction: 0 Intermediary: 0.090\n",
      "Época # 4\n",
      "Input [0. 0.] Prediction: 0 Intermediary: 0.040\n",
      "Input [0. 1.] Prediction: 0 Intermediary: 0.080\n",
      "Input [1. 0.] Prediction: 0 Intermediary: 0.080\n",
      "Input [1. 1.] Prediction: 0 Intermediary: 0.120\n",
      "Época # 5\n",
      "Input [0. 0.] Prediction: 0 Intermediary: 0.050\n",
      "Input [0. 1.] Prediction: 0 Intermediary: 0.100\n",
      "Input [1. 0.] Prediction: 0 Intermediary: 0.100\n",
      "Input [1. 1.] Prediction: 0 Intermediary: 0.150\n",
      "Época # 6\n",
      "Input [0. 0.] Prediction: 0 Intermediary: 0.060\n",
      "Input [0. 1.] Prediction: 0 Intermediary: 0.120\n",
      "Input [1. 0.] Prediction: 0 Intermediary: 0.120\n",
      "Input [1. 1.] Prediction: 0 Intermediary: 0.180\n",
      "Época # 7\n",
      "Input [0. 0.] Prediction: 0 Intermediary: 0.070\n",
      "Input [0. 1.] Prediction: 0 Intermediary: 0.140\n",
      "Input [1. 0.] Prediction: 0 Intermediary: 0.140\n",
      "Input [1. 1.] Prediction: 0 Intermediary: 0.210\n",
      "Época # 8\n",
      "Input [0. 0.] Prediction: 0 Intermediary: 0.080\n",
      "Input [0. 1.] Prediction: 0 Intermediary: 0.160\n",
      "Input [1. 0.] Prediction: 0 Intermediary: 0.160\n",
      "Input [1. 1.] Prediction: 0 Intermediary: 0.240\n",
      "Época # 9\n",
      "Input [0. 0.] Prediction: 0 Intermediary: 0.090\n",
      "Input [0. 1.] Prediction: 0 Intermediary: 0.180\n",
      "Input [1. 0.] Prediction: 0 Intermediary: 0.180\n",
      "Input [1. 1.] Prediction: 1 Intermediary: 0.270\n"
     ]
    }
   ],
   "source": [
    "#limiar = 0.25\n",
    "perceptron = Perceptron(no_of_inputs=2, epochs=10, learning_rate=0.01, activation='step', threshold=0.25)\n",
    "perceptron.train(training_inputs, labels, verbose=True)"
   ]
  },
  {
   "cell_type": "code",
   "execution_count": 8,
   "metadata": {
    "scrolled": true
   },
   "outputs": [
    {
     "name": "stdout",
     "output_type": "stream",
     "text": [
      "Época # 0\n",
      "Input [0. 0.] Prediction: 0 Intermediary: 0.000\n",
      "Input [0. 1.] Prediction: 0 Intermediary: 0.000\n",
      "Input [1. 0.] Prediction: 0 Intermediary: 0.000\n",
      "Input [1. 1.] Prediction: 0 Intermediary: 0.000\n",
      "Época # 1\n",
      "Input [0. 0.] Prediction: 0 Intermediary: 0.010\n",
      "Input [0. 1.] Prediction: 0 Intermediary: 0.020\n",
      "Input [1. 0.] Prediction: 0 Intermediary: 0.020\n",
      "Input [1. 1.] Prediction: 0 Intermediary: 0.030\n",
      "Época # 2\n",
      "Input [0. 0.] Prediction: 0 Intermediary: 0.020\n",
      "Input [0. 1.] Prediction: 0 Intermediary: 0.040\n",
      "Input [1. 0.] Prediction: 0 Intermediary: 0.040\n",
      "Input [1. 1.] Prediction: 0 Intermediary: 0.060\n",
      "Época # 3\n",
      "Input [0. 0.] Prediction: 0 Intermediary: 0.030\n",
      "Input [0. 1.] Prediction: 0 Intermediary: 0.060\n",
      "Input [1. 0.] Prediction: 0 Intermediary: 0.060\n",
      "Input [1. 1.] Prediction: 0 Intermediary: 0.090\n",
      "Época # 4\n",
      "Input [0. 0.] Prediction: 0 Intermediary: 0.040\n",
      "Input [0. 1.] Prediction: 0 Intermediary: 0.080\n",
      "Input [1. 0.] Prediction: 0 Intermediary: 0.080\n",
      "Input [1. 1.] Prediction: 0 Intermediary: 0.120\n",
      "Época # 5\n",
      "Input [0. 0.] Prediction: 0 Intermediary: 0.050\n",
      "Input [0. 1.] Prediction: 0 Intermediary: 0.100\n",
      "Input [1. 0.] Prediction: 0 Intermediary: 0.100\n",
      "Input [1. 1.] Prediction: 0 Intermediary: 0.150\n",
      "Época # 6\n",
      "Input [0. 0.] Prediction: 0 Intermediary: 0.060\n",
      "Input [0. 1.] Prediction: 0 Intermediary: 0.120\n",
      "Input [1. 0.] Prediction: 0 Intermediary: 0.120\n",
      "Input [1. 1.] Prediction: 0 Intermediary: 0.180\n",
      "Época # 7\n",
      "Input [0. 0.] Prediction: 0 Intermediary: 0.070\n",
      "Input [0. 1.] Prediction: 0 Intermediary: 0.140\n",
      "Input [1. 0.] Prediction: 0 Intermediary: 0.140\n",
      "Input [1. 1.] Prediction: 0 Intermediary: 0.210\n",
      "Época # 8\n",
      "Input [0. 0.] Prediction: 0 Intermediary: 0.080\n",
      "Input [0. 1.] Prediction: 0 Intermediary: 0.160\n",
      "Input [1. 0.] Prediction: 0 Intermediary: 0.160\n",
      "Input [1. 1.] Prediction: 0 Intermediary: 0.240\n",
      "Época # 9\n",
      "Input [0. 0.] Prediction: 0 Intermediary: 0.090\n",
      "Input [0. 1.] Prediction: 0 Intermediary: 0.180\n",
      "Input [1. 0.] Prediction: 0 Intermediary: 0.180\n",
      "Input [1. 1.] Prediction: 0 Intermediary: 0.270\n"
     ]
    }
   ],
   "source": [
    "#limiar = 0.5\n",
    "perceptron = Perceptron(no_of_inputs=2, epochs=10, learning_rate=0.01, activation='step', threshold=0.5)\n",
    "perceptron.train(training_inputs, labels, verbose=True)"
   ]
  },
  {
   "cell_type": "markdown",
   "metadata": {},
   "source": [
    "* Como a taxa de aprendizado é muito pequena, o Perceptron demora mais a convergir quando o limiar é 0.25. \n",
    "* No último treinamento, devido à pequena taxa de aprendizado, o Perceptron não consegue atingir aprender a tabela verdade, sendo necessárias mais épocas para treinamento."
   ]
  },
  {
   "cell_type": "markdown",
   "metadata": {},
   "source": [
    "### [B-03] Altere a classe Perceptron da questão B-02 para inicializar os pesos com valores aleatórios entre -0.5 e 0.5 (código comentado). Apresente os dados de treinamento para a operação AND para os limiares de ativação iguais a 0, 0.25 e 0.5. Explique os resultados encontrados.\n",
    "\n",
    "* **obs. 1: Limite a execução a no máximo 10 épocas de treinamento**\n",
    "* **obs. 2: Utilize taxa de aprendizado máxima de 0.01**"
   ]
  },
  {
   "cell_type": "code",
   "execution_count": 9,
   "metadata": {
    "scrolled": true
   },
   "outputs": [
    {
     "name": "stdout",
     "output_type": "stream",
     "text": [
      "Época # 0\n",
      "Input [0. 0.] Prediction: 0 Intermediary: -0.440\n",
      "Input [0. 1.] Prediction: 0 Intermediary: -0.059\n",
      "Input [1. 0.] Prediction: 0 Intermediary: -0.077\n",
      "Input [1. 1.] Prediction: 1 Intermediary: 0.304\n",
      "Época # 1\n",
      "Input [0. 0.] Prediction: 0 Intermediary: -0.440\n",
      "Input [0. 1.] Prediction: 0 Intermediary: -0.059\n",
      "Input [1. 0.] Prediction: 0 Intermediary: -0.077\n",
      "Input [1. 1.] Prediction: 1 Intermediary: 0.304\n",
      "Época # 2\n",
      "Input [0. 0.] Prediction: 0 Intermediary: -0.440\n",
      "Input [0. 1.] Prediction: 0 Intermediary: -0.059\n",
      "Input [1. 0.] Prediction: 0 Intermediary: -0.077\n",
      "Input [1. 1.] Prediction: 1 Intermediary: 0.304\n",
      "Época # 3\n",
      "Input [0. 0.] Prediction: 0 Intermediary: -0.440\n",
      "Input [0. 1.] Prediction: 0 Intermediary: -0.059\n",
      "Input [1. 0.] Prediction: 0 Intermediary: -0.077\n",
      "Input [1. 1.] Prediction: 1 Intermediary: 0.304\n",
      "Época # 4\n",
      "Input [0. 0.] Prediction: 0 Intermediary: -0.440\n",
      "Input [0. 1.] Prediction: 0 Intermediary: -0.059\n",
      "Input [1. 0.] Prediction: 0 Intermediary: -0.077\n",
      "Input [1. 1.] Prediction: 1 Intermediary: 0.304\n",
      "Época # 5\n",
      "Input [0. 0.] Prediction: 0 Intermediary: -0.440\n",
      "Input [0. 1.] Prediction: 0 Intermediary: -0.059\n",
      "Input [1. 0.] Prediction: 0 Intermediary: -0.077\n",
      "Input [1. 1.] Prediction: 1 Intermediary: 0.304\n",
      "Época # 6\n",
      "Input [0. 0.] Prediction: 0 Intermediary: -0.440\n",
      "Input [0. 1.] Prediction: 0 Intermediary: -0.059\n",
      "Input [1. 0.] Prediction: 0 Intermediary: -0.077\n",
      "Input [1. 1.] Prediction: 1 Intermediary: 0.304\n",
      "Época # 7\n",
      "Input [0. 0.] Prediction: 0 Intermediary: -0.440\n",
      "Input [0. 1.] Prediction: 0 Intermediary: -0.059\n",
      "Input [1. 0.] Prediction: 0 Intermediary: -0.077\n",
      "Input [1. 1.] Prediction: 1 Intermediary: 0.304\n",
      "Época # 8\n",
      "Input [0. 0.] Prediction: 0 Intermediary: -0.440\n",
      "Input [0. 1.] Prediction: 0 Intermediary: -0.059\n",
      "Input [1. 0.] Prediction: 0 Intermediary: -0.077\n",
      "Input [1. 1.] Prediction: 1 Intermediary: 0.304\n",
      "Época # 9\n",
      "Input [0. 0.] Prediction: 0 Intermediary: -0.440\n",
      "Input [0. 1.] Prediction: 0 Intermediary: -0.059\n",
      "Input [1. 0.] Prediction: 0 Intermediary: -0.077\n",
      "Input [1. 1.] Prediction: 1 Intermediary: 0.304\n"
     ]
    }
   ],
   "source": [
    "#limiar = 0\n",
    "perceptron = Perceptron(no_of_inputs=2, epochs=10, learning_rate=0.01, \n",
    "                        activation='step', threshold=0, init='random')\n",
    "perceptron.train(training_inputs, labels, verbose=True)"
   ]
  },
  {
   "cell_type": "code",
   "execution_count": 10,
   "metadata": {
    "scrolled": true
   },
   "outputs": [
    {
     "name": "stdout",
     "output_type": "stream",
     "text": [
      "Época # 0\n",
      "Input [0. 0.] Prediction: 0 Intermediary: -0.257\n",
      "Input [0. 1.] Prediction: 0 Intermediary: -0.458\n",
      "Input [1. 0.] Prediction: 0 Intermediary: -0.586\n",
      "Input [1. 1.] Prediction: 0 Intermediary: -0.787\n",
      "Época # 1\n",
      "Input [0. 0.] Prediction: 0 Intermediary: -0.247\n",
      "Input [0. 1.] Prediction: 0 Intermediary: -0.438\n",
      "Input [1. 0.] Prediction: 0 Intermediary: -0.566\n",
      "Input [1. 1.] Prediction: 0 Intermediary: -0.757\n",
      "Época # 2\n",
      "Input [0. 0.] Prediction: 0 Intermediary: -0.237\n",
      "Input [0. 1.] Prediction: 0 Intermediary: -0.418\n",
      "Input [1. 0.] Prediction: 0 Intermediary: -0.546\n",
      "Input [1. 1.] Prediction: 0 Intermediary: -0.727\n",
      "Época # 3\n",
      "Input [0. 0.] Prediction: 0 Intermediary: -0.227\n",
      "Input [0. 1.] Prediction: 0 Intermediary: -0.398\n",
      "Input [1. 0.] Prediction: 0 Intermediary: -0.526\n",
      "Input [1. 1.] Prediction: 0 Intermediary: -0.697\n",
      "Época # 4\n",
      "Input [0. 0.] Prediction: 0 Intermediary: -0.217\n",
      "Input [0. 1.] Prediction: 0 Intermediary: -0.378\n",
      "Input [1. 0.] Prediction: 0 Intermediary: -0.506\n",
      "Input [1. 1.] Prediction: 0 Intermediary: -0.667\n",
      "Época # 5\n",
      "Input [0. 0.] Prediction: 0 Intermediary: -0.207\n",
      "Input [0. 1.] Prediction: 0 Intermediary: -0.358\n",
      "Input [1. 0.] Prediction: 0 Intermediary: -0.486\n",
      "Input [1. 1.] Prediction: 0 Intermediary: -0.637\n",
      "Época # 6\n",
      "Input [0. 0.] Prediction: 0 Intermediary: -0.197\n",
      "Input [0. 1.] Prediction: 0 Intermediary: -0.338\n",
      "Input [1. 0.] Prediction: 0 Intermediary: -0.466\n",
      "Input [1. 1.] Prediction: 0 Intermediary: -0.607\n",
      "Época # 7\n",
      "Input [0. 0.] Prediction: 0 Intermediary: -0.187\n",
      "Input [0. 1.] Prediction: 0 Intermediary: -0.318\n",
      "Input [1. 0.] Prediction: 0 Intermediary: -0.446\n",
      "Input [1. 1.] Prediction: 0 Intermediary: -0.577\n",
      "Época # 8\n",
      "Input [0. 0.] Prediction: 0 Intermediary: -0.177\n",
      "Input [0. 1.] Prediction: 0 Intermediary: -0.298\n",
      "Input [1. 0.] Prediction: 0 Intermediary: -0.426\n",
      "Input [1. 1.] Prediction: 0 Intermediary: -0.547\n",
      "Época # 9\n",
      "Input [0. 0.] Prediction: 0 Intermediary: -0.167\n",
      "Input [0. 1.] Prediction: 0 Intermediary: -0.278\n",
      "Input [1. 0.] Prediction: 0 Intermediary: -0.406\n",
      "Input [1. 1.] Prediction: 0 Intermediary: -0.517\n"
     ]
    }
   ],
   "source": [
    "#limiar = 0.25\n",
    "perceptron = Perceptron(no_of_inputs=2, epochs=10, learning_rate=0.01, \n",
    "                        activation='step', threshold=0.25, init='random')\n",
    "perceptron.train(training_inputs, labels, verbose=True)"
   ]
  },
  {
   "cell_type": "code",
   "execution_count": 11,
   "metadata": {
    "scrolled": true
   },
   "outputs": [
    {
     "name": "stdout",
     "output_type": "stream",
     "text": [
      "Época # 0\n",
      "Input [0. 0.] Prediction: 0 Intermediary: 0.093\n",
      "Input [0. 1.] Prediction: 0 Intermediary: -0.107\n",
      "Input [1. 0.] Prediction: 0 Intermediary: 0.092\n",
      "Input [1. 1.] Prediction: 0 Intermediary: -0.108\n",
      "Época # 1\n",
      "Input [0. 0.] Prediction: 0 Intermediary: 0.103\n",
      "Input [0. 1.] Prediction: 0 Intermediary: -0.087\n",
      "Input [1. 0.] Prediction: 0 Intermediary: 0.112\n",
      "Input [1. 1.] Prediction: 0 Intermediary: -0.078\n",
      "Época # 2\n",
      "Input [0. 0.] Prediction: 0 Intermediary: 0.113\n",
      "Input [0. 1.] Prediction: 0 Intermediary: -0.067\n",
      "Input [1. 0.] Prediction: 0 Intermediary: 0.132\n",
      "Input [1. 1.] Prediction: 0 Intermediary: -0.048\n",
      "Época # 3\n",
      "Input [0. 0.] Prediction: 0 Intermediary: 0.123\n",
      "Input [0. 1.] Prediction: 0 Intermediary: -0.047\n",
      "Input [1. 0.] Prediction: 0 Intermediary: 0.152\n",
      "Input [1. 1.] Prediction: 0 Intermediary: -0.018\n",
      "Época # 4\n",
      "Input [0. 0.] Prediction: 0 Intermediary: 0.133\n",
      "Input [0. 1.] Prediction: 0 Intermediary: -0.027\n",
      "Input [1. 0.] Prediction: 0 Intermediary: 0.172\n",
      "Input [1. 1.] Prediction: 0 Intermediary: 0.012\n",
      "Época # 5\n",
      "Input [0. 0.] Prediction: 0 Intermediary: 0.143\n",
      "Input [0. 1.] Prediction: 0 Intermediary: -0.007\n",
      "Input [1. 0.] Prediction: 0 Intermediary: 0.192\n",
      "Input [1. 1.] Prediction: 0 Intermediary: 0.042\n",
      "Época # 6\n",
      "Input [0. 0.] Prediction: 0 Intermediary: 0.153\n",
      "Input [0. 1.] Prediction: 0 Intermediary: 0.013\n",
      "Input [1. 0.] Prediction: 0 Intermediary: 0.212\n",
      "Input [1. 1.] Prediction: 0 Intermediary: 0.072\n",
      "Época # 7\n",
      "Input [0. 0.] Prediction: 0 Intermediary: 0.163\n",
      "Input [0. 1.] Prediction: 0 Intermediary: 0.033\n",
      "Input [1. 0.] Prediction: 0 Intermediary: 0.232\n",
      "Input [1. 1.] Prediction: 0 Intermediary: 0.102\n",
      "Época # 8\n",
      "Input [0. 0.] Prediction: 0 Intermediary: 0.173\n",
      "Input [0. 1.] Prediction: 0 Intermediary: 0.053\n",
      "Input [1. 0.] Prediction: 0 Intermediary: 0.252\n",
      "Input [1. 1.] Prediction: 0 Intermediary: 0.132\n",
      "Época # 9\n",
      "Input [0. 0.] Prediction: 0 Intermediary: 0.183\n",
      "Input [0. 1.] Prediction: 0 Intermediary: 0.073\n",
      "Input [1. 0.] Prediction: 0 Intermediary: 0.272\n",
      "Input [1. 1.] Prediction: 0 Intermediary: 0.162\n"
     ]
    }
   ],
   "source": [
    "#limiar = 0.5\n",
    "perceptron = Perceptron(no_of_inputs=2, epochs=10, learning_rate=0.01, \n",
    "                        activation='step', threshold=0.5, init='random')\n",
    "perceptron.train(training_inputs, labels, verbose=True)"
   ]
  },
  {
   "cell_type": "markdown",
   "metadata": {},
   "source": [
    "* Como os pesos são iniciados de forma aleatória, nem sempre há convergência das redes, uma vez que a taxa de aprendizado é muito pequena;\n",
    "* No entanto, como o treinamento deve ser feito de forma aleatória, essa é uma opção de inicialização melhor que a opção anterior, uma vez que o treinamento não possui um viés."
   ]
  },
  {
   "cell_type": "markdown",
   "metadata": {},
   "source": [
    "### [B-04] Implemente uma rede semelhante à existente no arquivo de referência, usando a base de dados MNIST ao invés da base de dados Fashion MNIST. A implementação deve ter os seguintes requisitos.\n",
    "\n",
    "1. **Pré-processamento dos dados**\n",
    "2. **Compilação do modelo**\n",
    "3. **Treinamento da rede (otimizador=SGD)**\n",
    "4. **Avaliação do modelo**\n",
    "\n",
    "#### Informações Adicionais\n",
    "\n",
    "O banco de dados MNIST contém dígitos manuscritos (escritos a mão).\n",
    "\n",
    "Tem um conjunto de treinamento com 60.000 imagens e um conjunto de teste com 10.000 imagens. \n",
    "\n",
    "Os dígitos foram normalizados por tamanho e centralizados em uma imagem de tamanho fixo.\n",
    "\n",
    "A base de dados foi criada por Yann LeCun em 1998.\n",
    "\n",
    "A base MNIST está disponível em: [http://yann.lecun.com/exdb/mnist/](http://yann.lecun.com/exdb/mnist/)\n",
    "\n",
    "![MNist](https://upload.wikimedia.org/wikipedia/commons/2/27/MnistExamples.png)"
   ]
  },
  {
   "cell_type": "code",
   "execution_count": 3,
   "metadata": {},
   "outputs": [],
   "source": [
    "#a base MNIST pode ser acessada facilmente pelo Keras utilizando o link abaixo\n",
    "mnist = keras.datasets.mnist\n",
    "(train_images, train_labels), (test_images, test_labels) = mnist.load_data()"
   ]
  },
  {
   "cell_type": "code",
   "execution_count": 4,
   "metadata": {},
   "outputs": [],
   "source": [
    "#pré processamento de dados\n",
    "train_images = train_images / 255.0\n",
    "test_images = test_images / 255.0"
   ]
  },
  {
   "cell_type": "code",
   "execution_count": 14,
   "metadata": {},
   "outputs": [],
   "source": [
    "#modelo de rede\n",
    "model = keras.Sequential([\n",
    "    #transforma a image em um array de imagens de duas dimensões (of 28 by 28 pixels)\n",
    "    keras.layers.Flatten(input_shape=(28, 28)), \n",
    "    \n",
    "    #Camada de dados totalmente conectadas, com ativação relu\n",
    "    #A camada possui 128 nós (neurônios)\n",
    "    keras.layers.Dense(128, activation='relu'),\n",
    "    \n",
    "    #Camada de dados totalmente conectadas, com ativação softmax\n",
    "    #A camada possui 10 nós (neurônios), correspondentes às probabilidades de cada classe (10 classes)\n",
    "    keras.layers.Dense(10, activation='softmax')\n",
    "])"
   ]
  },
  {
   "cell_type": "code",
   "execution_count": 15,
   "metadata": {},
   "outputs": [],
   "source": [
    "#compilação do modelo\n",
    "model.compile(optimizer='sgd', loss='sparse_categorical_crossentropy', metrics=['accuracy'])"
   ]
  },
  {
   "cell_type": "code",
   "execution_count": 16,
   "metadata": {},
   "outputs": [
    {
     "name": "stdout",
     "output_type": "stream",
     "text": [
      "Epoch 1/10\n",
      "1875/1875 [==============================] - 2s 1ms/step - loss: 0.6459 - accuracy: 0.8395\n",
      "Epoch 2/10\n",
      "1875/1875 [==============================] - 2s 1ms/step - loss: 0.3349 - accuracy: 0.9065\n",
      "Epoch 3/10\n",
      "1875/1875 [==============================] - 2s 1ms/step - loss: 0.2870 - accuracy: 0.9195\n",
      "Epoch 4/10\n",
      "1875/1875 [==============================] - 2s 1ms/step - loss: 0.2561 - accuracy: 0.9284\n",
      "Epoch 5/10\n",
      "1875/1875 [==============================] - 2s 1ms/step - loss: 0.2327 - accuracy: 0.9350\n",
      "Epoch 6/10\n",
      "1875/1875 [==============================] - 2s 1ms/step - loss: 0.2141 - accuracy: 0.9399\n",
      "Epoch 7/10\n",
      "1875/1875 [==============================] - 2s 1ms/step - loss: 0.1983 - accuracy: 0.9446\n",
      "Epoch 8/10\n",
      "1875/1875 [==============================] - 2s 1ms/step - loss: 0.1848 - accuracy: 0.9481\n",
      "Epoch 9/10\n",
      "1875/1875 [==============================] - 2s 1ms/step - loss: 0.1734 - accuracy: 0.9518\n",
      "Epoch 10/10\n",
      "1875/1875 [==============================] - 2s 1ms/step - loss: 0.1632 - accuracy: 0.9541\n"
     ]
    },
    {
     "data": {
      "text/plain": [
       "<tensorflow.python.keras.callbacks.History at 0x7f8418770490>"
      ]
     },
     "execution_count": 16,
     "metadata": {},
     "output_type": "execute_result"
    }
   ],
   "source": [
    "#treinamento da rede\n",
    "model.fit(train_images, train_labels, epochs=10)"
   ]
  },
  {
   "cell_type": "code",
   "execution_count": 17,
   "metadata": {},
   "outputs": [
    {
     "name": "stdout",
     "output_type": "stream",
     "text": [
      "313/313 - 0s - loss: 0.1605 - accuracy: 0.9534\n",
      "Acurácia de testes: 0.9534\n"
     ]
    }
   ],
   "source": [
    "#avaliação do modelo\n",
    "test_loss, test_acc = model.evaluate(test_images,  test_labels, verbose=2)\n",
    "print('Acurácia de testes: %.4f' % test_acc)"
   ]
  },
  {
   "cell_type": "markdown",
   "metadata": {},
   "source": [
    "### [B-05] Plote múltiplas imagens (no mínimo 50) do conjunto de dados de teste junto às predições.\n",
    "\n",
    "* **Dica: Se utilizar o código fonte da aula, pode ser necessário criar uma variável chamada class_names, contendo os rótulos das classes (zero, um, dois, ... nove)**"
   ]
  },
  {
   "cell_type": "code",
   "execution_count": 18,
   "metadata": {
    "scrolled": true
   },
   "outputs": [
    {
     "data": {
      "image/png": "[encoded data removed]",
      "text/plain": [
       "<Figure size 1152x2160 with 120 Axes>"
      ]
     },
     "metadata": {},
     "output_type": "display_data"
    }
   ],
   "source": [
    "class_names = ['0', '1', '2', '3', '4', '5', '6', '7', '8', '9']\n",
    "\n",
    "#retorna predições de todo o conjunto de imagens de teste\n",
    "predictions = model.predict(test_images)\n",
    "\n",
    "# Plota múltiplas imagens do conjunto de teste, labels preditas e labels verdadeiras.\n",
    "# Colore as predições corretas de azul e as incorretas de vermelho.\n",
    "num_rows = 15\n",
    "num_cols = 4\n",
    "num_images = num_rows*num_cols\n",
    "plt.figure(figsize=(2*2*num_cols, 2*num_rows))\n",
    "for i in range(num_images):\n",
    "    plt.subplot(num_rows, 2*num_cols, 2*i+1)\n",
    "    plot_image(i, predictions, test_labels, test_images)\n",
    "    plt.subplot(num_rows, 2*num_cols, 2*i+2)\n",
    "    plot_value_array(i, predictions, test_labels)\n",
    "plt.show()"
   ]
  },
  {
   "cell_type": "markdown",
   "metadata": {},
   "source": [
    "### [B-06] Utilize o otimizador Adam (comando abaixo) para treinamento da rede. Compare o desempenho da rede em relação à questão B-04. \n",
    "\n",
    "* **obs.: As taxas de aprendizado dos métodos Adam e SGD foram definidas automaticamente e podem influenciar nos resultados.**\n",
    "\n",
    "\n",
    "```\n",
    "model.compile(optimizer='adam', loss='sparse_categorical_crossentropy', metrics=['accuracy'])\n",
    "```"
   ]
  },
  {
   "cell_type": "code",
   "execution_count": 19,
   "metadata": {},
   "outputs": [],
   "source": [
    "#compilação do modelo\n",
    "model.compile(optimizer='adam', loss='sparse_categorical_crossentropy', metrics=['accuracy'])"
   ]
  },
  {
   "cell_type": "code",
   "execution_count": 20,
   "metadata": {},
   "outputs": [
    {
     "name": "stdout",
     "output_type": "stream",
     "text": [
      "Epoch 1/10\n",
      "1875/1875 [==============================] - 3s 1ms/step - loss: 0.1446 - accuracy: 0.9576\n",
      "Epoch 2/10\n",
      "1875/1875 [==============================] - 3s 1ms/step - loss: 0.0879 - accuracy: 0.9728\n",
      "Epoch 3/10\n",
      "1875/1875 [==============================] - 2s 1ms/step - loss: 0.0622 - accuracy: 0.9809\n",
      "Epoch 4/10\n",
      "1875/1875 [==============================] - 2s 1ms/step - loss: 0.0475 - accuracy: 0.9853\n",
      "Epoch 5/10\n",
      "1875/1875 [==============================] - 2s 1ms/step - loss: 0.0385 - accuracy: 0.9878\n",
      "Epoch 6/10\n",
      "1875/1875 [==============================] - 2s 1ms/step - loss: 0.0297 - accuracy: 0.9908\n",
      "Epoch 7/10\n",
      "1875/1875 [==============================] - 2s 1ms/step - loss: 0.0241 - accuracy: 0.9921\n",
      "Epoch 8/10\n",
      "1875/1875 [==============================] - 2s 1ms/step - loss: 0.0200 - accuracy: 0.9935\n",
      "Epoch 9/10\n",
      "1875/1875 [==============================] - 2s 1ms/step - loss: 0.0180 - accuracy: 0.9943\n",
      "Epoch 10/10\n",
      "1875/1875 [==============================] - 2s 1ms/step - loss: 0.0136 - accuracy: 0.9958\n"
     ]
    },
    {
     "data": {
      "text/plain": [
       "<tensorflow.python.keras.callbacks.History at 0x7f83801d5af0>"
      ]
     },
     "execution_count": 20,
     "metadata": {},
     "output_type": "execute_result"
    }
   ],
   "source": [
    "#treinamento da rede\n",
    "model.fit(train_images, train_labels, epochs=10)"
   ]
  },
  {
   "cell_type": "code",
   "execution_count": 21,
   "metadata": {},
   "outputs": [
    {
     "name": "stdout",
     "output_type": "stream",
     "text": [
      "313/313 - 0s - loss: 0.0883 - accuracy: 0.9784\n",
      "Acurácia de testes: 0.9784\n"
     ]
    }
   ],
   "source": [
    "#avaliação do modelo\n",
    "test_loss, test_acc = model.evaluate(test_images,  test_labels, verbose=2)\n",
    "print('Acurácia de testes: %.4f' % test_acc)"
   ]
  },
  {
   "cell_type": "markdown",
   "metadata": {},
   "source": [
    "* Como o otimizador Adam é melhor que o otimizador SGD, o desempenho da rede neste novo teste foi consideravelmente superior ao teste anterior."
   ]
  },
  {
   "cell_type": "markdown",
   "metadata": {},
   "source": [
    "### [B-07] Utilize os seguinte comandos para parametrizar o otimizador Adam. Treine a rede com diferentes parâmetros de *learning_rate* (não altere outros parâmetros). Existe aumento da acurácia a medida que a taxa de aprendizado aumenta? Justifique.\n",
    "\n",
    "```\n",
    "optimizer = tf.keras.optimizers.Adam(learning_rate=0.001)\n",
    "model.compile(optimizer=optimizer, loss='sparse_categorical_crossentropy', metrics=['accuracy'])\n",
    "```\n",
    "\n",
    "* **obs. 1: Obtenha o maior valor possível para treinamento**\n",
    "\n",
    "* **obs. 2: Dependendo do número de épocas de treinamento e das taxas de aprendizado, a rede pode melhorar seus resultados na base de treinamento e piorar seu desempenho na base de testes. Essa condição é conhecida como *overfitting* (sobre-treinamento).**\n",
    "\n",
    "* **obs. 3: A base de testes não deve ser usada para refinar modelos de redes neurais!**\n",
    "\n",
    "**Para mais informações sobre os otimizadores, consulte a documentação do Keras**\n",
    "\n",
    "* https://keras.io/api/optimizers/\n",
    "* https://keras.io/api/optimizers/adam/"
   ]
  },
  {
   "cell_type": "code",
   "execution_count": 22,
   "metadata": {},
   "outputs": [],
   "source": [
    "#compilação do modelo\n",
    "optimizer = tf.keras.optimizers.Adam(learning_rate=0.05)\n",
    "model.compile(optimizer=optimizer, loss='sparse_categorical_crossentropy', metrics=['accuracy'])"
   ]
  },
  {
   "cell_type": "code",
   "execution_count": 23,
   "metadata": {},
   "outputs": [
    {
     "name": "stdout",
     "output_type": "stream",
     "text": [
      "Epoch 1/10\n",
      "1875/1875 [==============================] - 2s 1ms/step - loss: 0.5996 - accuracy: 0.8649\n",
      "Epoch 2/10\n",
      "1875/1875 [==============================] - 3s 1ms/step - loss: 0.5476 - accuracy: 0.8740\n",
      "Epoch 3/10\n",
      "1875/1875 [==============================] - 3s 1ms/step - loss: 0.5542 - accuracy: 0.8730\n",
      "Epoch 4/10\n",
      "1875/1875 [==============================] - 2s 1ms/step - loss: 0.5634 - accuracy: 0.8673\n",
      "Epoch 5/10\n",
      "1875/1875 [==============================] - 2s 1ms/step - loss: 0.5381 - accuracy: 0.8642\n",
      "Epoch 6/10\n",
      "1875/1875 [==============================] - 2s 1ms/step - loss: 0.5378 - accuracy: 0.8694\n",
      "Epoch 7/10\n",
      "1875/1875 [==============================] - 2s 1ms/step - loss: 0.5284 - accuracy: 0.8744\n",
      "Epoch 8/10\n",
      "1875/1875 [==============================] - 2s 1ms/step - loss: 0.5171 - accuracy: 0.8710\n",
      "Epoch 9/10\n",
      "1875/1875 [==============================] - 2s 1ms/step - loss: 0.5597 - accuracy: 0.8685\n",
      "Epoch 10/10\n",
      "1875/1875 [==============================] - 2s 1ms/step - loss: 0.5185 - accuracy: 0.8666\n"
     ]
    },
    {
     "data": {
      "text/plain": [
       "<tensorflow.python.keras.callbacks.History at 0x7f832c7c4b20>"
      ]
     },
     "execution_count": 23,
     "metadata": {},
     "output_type": "execute_result"
    }
   ],
   "source": [
    "#treinamento da rede\n",
    "model.fit(train_images, train_labels, epochs=10)"
   ]
  },
  {
   "cell_type": "code",
   "execution_count": 24,
   "metadata": {},
   "outputs": [
    {
     "name": "stdout",
     "output_type": "stream",
     "text": [
      "313/313 - 0s - loss: 0.6239 - accuracy: 0.8980\n",
      "Acurácia de testes: 0.8980\n"
     ]
    }
   ],
   "source": [
    "#avaliação do modelo\n",
    "test_loss, test_acc = model.evaluate(test_images,  test_labels, verbose=2)\n",
    "print('Acurácia de testes: %.4f' % test_acc)"
   ]
  },
  {
   "cell_type": "markdown",
   "metadata": {},
   "source": [
    "* O aumento da taxa de acurácia pode fazer que o otimizador passe da função de mínimo, devido ao tamanho do passo. O passo, então, deve ser adequado, para que o treinamento não demore muito e ao mesmo tempo consiga atingir o valor mínimo."
   ]
  },
  {
   "cell_type": "markdown",
   "metadata": {},
   "source": [
    "### [B-08] Treine novamente a rede com o modelo abaixo. Compare os resultados com a questão B-06. Utilize as seguintes configurações:\n",
    "\n",
    "1. **Otimizador: Adam**\n",
    "2. **Número de épocas: 10**\n",
    "\n",
    "```\n",
    "model = keras.Sequential([\n",
    "    #convolução com 32 nós\n",
    "    keras.layers.Conv2D(32, 3, activation='relu'),\n",
    "    \n",
    "    #transforma a image em um array de imagens de duas dimensões (of 28 by 28 pixels)\n",
    "    keras.layers.Flatten(input_shape=(28, 28)), \n",
    "    \n",
    "    #Camada de dados totalmente conectadas, com ativação relu\n",
    "    #A camada possui 128 nós (neurônios)\n",
    "    keras.layers.Dense(128, activation='relu'),\n",
    "    \n",
    "    #Camada de dados totalmente conectadas, com ativação softmax\n",
    "    #A camada possui 10 nós (neurônios), correspondentes às probabilidades de cada classe (10 classes)\n",
    "    keras.layers.Dense(10, activation='softmax')\n",
    "])\n",
    "```"
   ]
  },
  {
   "cell_type": "code",
   "execution_count": 14,
   "metadata": {},
   "outputs": [
    {
     "name": "stdout",
     "output_type": "stream",
     "text": [
      "(60000, 28, 28, 1)\n"
     ]
    }
   ],
   "source": [
    "#para a nova rede, é necessário alterar a dimensão do array de dados\n",
    "#dimensão anterior: (60000,28,28)\n",
    "#dimensão atual: (60000,28,28,1)\n",
    "train_images = train_images[..., np.newaxis]\n",
    "print(train_images.shape)"
   ]
  },
  {
   "cell_type": "code",
   "execution_count": 15,
   "metadata": {},
   "outputs": [
    {
     "name": "stdout",
     "output_type": "stream",
     "text": [
      "(10000, 28, 28, 1)\n"
     ]
    }
   ],
   "source": [
    "#para a nova rede, é necessário alterar a dimensão do array de dados\n",
    "#dimensão anterior: (10000,28,28)\n",
    "#dimensão atual: (10000,28,28,1)\n",
    "test_images = test_images[..., np.newaxis]\n",
    "print(test_images.shape)"
   ]
  },
  {
   "cell_type": "code",
   "execution_count": 7,
   "metadata": {},
   "outputs": [],
   "source": [
    "#modelo da rede\n",
    "model = keras.Sequential([\n",
    "    #convolução com 32 nós\n",
    "    keras.layers.Conv2D(32, 3, activation='relu'),\n",
    "    \n",
    "    #pooling de 2x2\n",
    "    keras.layers.MaxPooling2D((2, 2)),\n",
    "    \n",
    "    #transforma a image em um array de imagens de duas dimensões (of 28 by 28 pixels)\n",
    "    keras.layers.Flatten(), \n",
    "    \n",
    "    #Camada de dados totalmente conectadas, com ativação relu\n",
    "    #A camada possui 128 nós (neurônios)\n",
    "    keras.layers.Dense(128, activation='relu'),\n",
    "    \n",
    "    #Camada de dados totalmente conectadas, com ativação softmax\n",
    "    #A camada possui 10 nós (neurônios), correspondentes às probabilidades de cada classe (10 classes)\n",
    "    keras.layers.Dense(10, activation='softmax')\n",
    "])"
   ]
  },
  {
   "cell_type": "code",
   "execution_count": 8,
   "metadata": {},
   "outputs": [],
   "source": [
    "#compilação do modelo\n",
    "optimizer = tf.keras.optimizers.Adam(learning_rate=0.001)\n",
    "model.compile(optimizer=optimizer, loss='sparse_categorical_crossentropy', metrics=['accuracy'])"
   ]
  },
  {
   "cell_type": "code",
   "execution_count": 11,
   "metadata": {
    "scrolled": false
   },
   "outputs": [
    {
     "name": "stdout",
     "output_type": "stream",
     "text": [
      "Epoch 1/10\n",
      "1875/1875 [==============================] - 4s 2ms/step - loss: 0.0056 - accuracy: 0.9984\n",
      "Epoch 2/10\n",
      "1875/1875 [==============================] - 4s 2ms/step - loss: 0.0037 - accuracy: 0.9989\n",
      "Epoch 3/10\n",
      "1875/1875 [==============================] - 4s 2ms/step - loss: 0.0030 - accuracy: 0.9991\n",
      "Epoch 4/10\n",
      "1875/1875 [==============================] - 4s 2ms/step - loss: 0.0022 - accuracy: 0.9994\n",
      "Epoch 5/10\n",
      "1875/1875 [==============================] - 4s 2ms/step - loss: 0.0016 - accuracy: 0.9995\n",
      "Epoch 6/10\n",
      "1875/1875 [==============================] - 4s 2ms/step - loss: 0.0023 - accuracy: 0.9991\n",
      "Epoch 7/10\n",
      "1875/1875 [==============================] - 4s 2ms/step - loss: 0.0020 - accuracy: 0.9993\n",
      "Epoch 8/10\n",
      "1875/1875 [==============================] - 4s 2ms/step - loss: 0.0014 - accuracy: 0.9995\n",
      "Epoch 9/10\n",
      "1875/1875 [==============================] - 4s 2ms/step - loss: 0.0018 - accuracy: 0.9995\n",
      "Epoch 10/10\n",
      "1875/1875 [==============================] - 4s 2ms/step - loss: 0.0013 - accuracy: 0.9996\n"
     ]
    },
    {
     "data": {
      "text/plain": [
       "<tensorflow.python.keras.callbacks.History at 0x7fa8611bac10>"
      ]
     },
     "execution_count": 11,
     "metadata": {},
     "output_type": "execute_result"
    }
   ],
   "source": [
    "#treinamento da rede\n",
    "model.fit(train_images, train_labels, epochs=10)"
   ]
  },
  {
   "cell_type": "code",
   "execution_count": 16,
   "metadata": {},
   "outputs": [
    {
     "name": "stdout",
     "output_type": "stream",
     "text": [
      "313/313 - 1s - loss: 0.0647 - accuracy: 0.9874\n",
      "Acurácia de testes: 0.9874\n"
     ]
    }
   ],
   "source": [
    "#avaliação do modelo\n",
    "test_loss, test_acc = model.evaluate(test_images,  test_labels, verbose=2)\n",
    "print('Acurácia de testes: %.4f' % test_acc)"
   ]
  },
  {
   "cell_type": "code",
   "execution_count": null,
   "metadata": {},
   "outputs": [],
   "source": []
  }
 ],
 "metadata": {
  "kernelspec": {
   "display_name": "Python 3",
   "language": "python",
   "name": "python3"
  },
  "language_info": {
   "codemirror_mode": {
    "name": "ipython",
    "version": 3
   },
   "file_extension": ".py",
   "mimetype": "text/x-python",
   "name": "python",
   "nbconvert_exporter": "python",
   "pygments_lexer": "ipython3",
   "version": "3.8.3"
  }
 },
 "nbformat": 4,
 "nbformat_minor": 4
}
