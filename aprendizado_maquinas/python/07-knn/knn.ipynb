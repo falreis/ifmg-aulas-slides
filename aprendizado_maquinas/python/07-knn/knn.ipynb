{
 "cells": [
  {
   "cell_type": "markdown",
   "metadata": {},
   "source": [
    "![IFMG](https://storage.googleapis.com/ifmg/IFMG.png)\n",
    "\n",
    "---\n",
    "# Sistemas de Recomendação com kNN (k-Nearest Neighbors)\n",
    "\n",
    "* **Autor: Prof. Felipe Reis**\n",
    "* **Data: 2021-12-27**"
   ]
  },
  {
   "cell_type": "markdown",
   "metadata": {},
   "source": [
    "### Referências\n",
    "\n",
    "* SpatialKey. Real estate transaction. 2008. Disponível em: https://support.spatialkey.com/spatialkey-sample-csv-data/. Acesso em: 2021-12-27.\n",
    "\n",
    "* Wikipedia Contributors. *k-nearest neighbors algorithm*. 2021. Disponível em: https://en.wikipedia.org/wiki/K-nearest_neighbors_algorithm. Acesso em: 2021-12-27.\n",
    "\n",
    "* DEDHIA, Heeral. *Movie Recommendation and Rating Prediction using K-Nearest Neighbors*. 2020. Disponível em: https://www.analyticsvidhya.com/blog/2020/08/recommendation-system-k-nearest-neighbors/. Acesso em: 2021-12-27.\n",
    "\n",
    "* KORSTANJE, Joos. *The k-Nearest Neighbors (kNN) Algorithm in Python*. 2021. Disponível em: https://realpython.com/knn-python/. Acesso em: 2021-12-27.\n",
    "\n",
    "* SOFIA, Porta. *Recommendation System using kNN*. 2020. Disponível em: https://www.aurigait.com/blog/recommendation-system-using-knn/. Acesso em: 2021-12-27.\n",
    "\n",
    "* Datagy.IO. *Normalize a Pandas Column or Dataframe (w/ Pandas or sklearn).* Disponível em: https://datagy.io/pandas-normalize-column/. Acesso em: 2021-12-27.\n",
    "\n",
    "* Scikit-Learn. *KNeighborsClassifier*. 2021. Disponível em: https://scikit-learn.org/stable/modules/generated/sklearn.neighbors.KNeighborsClassifier.html. Acesso em: 2021-12-27.\n",
    "\n",
    "* Scikit-Learn. *DistanceMetric*. 2021. Disponível em: https://scikit-learn.org/stable/modules/generated/sklearn.metrics.DistanceMetric.html#sklearn.metrics.DistanceMetric. Acesso em: 2021-12-27."
   ]
  },
  {
   "cell_type": "code",
   "execution_count": 1,
   "metadata": {},
   "outputs": [
    {
     "ename": "ImportError",
     "evalue": "this version of pandas is incompatible with numpy < 1.15.4\nyour numpy version is 1.14.5.\nPlease upgrade numpy to >= 1.15.4 to use this pandas version",
     "output_type": "error",
     "traceback": [
      "\u001b[0;31m---------------------------------------------------------------------------\u001b[0m",
      "\u001b[0;31mImportError\u001b[0m                               Traceback (most recent call last)",
      "\u001b[0;32m<ipython-input-1-9acdf1f3613f>\u001b[0m in \u001b[0;36m<module>\u001b[0;34m()\u001b[0m\n\u001b[1;32m      1\u001b[0m \u001b[0;32mimport\u001b[0m \u001b[0mnumpy\u001b[0m \u001b[0;32mas\u001b[0m \u001b[0mnp\u001b[0m\u001b[0;34m\u001b[0m\u001b[0m\n\u001b[1;32m      2\u001b[0m \u001b[0;32mimport\u001b[0m \u001b[0mmatplotlib\u001b[0m\u001b[0;34m.\u001b[0m\u001b[0mpyplot\u001b[0m \u001b[0;32mas\u001b[0m \u001b[0mplt\u001b[0m\u001b[0;34m\u001b[0m\u001b[0m\n\u001b[0;32m----> 3\u001b[0;31m \u001b[0;32mimport\u001b[0m \u001b[0mpandas\u001b[0m \u001b[0;32mas\u001b[0m \u001b[0mpd\u001b[0m\u001b[0;34m\u001b[0m\u001b[0m\n\u001b[0m\u001b[1;32m      4\u001b[0m \u001b[0;34m\u001b[0m\u001b[0m\n\u001b[1;32m      5\u001b[0m \u001b[0;32mimport\u001b[0m \u001b[0mscipy\u001b[0m \u001b[0;32mas\u001b[0m \u001b[0msp\u001b[0m\u001b[0;34m\u001b[0m\u001b[0m\n",
      "\u001b[0;32m~/anaconda3/envs/ifmg/lib/python3.6/site-packages/pandas/__init__.py\u001b[0m in \u001b[0;36m<module>\u001b[0;34m()\u001b[0m\n\u001b[1;32m     20\u001b[0m \u001b[0;34m\u001b[0m\u001b[0m\n\u001b[1;32m     21\u001b[0m \u001b[0;31m# numpy compat\u001b[0m\u001b[0;34m\u001b[0m\u001b[0;34m\u001b[0m\u001b[0m\n\u001b[0;32m---> 22\u001b[0;31m from pandas.compat.numpy import (\n\u001b[0m\u001b[1;32m     23\u001b[0m     \u001b[0m_np_version_under1p16\u001b[0m\u001b[0;34m,\u001b[0m\u001b[0;34m\u001b[0m\u001b[0m\n\u001b[1;32m     24\u001b[0m     \u001b[0m_np_version_under1p17\u001b[0m\u001b[0;34m,\u001b[0m\u001b[0;34m\u001b[0m\u001b[0m\n",
      "\u001b[0;32m~/anaconda3/envs/ifmg/lib/python3.6/site-packages/pandas/compat/numpy/__init__.py\u001b[0m in \u001b[0;36m<module>\u001b[0;34m()\u001b[0m\n\u001b[1;32m     19\u001b[0m \u001b[0;32mif\u001b[0m \u001b[0m_nlv\u001b[0m \u001b[0;34m<\u001b[0m \u001b[0;34m\"1.15.4\"\u001b[0m\u001b[0;34m:\u001b[0m\u001b[0;34m\u001b[0m\u001b[0m\n\u001b[1;32m     20\u001b[0m     raise ImportError(\n\u001b[0;32m---> 21\u001b[0;31m         \u001b[0;34m\"this version of pandas is incompatible with numpy < 1.15.4\\n\"\u001b[0m\u001b[0;34m\u001b[0m\u001b[0m\n\u001b[0m\u001b[1;32m     22\u001b[0m         \u001b[0;34mf\"your numpy version is {_np_version}.\\n\"\u001b[0m\u001b[0;34m\u001b[0m\u001b[0m\n\u001b[1;32m     23\u001b[0m         \u001b[0;34m\"Please upgrade numpy to >= 1.15.4 to use this pandas version\"\u001b[0m\u001b[0;34m\u001b[0m\u001b[0m\n",
      "\u001b[0;31mImportError\u001b[0m: this version of pandas is incompatible with numpy < 1.15.4\nyour numpy version is 1.14.5.\nPlease upgrade numpy to >= 1.15.4 to use this pandas version"
     ]
    }
   ],
   "source": [
    "import numpy as np\n",
    "import matplotlib.pyplot as plt\n",
    "import pandas as pd\n",
    "\n",
    "import scipy as sp\n",
    "from scipy.sparse import csr_matrix\n",
    "\n",
    "from sklearn.neighbors import NearestNeighbors\n",
    "from sklearn.preprocessing import MaxAbsScaler"
   ]
  },
  {
   "cell_type": "markdown",
   "metadata": {},
   "source": [
    "## Leitura da Base de Dados\n",
    "\n",
    "A base de dados contém 985 transações imobiliárias na área de Sacramento relatadas em um período de cinco dias. A base foi disponibilizada pelo site Sacramento Bee (https://www.sacbee.com/). Os dados foram obtidos no link: https://support.spatialkey.com/spatialkey-sample-csv-data/."
   ]
  },
  {
   "cell_type": "code",
   "execution_count": null,
   "metadata": {},
   "outputs": [],
   "source": [
    "#load dataframe from csv\n",
    "imoveis = pd.read_csv('sacramentorealestatetransactions.csv', delimiter=',')\n",
    "\n",
    "#imprime informações do dataframe\n",
    "imoveis.info()"
   ]
  },
  {
   "cell_type": "code",
   "execution_count": null,
   "metadata": {},
   "outputs": [],
   "source": [
    "imoveis = pd.read_csv('sacramentorealestatetransactions.csv', delimiter=',')\n",
    "\n",
    "#remove colunas desnecessárias\n",
    "imoveis = imoveis.drop('street', axis=1)\n",
    "imoveis = imoveis.drop('zip', axis=1)\n",
    "imoveis = imoveis.drop('state', axis=1)\n",
    "imoveis = imoveis.drop('sale_date', axis=1)\n",
    "\n",
    "#imprime dataframe \n",
    "imoveis\n",
    "\n",
    "#df.head() #imprime somente primeiras linhas\n",
    "#df.tail() #imprime somente últimas linhas\n",
    "\n",
    "#df['city'] #imprime uma coluna"
   ]
  },
  {
   "cell_type": "code",
   "execution_count": null,
   "metadata": {},
   "outputs": [],
   "source": [
    "#obtém informações estatísticas (algumas estatísticas não fazem sentido para o conjunto de dados)\n",
    "imoveis.describe()"
   ]
  },
  {
   "cell_type": "code",
   "execution_count": null,
   "metadata": {
    "scrolled": true
   },
   "outputs": [],
   "source": [
    "#exibe um registro em específico\n",
    "imoveis.iloc[0]"
   ]
  },
  {
   "cell_type": "markdown",
   "metadata": {},
   "source": [
    "## Produção de Estatísticas\n",
    "\n",
    "Obter estatísticas é importante para entender a base de dados e as informações do qual iremos produzir conhecimento."
   ]
  },
  {
   "cell_type": "code",
   "execution_count": null,
   "metadata": {},
   "outputs": [],
   "source": [
    "#exibição de informações estatísica sobre número de quartos por imóveis\n",
    "#print(np.min(imoveis['beds']))\n",
    "\n",
    "#conta a quantidade de imoveis pela quantidade de quartos (no ex., de 0 a 8)\n",
    "imoveis_por_qtd_quarto = np.bincount(imoveis['beds'])\n",
    "print(imoveis_por_qtd_quarto) \n",
    "\n",
    "\n",
    "#plot gráfico para verificar informações\n",
    "fig = plt.figure()\n",
    "ax = pd.Series(imoveis['beds']).value_counts().sort_values(ascending=True).plot.barh(width=0.9)\n",
    "plt.title('Quantidade de Imóveis por Número Quartos')\n",
    "plt.show()"
   ]
  },
  {
   "cell_type": "code",
   "execution_count": null,
   "metadata": {
    "scrolled": false
   },
   "outputs": [],
   "source": [
    "hist = imoveis['price'].hist(bins=10)\n",
    "hist"
   ]
  },
  {
   "cell_type": "markdown",
   "metadata": {},
   "source": [
    "## Análise de Correlação entre as informações"
   ]
  },
  {
   "cell_type": "code",
   "execution_count": null,
   "metadata": {},
   "outputs": [],
   "source": [
    "#podemos traçar a correlação entre as informações (quanto mais próximo de 1, melhor)\n",
    "imoveis_corr = imoveis.corr()\n",
    "print(imoveis_corr)"
   ]
  },
  {
   "cell_type": "code",
   "execution_count": null,
   "metadata": {},
   "outputs": [],
   "source": [
    "#a partir da análise, podemos remover a latitude e longitude do modelo\n",
    "#latitude e longitude podem ser usadas para filtrar imóveis próximos, utilizando distância euclidiana\n",
    "#fórmula: https://stackoverflow.com/questions/28994289/calculate-euclidean-distance-with-google-maps-coordinates\n",
    "\n",
    "imoveis = imoveis.drop('latitude', axis=1)\n",
    "imoveis = imoveis.drop('longitude', axis=1)\n",
    "\n",
    "imoveis.head()"
   ]
  },
  {
   "cell_type": "code",
   "execution_count": null,
   "metadata": {
    "scrolled": false
   },
   "outputs": [],
   "source": [
    "#podemos traçar a correlação entre as informações (quanto mais próximo de 1, melhor)\n",
    "imoveis_corr = imoveis.corr()\n",
    "print(imoveis_corr)"
   ]
  },
  {
   "cell_type": "markdown",
   "metadata": {},
   "source": [
    "## Implementação da Matriz para Correção das Informações\n",
    "\n",
    "Uma matriz pode ser utilizada para realizar a correlação entre os itens. \n",
    "\n",
    "Como a matriz gerada é esparsa (muitos valores zero, não correlacionados), podemos representá-la utilizando uma matriz esparsa.\n",
    "\n",
    "### Referências:\n",
    "\n",
    "* GeeksForGeeks. *Sparse Matrix Representations | Set 3 (CSR)*. 2021. \n",
    "Disponível em: https://www.geeksforgeeks.org/sparse-matrix-representations-set-3-csr/. Acesso em: 2021-12-27.\n",
    "\n",
    "* Scipy. *CSR Matrix*. 2021. Disponível em: https://docs.scipy.org/doc/scipy/reference/generated/scipy.sparse.csr_matrix.html. Acesso em: 2021-12-27."
   ]
  },
  {
   "cell_type": "code",
   "execution_count": null,
   "metadata": {},
   "outputs": [],
   "source": [
    "imoveis = imoveis.drop('city', axis=1)\n",
    "imoveis = imoveis.drop('type', axis=1)"
   ]
  },
  {
   "cell_type": "code",
   "execution_count": null,
   "metadata": {},
   "outputs": [],
   "source": [
    "imoveis.values"
   ]
  },
  {
   "cell_type": "code",
   "execution_count": null,
   "metadata": {},
   "outputs": [],
   "source": [
    "imoveis"
   ]
  },
  {
   "cell_type": "code",
   "execution_count": null,
   "metadata": {},
   "outputs": [],
   "source": [
    "matriz_features = csr_matrix(imoveis.values)\n",
    "print(matriz_features[0:5]) #imprime alguns valores da matriz de features (correlação)"
   ]
  },
  {
   "cell_type": "markdown",
   "metadata": {},
   "source": [
    "## Criação do Modelo\n",
    "\n",
    "Para melhor utilização do modelo, devem ser levadas em consideração as métricas utilizadas para calcular a distância entre elementos.\n",
    "\n",
    "![distância](https://upload.wikimedia.org/wikipedia/commons/0/08/Manhattan_distance.svg)\n",
    "*Fonte: https://en.wikipedia.org/wiki/Taxicab_geometry.* \n",
    "\n",
    "*Legenda: Distância Euclidiana em verde, Distância Manhattan em azul.*\n",
    "\n",
    "\n",
    "### Distância Euclidiana\n",
    "\n",
    "Uma métrica básica é a Distância Euclidiana, também conhecida como distância em linha reta. \n",
    "\n",
    "Tal medida, em um plano cartesiano de duas dimensões, é feita pela seguinte fórmula:\n",
    "\n",
    "$$ d= \\sqrt{(x_1 - x_0)^2 + (y_1 - y_0)^2} $$\n",
    "\n",
    "Essa métrica pode ser generalizada para distâncias não cartesianas e múltiplos elementos, representados por tuplas. Ex.: $P = (p_1, p_2, p_3, ..., p_n)$ e $Q = (q_1, q_2, q_3, ..., q_n)$.\n",
    "\n",
    "$$ d= \\sqrt{(p_1 - q_1)^2 + (p_2 - q_2)^2 + ... + (p_n - q_n)^2} $$\n",
    "\n",
    "\n",
    "### Distância $L_1$ ou Manhattan (Métrica do Táxi)\n",
    "\n",
    "A distância $L_1$ é uma métrica para cálculo da distância entre dois pontos, baseado na soma das diferenças absolutas de suas coordenadas. Foi criada por Minkowski como alternativa à distância Euclidiana. Seu nome faz alusão à cidade de Manhattan e à movimentação de táxis em uma cidade. \n",
    "\n",
    "A métrica, para pontos $P = (p_1, p_2, p_3, ..., p_n)$ e $Q = (q_1, q_2, q_3, ..., q_n)$, pode ser definida por:\n",
    "\n",
    "$$ d = |p_1 - q_1| + |p_2 - q_2| + ... + |p_n - q_n| $$\n",
    "\n",
    "\n",
    "### Outras Métricas\n",
    "\n",
    "Existem na literatura diversas métricas de similaridade, indicadas a diferentes tipos (ou grupos) de problemas. Entre as métricas comuns estão a medida de Similaridade por Cossenos, distâncias Minkowski, Chebyshev e Mahalanobis.\n",
    "\n",
    "\n",
    "### Referências\n",
    "\n",
    "* Wikipedia Contributors. *Distância Euclidiana*. 2021. Disponível em: https://pt.wikipedia.org/wiki/Dist%C3%A2ncia_euclidiana. Acesso em: 2021-12-27.\n",
    "\n",
    "* Wikipedia Contributors. *Taxicab geometry*. 2021. Disponível em: https://en.wikipedia.org/wiki/Taxicab_geometry. Acesso em: 2021-12-27.\n",
    "\n",
    "* Scikit-Learn. *DistanceMetric*. 2021. Disponível em: https://scikit-learn.org/stable/modules/generated/sklearn.metrics.DistanceMetric.html#sklearn.metrics.DistanceMetric. Acesso em: 2021-12-27."
   ]
  },
  {
   "cell_type": "code",
   "execution_count": null,
   "metadata": {},
   "outputs": [],
   "source": [
    "model_knn=NearestNeighbors(metric=\"euclidean\")\n",
    "model_knn.fit(matriz_features)\n",
    "\n",
    "distances, indices=model_knn.kneighbors(imoveis.iloc[0].values.reshape(1,-1),n_neighbors=10)\n",
    "\n",
    "for i, d in zip(indices[0], distances[0]):\n",
    "    print('Item: {} \\t Distância: {:G}'.format(i, d))\n",
    "print()"
   ]
  },
  {
   "cell_type": "code",
   "execution_count": null,
   "metadata": {},
   "outputs": [],
   "source": [
    "filter_df  = imoveis[imoveis.index.isin(indices[0])]\n",
    "filter_df"
   ]
  },
  {
   "cell_type": "markdown",
   "metadata": {},
   "source": [
    "Os resultados obtidos podem ser comparados com valores aleatórios, a fim de verificar a qualidade."
   ]
  },
  {
   "cell_type": "code",
   "execution_count": null,
   "metadata": {
    "scrolled": true
   },
   "outputs": [],
   "source": [
    "aleat= [0]\n",
    "for i in range(1, 10):\n",
    "    aleat.append(np.random.randint(0,1000))\n",
    "\n",
    "filter_df  = imoveis[imoveis.index.isin(aleat)]\n",
    "filter_df"
   ]
  },
  {
   "cell_type": "markdown",
   "metadata": {},
   "source": [
    "#### Seleção de Imóveis com Preço Alto\n",
    "\n",
    "O código abaixo seleciona imóveis de custo alto, para que se possa analisar as recomendações."
   ]
  },
  {
   "cell_type": "code",
   "execution_count": null,
   "metadata": {},
   "outputs": [],
   "source": [
    "hist = imoveis['price'].hist(bins=10)\n",
    "hist"
   ]
  },
  {
   "cell_type": "code",
   "execution_count": null,
   "metadata": {},
   "outputs": [],
   "source": [
    "imoveis[imoveis['price'] > 800000]"
   ]
  },
  {
   "cell_type": "code",
   "execution_count": null,
   "metadata": {},
   "outputs": [],
   "source": [
    "#filtrando o imóvel 157 (deve retornar somente imóveis com muitos quartos e banheiros)\n",
    "distances, indices=model_knn.kneighbors(imoveis.iloc[157].values.reshape(1,-1),n_neighbors=10)\n",
    "\n",
    "filter_df  = imoveis[imoveis.index.isin(indices[0])]\n",
    "filter_df"
   ]
  },
  {
   "cell_type": "markdown",
   "metadata": {},
   "source": [
    "## Normalização (Opcional)\n",
    "\n",
    "A normalização pode melhorar o desempenho do modelo em alguns casos, ao reduzir a faixa de valores possíveis. \n",
    "\n",
    "*Obs.: Essa é uma atividade que pode requerer um cuidado especial, uma vez que uma normalização mal feita pode não causar nenhum efeito ou até mesmo prejudicar o modelo.*"
   ]
  },
  {
   "cell_type": "code",
   "execution_count": null,
   "metadata": {},
   "outputs": [],
   "source": [
    "scaler = MaxAbsScaler()\n",
    "scaler.fit(imoveis)\n",
    "scaled = scaler.transform(imoveis)\n",
    "imoveis_scaled = pd.DataFrame(scaled, columns=imoveis.columns)\n",
    "\n",
    "imoveis_scaled"
   ]
  },
  {
   "cell_type": "code",
   "execution_count": null,
   "metadata": {
    "scrolled": false
   },
   "outputs": [],
   "source": [
    "matriz_scaled = csr_matrix(imoveis_scaled.values)\n",
    "\n",
    "model_knn=NearestNeighbors(metric=\"euclidean\")\n",
    "model_knn.fit(matriz_scaled)\n",
    "\n",
    "distances, indices = model_knn.kneighbors(imoveis_scaled.iloc[0].values.reshape(1,-1),n_neighbors=20)\n",
    "\n",
    "for i, d in zip(indices[0], distances[0]):\n",
    "    print('Item: {} \\t Distância: {:G}'.format(i, d))\n",
    "print()"
   ]
  },
  {
   "cell_type": "markdown",
   "metadata": {},
   "source": [
    "Os índices gerados serão utilizados para filtrar as informações originais, para facilitar o entendimento das informações."
   ]
  },
  {
   "cell_type": "code",
   "execution_count": null,
   "metadata": {},
   "outputs": [],
   "source": [
    "filter_sc = imoveis[imoveis.index.isin(indices[0])]\n",
    "filter_sc"
   ]
  },
  {
   "cell_type": "markdown",
   "metadata": {},
   "source": [
    "## Variáveis Categóricas, Ordinais e Textuais\n",
    "\n",
    "Variáveis categóricas, textuais e ordinais devem passar tratamentos especiais, para que possam ser melhor utilizadas pelos algoritmos.\n",
    "\n",
    "Como é utilizado um cálculo de similaridade, a definição entre textos pode causar incorreções.\n",
    "\n",
    "*Ex.: Considere as cidades de Belo Horizonte, Betim e Contagem. Classificando lexicamente, Betim está mais perto de Belo Horizonte. No entanto, classificando geograficamente, Betim está mais próximo de Contagem. Logo, a métrica (distância léxica ou geográfica) influenciará no resultado final.*\n",
    "\n",
    "Caso as variáveis não possam ser correlacionadas, deve ser feita a binarização dos valores. Estes devem ser colocados em formato *one-hot*, para que não influenciem um no outro.\n",
    "\n",
    "No caso de imóveis, a informação de *imóvel para alugar* não é relacionada à *imóvel para comprar*, uma vez que os clientes para ambos os tipos de imóveis são diferentes (obs.: em outros contextos, pode existir uma correlação, mas não no exemplo). Com isso, o atributo de ALUGUEL/VENDA deve ser binarizado.\n",
    "\n",
    "A representação do atributo de um imóvel para alugar ficaria, por exemplo, [0, 1], enquanto um imóvel para vender seria representado por [1, 0].\n",
    "\n",
    "### Exemplo: Representação de Gêneros de Filmes\n",
    "\n",
    "A imagem abaixo contém a representação de genêros de filmes.\n",
    "\n",
    "![filmes](https://miro.medium.com/max/229/1*FWZeOK54Z_ubdpmQZoJqPA.png)\n",
    "\n",
    "\n",
    "![filmes](https://miro.medium.com/max/511/1*8O1n4Zk1QTwk86IOoXbV5A.png)\n",
    "*Fonte: https://www.analyticsvidhya.com/blog/2020/08/recommendation-system-k-nearest-neighbors/*\n",
    "\n",
    "\n",
    "Mais informações e exemplos podem ser encontradas no link: https://www.analyticsvidhya.com/blog/2020/08/recommendation-system-k-nearest-neighbors/"
   ]
  },
  {
   "cell_type": "code",
   "execution_count": null,
   "metadata": {},
   "outputs": [],
   "source": []
  }
 ],
 "metadata": {
  "kernelspec": {
   "display_name": "Python 3",
   "language": "python",
   "name": "python3"
  },
  "language_info": {
   "codemirror_mode": {
    "name": "ipython",
    "version": 3
   },
   "file_extension": ".py",
   "mimetype": "text/x-python",
   "name": "python",
   "nbconvert_exporter": "python",
   "pygments_lexer": "ipython3",
   "version": "3.6.5"
  }
 },
 "nbformat": 4,
 "nbformat_minor": 2
}
