{
 "cells": [
  {
   "cell_type": "markdown",
   "metadata": {},
   "source": [
    "![IFMG](https://storage.googleapis.com/ifmg/IFMG.png)\n",
    "\n",
    "---\n",
    "# Problemas Clássicos da Computação\n",
    "\n",
    "## Aprendizado Não Supervisionado e Clusterização\n",
    "\n",
    "- Professor: Felipe Reis\n"
   ]
  },
  {
   "cell_type": "markdown",
   "metadata": {},
   "source": [
    "## Referências\n",
    "\n",
    "O presente tutorial foi inspirado em:\n",
    "\n",
    "* Marsland, S. (2014). Machine Learning: An Algorithm Perspective. CRC Press, 2 edition.\n",
    "* https://heartbeat.fritz.ai/k-means-clustering-using-sklearn-and-python-4a054d67b187\n",
    "* https://muthu.co/k-means-on-iris-dataset/\n",
    "\n",
    "\n",
    "## Bibliotecas Necessárias\n",
    "\n",
    "As bibliotecas necessárias à execução desse tutorial:\n",
    "* Numpy: https://numpy.org/\n",
    "* Matplotlib: https://matplotlib.org/\n",
    "* Pandas: https://pandas.pydata.org/\n",
    "* Sciki-Learn: https://scikit-learn.org/"
   ]
  },
  {
   "cell_type": "markdown",
   "metadata": {},
   "source": [
    "---\n",
    "## Instalação de Bibliotecas"
   ]
  },
  {
   "cell_type": "code",
   "execution_count": 31,
   "metadata": {},
   "outputs": [
    {
     "name": "stdout",
     "output_type": "stream",
     "text": [
      "Requirement already up-to-date: pandas in /home/ifmg/anaconda3/envs/ifmg/lib/python3.8/site-packages (1.2.3)\n",
      "Requirement already satisfied, skipping upgrade: python-dateutil>=2.7.3 in /home/ifmg/anaconda3/envs/ifmg/lib/python3.8/site-packages (from pandas) (2.8.1)\n",
      "Requirement already satisfied, skipping upgrade: numpy>=1.16.5 in /home/ifmg/anaconda3/envs/ifmg/lib/python3.8/site-packages (from pandas) (1.18.5)\n",
      "Requirement already satisfied, skipping upgrade: pytz>=2017.3 in /home/ifmg/anaconda3/envs/ifmg/lib/python3.8/site-packages (from pandas) (2021.1)\n",
      "Requirement already satisfied, skipping upgrade: six>=1.5 in /home/ifmg/anaconda3/envs/ifmg/lib/python3.8/site-packages (from python-dateutil>=2.7.3->pandas) (1.15.0)\n",
      "Requirement already up-to-date: scikit-learn in /home/ifmg/anaconda3/envs/ifmg/lib/python3.8/site-packages (0.24.1)\n",
      "Requirement already satisfied, skipping upgrade: numpy>=1.13.3 in /home/ifmg/anaconda3/envs/ifmg/lib/python3.8/site-packages (from scikit-learn) (1.18.5)\n",
      "Requirement already satisfied, skipping upgrade: threadpoolctl>=2.0.0 in /home/ifmg/anaconda3/envs/ifmg/lib/python3.8/site-packages (from scikit-learn) (2.1.0)\n",
      "Requirement already satisfied, skipping upgrade: scipy>=0.19.1 in /home/ifmg/anaconda3/envs/ifmg/lib/python3.8/site-packages (from scikit-learn) (1.5.2)\n",
      "Requirement already satisfied, skipping upgrade: joblib>=0.11 in /home/ifmg/anaconda3/envs/ifmg/lib/python3.8/site-packages (from scikit-learn) (1.0.1)\n"
     ]
    }
   ],
   "source": [
    "# Execute essa linha para instalação no Google Colab\n",
    "# Os pacotes numpy e matplotlib não precisam ser instalados\n",
    "# Caso esteja usando seu computador pessoal, instale o pacote via linha de comando.\n",
    "\n",
    "!pip install -U pandas\n",
    "!pip install -U scikit-learn"
   ]
  },
  {
   "cell_type": "markdown",
   "metadata": {},
   "source": [
    "---\n",
    "## Importação de bibliotecas "
   ]
  },
  {
   "cell_type": "code",
   "execution_count": 32,
   "metadata": {},
   "outputs": [],
   "source": [
    "import numpy as np\n",
    "import matplotlib.pyplot as plt \n",
    "import pandas as pd\n",
    "import random\n",
    "\n",
    "from sklearn.model_selection import train_test_split, cross_val_score\n",
    "\n",
    "from sklearn.cluster import KMeans\n",
    "from sklearn.metrics import mean_squared_error, classification_report, pairwise_distances_argmin_min\n",
    "from sklearn.datasets import load_iris"
   ]
  },
  {
   "cell_type": "markdown",
   "metadata": {},
   "source": [
    "---\n",
    "## Funções Úteis"
   ]
  },
  {
   "cell_type": "code",
   "execution_count": 33,
   "metadata": {},
   "outputs": [],
   "source": [
    "def split_data(x_data, y_data):\n",
    "    return train_test_split(\n",
    "            x_data,\n",
    "            y_data, \n",
    "            test_size = 0.3, #percentual do conjunto de treino\n",
    "            random_state = 10 #seed random, para resultados semelhantes\n",
    "    )"
   ]
  },
  {
   "cell_type": "code",
   "execution_count": 34,
   "metadata": {},
   "outputs": [],
   "source": [
    "def imprime_grafico_iris(data, target, targets_names, dt_column1=0, dt_column2=1):\n",
    "    plt.figure(figsize=(10, 7))\n",
    "    colors = ['red', 'green', 'blue']\n",
    "    \n",
    "    for color, i, target_name in zip(colors, [0, 1, 2], targets_names):\n",
    "        x = data[target == i, dt_column1]\n",
    "        y = data[target == i, dt_column2]\n",
    "        \n",
    "        plt.scatter(x, y, alpha=.8, color=color, label=target_name)\n",
    "\n",
    "    #adiciona legenda e imprime gráfico\n",
    "    plt.legend(loc='best', shadow=False, scatterpoints=1)\n",
    "    plt.show()"
   ]
  },
  {
   "cell_type": "markdown",
   "metadata": {},
   "source": [
    "---\n",
    "## Íris Datasets\n",
    "\n",
    "O tutorial utilizará a base de dados Iris Dataset (contém informações sobre a flor Íris), disponível nativamente pela biblioteca Scikit Learn.\n",
    "\n",
    "Informações sobre as bases de dados:\n",
    "* Iris Dataset: https://sklearn.org/modules/generated/sklearn.datasets.load_iris.html#sklearn.datasets.load_iris"
   ]
  },
  {
   "cell_type": "markdown",
   "metadata": {},
   "source": [
    "### Iris Dataset"
   ]
  },
  {
   "cell_type": "code",
   "execution_count": 35,
   "metadata": {},
   "outputs": [],
   "source": [
    "#carrega a base de dados\n",
    "iris = load_iris()"
   ]
  },
  {
   "cell_type": "code",
   "execution_count": 36,
   "metadata": {},
   "outputs": [
    {
     "name": "stdout",
     "output_type": "stream",
     "text": [
      "0         setosa\n",
      "1         setosa\n",
      "2         setosa\n",
      "3         setosa\n",
      "4         setosa\n",
      "         ...    \n",
      "145    virginica\n",
      "146    virginica\n",
      "147    virginica\n",
      "148    virginica\n",
      "149    virginica\n",
      "Name: species, Length: 150, dtype: category\n",
      "Categories (3, object): ['setosa', 'versicolor', 'virginica']\n"
     ]
    }
   ],
   "source": [
    "#convert os dados em um dataframe pandas\n",
    "df = pd.DataFrame(data = np.c_[iris['data'], iris['target']], columns = iris['feature_names'] + ['target'])\n",
    "df['species'] = pd.Categorical.from_codes(iris.target, iris.target_names)\n",
    "\n",
    "#imprime algumas amostras, para conhecimento da base de dados\n",
    "print(df['species'])"
   ]
  },
  {
   "cell_type": "code",
   "execution_count": 37,
   "metadata": {},
   "outputs": [],
   "source": [
    "#define colunas do dataframe\n",
    "df.columns = ['s_length', 's_width', 'p_length', 'p_width', 'target', 'species']\n",
    "\n",
    "#s_length: corresponde ao comprimento da sépala (parte da flor - https://pt.wikipedia.org/wiki/S%C3%A9pala)\n",
    "#s_width: corresponde à largura da sépala \n",
    "#p_length: corresponde ao comprimento da pétala (parte da flor - https://pt.wikipedia.org/wiki/P%C3%A9tala)\n",
    "#p_width: corresponde à largura da pétala"
   ]
  },
  {
   "cell_type": "code",
   "execution_count": 38,
   "metadata": {},
   "outputs": [
    {
     "data": {
      "text/html": [
       "<div>\n",
       "<style scoped>\n",
       "    .dataframe tbody tr th:only-of-type {\n",
       "        vertical-align: middle;\n",
       "    }\n",
       "\n",
       "    .dataframe tbody tr th {\n",
       "        vertical-align: top;\n",
       "    }\n",
       "\n",
       "    .dataframe thead th {\n",
       "        text-align: right;\n",
       "    }\n",
       "</style>\n",
       "<table border=\"1\" class=\"dataframe\">\n",
       "  <thead>\n",
       "    <tr style=\"text-align: right;\">\n",
       "      <th></th>\n",
       "      <th>s_length</th>\n",
       "      <th>s_width</th>\n",
       "      <th>p_length</th>\n",
       "      <th>p_width</th>\n",
       "      <th>target</th>\n",
       "      <th>species</th>\n",
       "    </tr>\n",
       "  </thead>\n",
       "  <tbody>\n",
       "    <tr>\n",
       "      <th>0</th>\n",
       "      <td>5.1</td>\n",
       "      <td>3.5</td>\n",
       "      <td>1.4</td>\n",
       "      <td>0.2</td>\n",
       "      <td>0.0</td>\n",
       "      <td>setosa</td>\n",
       "    </tr>\n",
       "    <tr>\n",
       "      <th>1</th>\n",
       "      <td>4.9</td>\n",
       "      <td>3.0</td>\n",
       "      <td>1.4</td>\n",
       "      <td>0.2</td>\n",
       "      <td>0.0</td>\n",
       "      <td>setosa</td>\n",
       "    </tr>\n",
       "    <tr>\n",
       "      <th>2</th>\n",
       "      <td>4.7</td>\n",
       "      <td>3.2</td>\n",
       "      <td>1.3</td>\n",
       "      <td>0.2</td>\n",
       "      <td>0.0</td>\n",
       "      <td>setosa</td>\n",
       "    </tr>\n",
       "    <tr>\n",
       "      <th>3</th>\n",
       "      <td>4.6</td>\n",
       "      <td>3.1</td>\n",
       "      <td>1.5</td>\n",
       "      <td>0.2</td>\n",
       "      <td>0.0</td>\n",
       "      <td>setosa</td>\n",
       "    </tr>\n",
       "    <tr>\n",
       "      <th>4</th>\n",
       "      <td>5.0</td>\n",
       "      <td>3.6</td>\n",
       "      <td>1.4</td>\n",
       "      <td>0.2</td>\n",
       "      <td>0.0</td>\n",
       "      <td>setosa</td>\n",
       "    </tr>\n",
       "  </tbody>\n",
       "</table>\n",
       "</div>"
      ],
      "text/plain": [
       "   s_length  s_width  p_length  p_width  target species\n",
       "0       5.1      3.5       1.4      0.2     0.0  setosa\n",
       "1       4.9      3.0       1.4      0.2     0.0  setosa\n",
       "2       4.7      3.2       1.3      0.2     0.0  setosa\n",
       "3       4.6      3.1       1.5      0.2     0.0  setosa\n",
       "4       5.0      3.6       1.4      0.2     0.0  setosa"
      ]
     },
     "execution_count": 38,
     "metadata": {},
     "output_type": "execute_result"
    }
   ],
   "source": [
    "#imprime algumas informações do início do dataframe\n",
    "df.head()"
   ]
  },
  {
   "cell_type": "code",
   "execution_count": 39,
   "metadata": {},
   "outputs": [
    {
     "data": {
      "text/html": [
       "<div>\n",
       "<style scoped>\n",
       "    .dataframe tbody tr th:only-of-type {\n",
       "        vertical-align: middle;\n",
       "    }\n",
       "\n",
       "    .dataframe tbody tr th {\n",
       "        vertical-align: top;\n",
       "    }\n",
       "\n",
       "    .dataframe thead th {\n",
       "        text-align: right;\n",
       "    }\n",
       "</style>\n",
       "<table border=\"1\" class=\"dataframe\">\n",
       "  <thead>\n",
       "    <tr style=\"text-align: right;\">\n",
       "      <th></th>\n",
       "      <th>s_length</th>\n",
       "      <th>s_width</th>\n",
       "      <th>p_length</th>\n",
       "      <th>p_width</th>\n",
       "      <th>target</th>\n",
       "      <th>species</th>\n",
       "    </tr>\n",
       "  </thead>\n",
       "  <tbody>\n",
       "    <tr>\n",
       "      <th>145</th>\n",
       "      <td>6.7</td>\n",
       "      <td>3.0</td>\n",
       "      <td>5.2</td>\n",
       "      <td>2.3</td>\n",
       "      <td>2.0</td>\n",
       "      <td>virginica</td>\n",
       "    </tr>\n",
       "    <tr>\n",
       "      <th>146</th>\n",
       "      <td>6.3</td>\n",
       "      <td>2.5</td>\n",
       "      <td>5.0</td>\n",
       "      <td>1.9</td>\n",
       "      <td>2.0</td>\n",
       "      <td>virginica</td>\n",
       "    </tr>\n",
       "    <tr>\n",
       "      <th>147</th>\n",
       "      <td>6.5</td>\n",
       "      <td>3.0</td>\n",
       "      <td>5.2</td>\n",
       "      <td>2.0</td>\n",
       "      <td>2.0</td>\n",
       "      <td>virginica</td>\n",
       "    </tr>\n",
       "    <tr>\n",
       "      <th>148</th>\n",
       "      <td>6.2</td>\n",
       "      <td>3.4</td>\n",
       "      <td>5.4</td>\n",
       "      <td>2.3</td>\n",
       "      <td>2.0</td>\n",
       "      <td>virginica</td>\n",
       "    </tr>\n",
       "    <tr>\n",
       "      <th>149</th>\n",
       "      <td>5.9</td>\n",
       "      <td>3.0</td>\n",
       "      <td>5.1</td>\n",
       "      <td>1.8</td>\n",
       "      <td>2.0</td>\n",
       "      <td>virginica</td>\n",
       "    </tr>\n",
       "  </tbody>\n",
       "</table>\n",
       "</div>"
      ],
      "text/plain": [
       "     s_length  s_width  p_length  p_width  target    species\n",
       "145       6.7      3.0       5.2      2.3     2.0  virginica\n",
       "146       6.3      2.5       5.0      1.9     2.0  virginica\n",
       "147       6.5      3.0       5.2      2.0     2.0  virginica\n",
       "148       6.2      3.4       5.4      2.3     2.0  virginica\n",
       "149       5.9      3.0       5.1      1.8     2.0  virginica"
      ]
     },
     "execution_count": 39,
     "metadata": {},
     "output_type": "execute_result"
    }
   ],
   "source": [
    "#imprime algumas informações do fim do dataframe\n",
    "df.tail()"
   ]
  },
  {
   "cell_type": "code",
   "execution_count": 40,
   "metadata": {},
   "outputs": [
    {
     "name": "stdout",
     "output_type": "stream",
     "text": [
      "[0 0 0 0 0 0 0 0 0 0 0 0 0 0 0 0 0 0 0 0 0 0 0 0 0 0 0 0 0 0 0 0 0 0 0 0 0\n",
      " 0 0 0 0 0 0 0 0 0 0 0 0 0 1 1 1 1 1 1 1 1 1 1 1 1 1 1 1 1 1 1 1 1 1 1 1 1\n",
      " 1 1 1 1 1 1 1 1 1 1 1 1 1 1 1 1 1 1 1 1 1 1 1 1 1 1 2 2 2 2 2 2 2 2 2 2 2\n",
      " 2 2 2 2 2 2 2 2 2 2 2 2 2 2 2 2 2 2 2 2 2 2 2 2 2 2 2 2 2 2 2 2 2 2 2 2 2\n",
      " 2 2]\n"
     ]
    }
   ],
   "source": [
    "#imprime todos os targets \n",
    "print(iris.target)"
   ]
  },
  {
   "cell_type": "markdown",
   "metadata": {},
   "source": [
    "\n",
    "**Imprime gráfico tentando correlacionar o tamanho e largura da sépala com as classes.**"
   ]
  },
  {
   "cell_type": "code",
   "execution_count": 41,
   "metadata": {},
   "outputs": [
    {
     "data": {
      "image/png": "[encoded data removed]",
      "text/plain": [
       "<Figure size 432x288 with 1 Axes>"
      ]
     },
     "metadata": {
      "needs_background": "light"
     },
     "output_type": "display_data"
    }
   ],
   "source": [
    "plt.figure()\n",
    "colors = ['red', 'green', 'blue']\n",
    "\n",
    "for color, i, target_name in zip(colors, [0, 1, 2], iris.target_names):\n",
    "    #filtra dados da classe i\n",
    "    dt_class = iris.data[iris.target == i] \n",
    "    \n",
    "    #plota gráfico de dispersão\n",
    "    plt.scatter(dt_class[:,0], dt_class[:,1], alpha=.8, color=color, label=target_name)\n",
    "\n",
    "#adiciona legenda e imprime gráfico\n",
    "plt.legend(loc='best', shadow=False, scatterpoints=1)\n",
    "plt.show()"
   ]
  },
  {
   "cell_type": "markdown",
   "metadata": {},
   "source": [
    "### K-means\n",
    "\n",
    "Podemos utilizar o algoritmo *k-means* para clusterização de elementos.\n",
    "\n",
    "Observe que o algoritmo é utilizado sem informação de rótulo, uma vez que ele é não supervisionado.\n",
    "\n",
    "Apesar de utilizarmos o algoritmo não supervisionado, caso tenhamos interesse, podemos utilizar a informação dos rótulos da classe para avaliar o desempenho do algoritmo (caso utilizemos o parâmetro *k=3*).\n",
    "\n",
    "* Referência: https://scikit-learn.org/stable/modules/generated/sklearn.cluster.KMeans.html"
   ]
  },
  {
   "cell_type": "code",
   "execution_count": 42,
   "metadata": {},
   "outputs": [
    {
     "name": "stdout",
     "output_type": "stream",
     "text": [
      "Classes\n",
      "[0 0 0 0 0 0 0 0 0 0 0 0 0 0 0 0 0 0 0 0 0 0 0 0 0 0 0 0 0 0 0 0 0 0 0 0 0\n",
      " 0 0 0 0 0 0 0 0 0 0 0 0 0 1 1 2 1 1 1 1 1 1 1 1 1 1 1 1 1 1 1 1 1 1 1 1 1\n",
      " 1 1 1 2 1 1 1 1 1 1 1 1 1 1 1 1 1 1 1 1 1 1 1 1 1 1 2 1 2 2 2 2 1 2 2 2 2\n",
      " 2 2 1 1 2 2 2 2 1 2 1 2 1 2 2 1 1 2 2 2 2 2 1 2 2 2 2 1 2 2 2 1 2 2 2 1 2\n",
      " 2 1]\n",
      "\n",
      "Centroides\n",
      "[[5.006      3.428      1.462      0.246     ]\n",
      " [5.9016129  2.7483871  4.39354839 1.43387097]\n",
      " [6.85       3.07368421 5.74210526 2.07105263]]\n",
      "\n"
     ]
    }
   ],
   "source": [
    "X = iris.data\n",
    "y = iris.target\n",
    "kmeans = KMeans(n_clusters=3)\n",
    "kmeans_fit = kmeans.fit(X)\n",
    "kmeans_plot = kmeans_fit.transform(X)\n",
    "\n",
    "#imprime as predições para os conjuntos de dados\n",
    "kmeans_fp = kmeans.fit_predict(X)\n",
    "print('Classes')\n",
    "print(kmeans_fp)\n",
    "print()\n",
    "\n",
    "#imprime as posições dos centroides\n",
    "centroids = kmeans.cluster_centers_\n",
    "print('Centroides')\n",
    "print(centroids)\n",
    "print()"
   ]
  },
  {
   "cell_type": "code",
   "execution_count": 43,
   "metadata": {},
   "outputs": [
    {
     "name": "stdout",
     "output_type": "stream",
     "text": [
      "[0 0 0 0 0 0 0 0 0 0 0 0 0 0 0 0 0 0 0 0 0 0 0 0 0 0 0 0 0 0 0 0 0 0 0 0 0\n",
      " 0 0 0 0 0 0 0 0 0 0 0 0 0 1 1 1 1 1 1 1 1 1 1 1 1 1 1 1 1 1 1 1 1 1 1 1 1\n",
      " 1 1 1 1 1 1 1 1 1 1 1 1 1 1 1 1 1 1 1 1 1 1 1 1 1 1 2 2 2 2 2 2 2 2 2 2 2\n",
      " 2 2 2 2 2 2 2 2 2 2 2 2 2 2 2 2 2 2 2 2 2 2 2 2 2 2 2 2 2 2 2 2 2 2 2 2 2\n",
      " 2 2]\n"
     ]
    }
   ],
   "source": [
    "print(iris.target)"
   ]
  },
  {
   "cell_type": "markdown",
   "metadata": {},
   "source": [
    "Imprime os dados originais e os centroides dos clusters."
   ]
  },
  {
   "cell_type": "code",
   "execution_count": 44,
   "metadata": {},
   "outputs": [
    {
     "data": {
      "image/png": "[encoded data removed]",
      "text/plain": [
       "<Figure size 720x504 with 1 Axes>"
      ]
     },
     "metadata": {
      "needs_background": "light"
     },
     "output_type": "display_data"
    }
   ],
   "source": [
    "plt.figure(figsize=(10, 7))\n",
    "colors = ['red', 'green', 'blue']\n",
    "\n",
    "for color, i, target_name in zip(colors, [0, 1, 2], iris.target_names):\n",
    "    #filtra dados da classe i\n",
    "    dt_class = iris.data[iris.target == i] \n",
    "    \n",
    "    #plota gráfico de dispersão\n",
    "    plt.scatter(dt_class[:,0], dt_class[:,1], alpha=.8, color=color, label=target_name)\n",
    "\n",
    "#imprime os centroides\n",
    "plt.scatter(centroids[:, 0], centroids[:, 1], marker=\"x\", s=170, linewidths=5, color=\"black\")\n",
    "    \n",
    "#adiciona legenda e imprime gráfico\n",
    "plt.legend(loc='best', shadow=False, scatterpoints=1)\n",
    "plt.show()"
   ]
  },
  {
   "cell_type": "code",
   "execution_count": 45,
   "metadata": {},
   "outputs": [
    {
     "data": {
      "image/png": "[encoded data removed]",
      "text/plain": [
       "<Figure size 720x504 with 1 Axes>"
      ]
     },
     "metadata": {
      "needs_background": "light"
     },
     "output_type": "display_data"
    }
   ],
   "source": [
    "imprime_grafico_iris(kmeans_plot, target=iris.target, targets_names=iris.target_names)"
   ]
  },
  {
   "cell_type": "markdown",
   "metadata": {},
   "source": [
    "#### Elbow Method\n",
    "\n",
    "Supondo que não soubessemos a quantidade ideal de clusters (3 classes - 3 clusters), poderíamos utilizar o *Elbow Method* para definição da quantidade ideal de clusters.\n",
    "\n",
    "Podemos calcular o erro do algoritmo usando o comando *kmeans.inertia_*, que calcula a soma das distâncias quadradas entre as amostras e o centro do cluster mais próximo."
   ]
  },
  {
   "cell_type": "code",
   "execution_count": 46,
   "metadata": {},
   "outputs": [
    {
     "data": {
      "image/png": "[encoded data removed]",
      "text/plain": [
       "<Figure size 720x504 with 1 Axes>"
      ]
     },
     "metadata": {
      "needs_background": "light"
     },
     "output_type": "display_data"
    }
   ],
   "source": [
    "error =[]\n",
    "for i in range(1, 11):\n",
    "    kmeans = KMeans(n_clusters = i).fit(X)\n",
    "    kmeans.fit(X)\n",
    "    error.append(kmeans.inertia_)\n",
    "\n",
    "plt.figure(figsize=(10, 7))\n",
    "plt.plot(range(1, 11), error)\n",
    "plt.title('Elbow method')\n",
    "plt.xlabel('No of clusters')\n",
    "plt.ylabel('Error')\n",
    "plt.show()"
   ]
  },
  {
   "cell_type": "markdown",
   "metadata": {},
   "source": [
    "Conforme podemos verificar no gráfico, o número ideal de clusters é de 3 unidades, quando o decrescimento do erro diminui consideravelmente, de modo a ficar quase estável."
   ]
  },
  {
   "cell_type": "code",
   "execution_count": null,
   "metadata": {},
   "outputs": [],
   "source": []
  }
 ],
 "metadata": {
  "kernelspec": {
   "display_name": "Python 3",
   "language": "python",
   "name": "python3"
  },
  "language_info": {
   "codemirror_mode": {
    "name": "ipython",
    "version": 3
   },
   "file_extension": ".py",
   "mimetype": "text/x-python",
   "name": "python",
   "nbconvert_exporter": "python",
   "pygments_lexer": "ipython3",
   "version": "3.6.5"
  }
 },
 "nbformat": 4,
 "nbformat_minor": 4
}
