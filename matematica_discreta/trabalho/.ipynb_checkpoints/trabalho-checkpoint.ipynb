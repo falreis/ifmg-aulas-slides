{
 "cells": [
  {
   "cell_type": "markdown",
   "id": "75e793ff",
   "metadata": {},
   "source": [
    "![IFMG](https://storage.googleapis.com/ifmg/IFMG.png)\n",
    "\n",
    "---\n",
    "# Matemática Discreta - Trabalho Prático\n",
    "\n",
    "\n",
    "### **Professor: Felipe Reis**\n",
    "\n",
    "#### **Data: 20-11-2021**\n",
    "\n",
    "---"
   ]
  },
  {
   "cell_type": "code",
   "execution_count": 2,
   "id": "b2cd4b4d",
   "metadata": {},
   "outputs": [],
   "source": [
    "import numpy as np\n",
    "import matplotlib.pyplot as plt"
   ]
  },
  {
   "cell_type": "markdown",
   "id": "338ff578",
   "metadata": {},
   "source": [
    "---\n",
    "---"
   ]
  },
  {
   "cell_type": "markdown",
   "id": "4e576d6e",
   "metadata": {},
   "source": [
    "## Teoria de Conjuntos"
   ]
  },
  {
   "cell_type": "code",
   "execution_count": 52,
   "id": "69d62fb8",
   "metadata": {
    "scrolled": false
   },
   "outputs": [
    {
     "data": {
      "image/png": "[encoded data removed]",
      "text/plain": [
       "<Figure size 1440x720 with 1 Axes>"
      ]
     },
     "metadata": {
      "needs_background": "light"
     },
     "output_type": "display_data"
    }
   ],
   "source": [
    "def plot_conjuntos(conjunto, complemento):\n",
    "    #plot values    \n",
    "    fig = plt.figure(figsize=(20,10))\n",
    "    plt.plot(conjunto, 'x')\n",
    "    plt.plot(complemento, 'o')\n",
    "    plt.legend(['Conjunto', 'Complemento'])\n",
    "\n",
    "    \n",
    "universo = np.arange(0,100)\n",
    "np.random.shuffle(universo)\n",
    "\n",
    "conjunto = universo[universo <= 50]\n",
    "conjunto = conjunto[conjunto >= 20]\n",
    "\n",
    "plot_conjuntos(conjunto, complemento)"
   ]
  },
  {
   "cell_type": "markdown",
   "id": "ac2aadfb",
   "metadata": {},
   "source": [
    "### Implementar análise igualdade de conjuntos"
   ]
  },
  {
   "cell_type": "markdown",
   "id": "215b4e36",
   "metadata": {},
   "source": [
    "### Implementar União, Interseção, Diferença, Conjuntos Disjuntos e Complemento."
   ]
  },
  {
   "cell_type": "markdown",
   "id": "11fc0db4",
   "metadata": {},
   "source": [
    "### Analisar se um conjunto é subconjunto de outro"
   ]
  },
  {
   "cell_type": "markdown",
   "id": "b567c6b0",
   "metadata": {},
   "source": [
    "### Implementar Produto Cartesiano"
   ]
  },
  {
   "cell_type": "markdown",
   "id": "433377fb",
   "metadata": {},
   "source": [
    "## Relações\n",
    "\n",
    "\n",
    "# Criar questão usando matrizes, para não inviabilizar os exercícios.\n"
   ]
  },
  {
   "cell_type": "code",
   "execution_count": 3,
   "id": "4addbe28",
   "metadata": {},
   "outputs": [],
   "source": [
    "def gerar_relacao(val_max=3, seed=None):\n",
    "    if(seed != None):\n",
    "        np.random.seed(seed)\n",
    "        \n",
    "    relacao = []\n",
    "    for i in range(val_max):\n",
    "        values = np.random.randint(2, size=val_max)\n",
    "\n",
    "        for j in range(len(values)):\n",
    "            if(values[j] == 1):\n",
    "                relacao.append((i, j))\n",
    "                #print('({},{}), '.format(i, j), end='')\n",
    "                \n",
    "    return relacao"
   ]
  },
  {
   "cell_type": "code",
   "execution_count": 4,
   "id": "2913aa62",
   "metadata": {
    "scrolled": true
   },
   "outputs": [
    {
     "name": "stdout",
     "output_type": "stream",
     "text": [
      "(0, 0), (0, 1), (1, 0), (1, 2), (2, 0), (2, 2), "
     ]
    }
   ],
   "source": [
    "relacao = gerar_relacao(seed=10)\n",
    "for r in relacao:\n",
    "    print(r, end=', ')\n",
    "    #r0, r1 = r #obtém primeiro e segundo elementos nas variáveis r0 e r1\n",
    "    #r[0], r[1] #acessa primeiro e segundo elementos"
   ]
  },
  {
   "cell_type": "markdown",
   "id": "893f47dd",
   "metadata": {},
   "source": [
    "### Relação Reflexiva"
   ]
  },
  {
   "cell_type": "code",
   "execution_count": 5,
   "id": "714e69fd",
   "metadata": {},
   "outputs": [],
   "source": [
    "#desenvolva um algoritmo para verificar se a relação é reflexiva"
   ]
  },
  {
   "cell_type": "code",
   "execution_count": 6,
   "id": "bef42903",
   "metadata": {},
   "outputs": [
    {
     "data": {
      "text/plain": [
       "False"
      ]
     },
     "execution_count": 6,
     "metadata": {},
     "output_type": "execute_result"
    }
   ],
   "source": [
    "def is_relacao_reflexiva(relacao, val_max=3):\n",
    "    reflexiva = True\n",
    "    \n",
    "    for i in range(val_max):\n",
    "        if((i,i) not in relacao):\n",
    "            reflexiva = False\n",
    "            break\n",
    "\n",
    "    return reflexiva\n",
    "\n",
    "relacao = gerar_relacao(seed=10)\n",
    "is_relacao_reflexiva(relacao)"
   ]
  },
  {
   "cell_type": "markdown",
   "id": "7af1d127",
   "metadata": {},
   "source": [
    "### Relação Simétrica"
   ]
  },
  {
   "cell_type": "code",
   "execution_count": 7,
   "id": "4060749d",
   "metadata": {},
   "outputs": [],
   "source": [
    "#desenvolva um algoritmo para verificar se a relação é simétrica"
   ]
  },
  {
   "cell_type": "code",
   "execution_count": 8,
   "id": "a284b20b",
   "metadata": {},
   "outputs": [
    {
     "data": {
      "text/plain": [
       "False"
      ]
     },
     "execution_count": 8,
     "metadata": {},
     "output_type": "execute_result"
    }
   ],
   "source": [
    "def is_relacao_simetrica(relacao):\n",
    "    simetrica=True\n",
    "\n",
    "    for r in relacao:\n",
    "        r0, r1 = r\n",
    "        if((r1, r0) not in relacao):\n",
    "            simetrica = False\n",
    "            break\n",
    "\n",
    "    return simetrica\n",
    "\n",
    "relacao = gerar_relacao(seed=10)\n",
    "is_relacao_simetrica(relacao)"
   ]
  },
  {
   "cell_type": "markdown",
   "id": "d10fe0d7",
   "metadata": {},
   "source": [
    "### Relação Antissimétrica"
   ]
  },
  {
   "cell_type": "code",
   "execution_count": 9,
   "id": "f240cec3",
   "metadata": {},
   "outputs": [],
   "source": [
    "#desenvolva um algoritmo para verificar se a relação é antissimétrica"
   ]
  },
  {
   "cell_type": "code",
   "execution_count": 10,
   "id": "0a3fe9ae",
   "metadata": {},
   "outputs": [
    {
     "data": {
      "text/plain": [
       "False"
      ]
     },
     "execution_count": 10,
     "metadata": {},
     "output_type": "execute_result"
    }
   ],
   "source": [
    "def is_relacao_antissimetrica(relacao):\n",
    "    antiss=True\n",
    "\n",
    "    for r in relacao:\n",
    "        r0, r1 = r\n",
    "        if((r1, r0) in relacao and r1 != r0):\n",
    "            antiss = False\n",
    "            break\n",
    "\n",
    "    return antiss\n",
    "\n",
    "relacao = gerar_relacao(seed=10)\n",
    "is_relacao_simetrica(relacao)"
   ]
  },
  {
   "cell_type": "markdown",
   "id": "e8ab7155",
   "metadata": {},
   "source": [
    "### Relação Transitiva"
   ]
  },
  {
   "cell_type": "code",
   "execution_count": 11,
   "id": "1926ffb9",
   "metadata": {},
   "outputs": [],
   "source": [
    "#desenvolva um algoritmo para verificar se a relação é transitiva"
   ]
  },
  {
   "cell_type": "markdown",
   "id": "f5404bdd",
   "metadata": {},
   "source": [
    "### Fecho Reflexivo"
   ]
  },
  {
   "cell_type": "code",
   "execution_count": 12,
   "id": "a0b368bf",
   "metadata": {},
   "outputs": [],
   "source": [
    "#desenvolva um algoritmo para retornar o fecho reflexivo"
   ]
  },
  {
   "cell_type": "markdown",
   "id": "df5ab915",
   "metadata": {},
   "source": [
    "### Fecho Simétrico"
   ]
  },
  {
   "cell_type": "code",
   "execution_count": 13,
   "id": "848a3212",
   "metadata": {},
   "outputs": [],
   "source": [
    "#desenvolva um algoritmo para retornar o fecho simétrico"
   ]
  },
  {
   "cell_type": "markdown",
   "id": "ba81a888",
   "metadata": {},
   "source": [
    "### Fecho Antissimétrico"
   ]
  },
  {
   "cell_type": "code",
   "execution_count": 14,
   "id": "3e48aeda",
   "metadata": {},
   "outputs": [],
   "source": [
    "#desenvolva um algoritmo para retornar o fecho antissimétrico"
   ]
  },
  {
   "cell_type": "markdown",
   "id": "8db1c34f",
   "metadata": {},
   "source": [
    "### Fecho Transitivo"
   ]
  },
  {
   "cell_type": "code",
   "execution_count": 15,
   "id": "1f8a74b9",
   "metadata": {},
   "outputs": [],
   "source": [
    "#desenvolva um algoritmo para retornar o fecho transitivo"
   ]
  },
  {
   "cell_type": "markdown",
   "id": "1c520a16",
   "metadata": {},
   "source": [
    "## Funções"
   ]
  },
  {
   "cell_type": "code",
   "execution_count": 33,
   "id": "c8f491c5",
   "metadata": {
    "scrolled": false
   },
   "outputs": [
    {
     "data": {
      "text/plain": [
       "<matplotlib.legend.Legend at 0x7f0d62d2bc10>"
      ]
     },
     "execution_count": 33,
     "metadata": {},
     "output_type": "execute_result"
    },
    {
     "data": {
      "image/png": "[encoded data removed]",
      "text/plain": [
       "<Figure size 1440x720 with 1 Axes>"
      ]
     },
     "metadata": {
      "needs_background": "light"
     },
     "output_type": "display_data"
    }
   ],
   "source": [
    "def f_x2(x):\n",
    "    return x**2 #f(x)=x^2\n",
    "\n",
    "def f_x(x):\n",
    "    return 100*x #f(x)=100x\n",
    "\n",
    "#gera elementos de um conjunto (0-150)\n",
    "values = np.arange(0,150) \n",
    "\n",
    "#plota gráfico\n",
    "fig = plt.figure(figsize=(20,10))\n",
    "plt.plot(values, f_x(values))\n",
    "plt.plot(values, f_x2(values))\n",
    "plt.legend(['x', 'x^2'])"
   ]
  },
  {
   "cell_type": "markdown",
   "id": "b45b8f80",
   "metadata": {},
   "source": [
    "## Relação de Recorrência"
   ]
  },
  {
   "cell_type": "code",
   "execution_count": null,
   "id": "aca0da75",
   "metadata": {},
   "outputs": [],
   "source": []
  }
 ],
 "metadata": {
  "kernelspec": {
   "display_name": "Python 3",
   "language": "python",
   "name": "python3"
  },
  "language_info": {
   "codemirror_mode": {
    "name": "ipython",
    "version": 3
   },
   "file_extension": ".py",
   "mimetype": "text/x-python",
   "name": "python",
   "nbconvert_exporter": "python",
   "pygments_lexer": "ipython3",
   "version": "3.8.3"
  }
 },
 "nbformat": 4,
 "nbformat_minor": 5
}
