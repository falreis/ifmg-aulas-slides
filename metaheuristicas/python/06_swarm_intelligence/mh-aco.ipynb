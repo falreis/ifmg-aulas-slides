{
 "cells": [
  {
   "cell_type": "markdown",
   "metadata": {
    "id": "smy50IRT1Tmz"
   },
   "source": [
    "![IFMG](https://storage.googleapis.com/ifmg/IFMG.png)\n",
    "\n",
    "---\n",
    "# Metaheurísticas - Ant Colony Optimization\n",
    "\n",
    "### Professor: Felipe A. L. Reis"
   ]
  },
  {
   "cell_type": "markdown",
   "metadata": {
    "id": "94Q1X6-H1Tm1"
   },
   "source": [
    "---\n",
    "### Instruções Iniciais\n",
    "\n",
    "#### Problemas\n",
    "\n",
    "Para aprendizado do Algoritmo *Ant Colony Optimizaton* , iremos estudar o seguinte problema:\n",
    "\n",
    "* Problema do Caixeiro Viajante (TSP)\n",
    "\n",
    "#### Bibliotecas Python\n",
    "\n",
    "* ACopy - Ant Colony Optimization for the Traveling Salesman Problem\n",
    "\n",
    "A biblioteca [ACopy](https://pypi.org/project/acopy/) é utilizada para implementação do algoritmo ACO (*Ant Colony Optimization*) para solução do Problema do Caixeiro Viajante. Sua documentação pode ser encontrada no link abaixo:\n",
    "* https://acopy.readthedocs.io/en/latest/usage.html#quickstart\n",
    "\n",
    "#### Datasets\n",
    "\n",
    "No Problema 2, iremos utilizar o seguinte repositório MP-TESTDATA - The TSPLIB Symmetric Traveling Salesman Problem Instances, contendo arquivos para uso em problemas de Caixeiro Viajante. O acesso aos problemas pode ser feito pelo link:\n",
    "* http://elib.zib.de/pub/mp-testdata/tsp/tsplib/tsp/\n",
    "\n",
    "Dentre os arquivos contendo os repositórios, utilizaremos o arquivo \"29 Cities in Bavaria (geographical distance)\", que pode ser acessado diretamente pelo link: \n",
    "* http://elib.zib.de/pub/mp-testdata/tsp/tsplib/tsp/bayg29.tsp\n",
    "\n",
    "#### Referências\n",
    "\n",
    "O tutorial abaixo foi inspirado nas seguintes links:\n",
    "* https://acopy.readthedocs.io/en/latest/usage.html#quickstart\n",
    "* https://github.com/Akavall/AntColonyOptimization\n",
    "* https://github.com/pjmattingly/ant-colony-optimization/\n",
    "* https://github.com/dilsonpereira/Formigueiro"
   ]
  },
  {
   "cell_type": "markdown",
   "metadata": {
    "id": "0OuLK2nT1Tm2"
   },
   "source": [
    "---\n",
    "### Instalação de bibliotecas "
   ]
  },
  {
   "cell_type": "code",
   "execution_count": 7,
   "metadata": {
    "colab": {
     "base_uri": "https://localhost:8080/",
     "height": 256
    },
    "executionInfo": {
     "elapsed": 6015,
     "status": "ok",
     "timestamp": 1602540379942,
     "user": {
      "displayName": "Felipe Augusto Lima Reis",
      "photoUrl": "https://lh3.googleusercontent.com/a-/AOh14GgmuJ275x7vlGLqN7Ms6LW-c6fuWOg24u3W2f2d=s64",
      "userId": "04303091859947772173"
     },
     "user_tz": 180
    },
    "id": "I3iZAvkJ1Tm4",
    "outputId": "50172776-803b-416d-b0d4-4cee82567b23"
   },
   "outputs": [
    {
     "data": {
      "text/plain": [
       "'\\n#instalação biblioteca acopy (otimização por colônia de formigas)\\n!pip install acopy\\n\\n#instalação biblioteca tsplib95 (leitura de grafos)\\n!pip install tsplib95\\n\\n#instalação biblioteca pygad\\n!pip install pygad\\n'"
      ]
     },
     "execution_count": 7,
     "metadata": {},
     "output_type": "execute_result"
    }
   ],
   "source": [
    "'''\n",
    "#instalação biblioteca acopy (otimização por colônia de formigas)\n",
    "!pip install acopy\n",
    "\n",
    "#instalação biblioteca tsplib95 (leitura de grafos)\n",
    "!pip install tsplib95\n",
    "\n",
    "#instalação biblioteca pygad\n",
    "!pip install pygad\n",
    "'''"
   ]
  },
  {
   "cell_type": "markdown",
   "metadata": {
    "id": "4bfeiAJc1TnR"
   },
   "source": [
    "### Importação de bibliotecas "
   ]
  },
  {
   "cell_type": "code",
   "execution_count": 8,
   "metadata": {
    "executionInfo": {
     "elapsed": 662,
     "status": "ok",
     "timestamp": 1602675001556,
     "user": {
      "displayName": "Felipe Augusto Lima Reis",
      "photoUrl": "https://lh3.googleusercontent.com/a-/AOh14GgmuJ275x7vlGLqN7Ms6LW-c6fuWOg24u3W2f2d=s64",
      "userId": "04303091859947772173"
     },
     "user_tz": 180
    },
    "id": "xSeC-myg1TnT"
   },
   "outputs": [],
   "source": [
    "import scipy.optimize as opt\n",
    "import numpy as np\n",
    "import numpy.random as rd\n",
    "import plot as plot\n",
    "import operator\n",
    "\n",
    "import matplotlib.pyplot as plt\n",
    "import matplotlib        as mpl\n",
    "\n",
    "%matplotlib inline\n",
    "\n",
    "import acopy\n",
    "import pygad\n",
    "import tsplib95"
   ]
  },
  {
   "cell_type": "markdown",
   "metadata": {},
   "source": [
    "### Classe Trilha\n",
    "\n",
    "A classe abaixo será utilizada para implementação do caixeiro viajante com o ACO.\n",
    "\n",
    "A classe contém 2 atributos: caminho e custo. A soma dos valores do caminho deverá ser igual à custo."
   ]
  },
  {
   "cell_type": "code",
   "execution_count": 9,
   "metadata": {},
   "outputs": [],
   "source": [
    "class Trilha:\n",
    "    def __init__(self, caminho, custo):\n",
    "        self.caminho = caminho\n",
    "        self.custo = custo\n",
    "    \n",
    "    #função utilizada para ordenação\n",
    "    def __lt__(self, other):\n",
    "         return self.custo < other.custo"
   ]
  },
  {
   "cell_type": "markdown",
   "metadata": {},
   "source": [
    "---\n",
    "### Problema 1: Problema do Caixeiro Viajante\n",
    "\n",
    "O problema do Caixeiro Viajante (*Traveling Salesman Problem* - TSP) pode ser resolvido utilizando Otimização por Colônia de Formigas.\n",
    "\n",
    "Nesta seção, iremos utilizar o ACO para solucionar o problema do caixeiro viajante, para um conjunto limitado de cidades / localidades.\n",
    "\n",
    "Serão adotados os seguintes procedimentos:\n",
    "- Serão definidos um conjunto de nós utilizando a posição geográfica *(x, y)*. \n",
    "- As distâncias entre duas cidades serão cálculadas com base na distância euclidiana entre os nós.\n",
    "- A cidade de início (e fim) será gerada por sorteio (primeira cidade sorteada)."
   ]
  },
  {
   "cell_type": "markdown",
   "metadata": {},
   "source": [
    "#### Métodos para gerar Coordenadas Geográficas e calcular a Distância Euclidiana"
   ]
  },
  {
   "cell_type": "code",
   "execution_count": 10,
   "metadata": {},
   "outputs": [],
   "source": [
    "def f_generate_coords(num_nodes, interv=10, randint=False):\n",
    "    if(not randint):\n",
    "        return [[rd.uniform(-interv, interv), rd.uniform(-interv, interv)] for i in range(num_nodes)]\n",
    "    else:\n",
    "        return [[rd.randint(-interv, interv), rd.randint(-interv, interv)] for i in range(num_nodes)]\n",
    "\n",
    "def f_calc_dist_euclidiana(x1, x2, y1, y2):\n",
    "    return (((x1 - x2)**2) + ((y1 - y2)**2))**0.5\n",
    "\n",
    "def f_calc_dist_eucl(coords):\n",
    "    len_coords = len(coords)\n",
    "    distances = np.full((len_coords, len_coords), np.inf)\n",
    "    \n",
    "    for i in range(len_coords):\n",
    "        for j in range(i+1, len_coords):\n",
    "            x1, x2, y1, y2 = coords[i][0], coords[j][0], coords[i][1], coords[j][1]\n",
    "            d = f_calc_dist_euclidiana(x1, x2, y1, y2)\n",
    "            distances[i][j] = d\n",
    "            distances[j][i] = d\n",
    "        \n",
    "    return distances"
   ]
  },
  {
   "cell_type": "markdown",
   "metadata": {},
   "source": [
    "#### Busca Gulosa\n",
    "\n",
    "Os métodos abaixo implementam a busca gulosa, para definir a solução inicial.\n",
    "\n",
    "A função `f_solucao_gulosa` foi atualizada em relação à versão disponibilizada junto à aula Simulated Annealing.\n",
    "\n",
    "A nova versão reduz o número de operações e permite iniciar a busca por qualquer posição da matriz."
   ]
  },
  {
   "cell_type": "code",
   "execution_count": 11,
   "metadata": {},
   "outputs": [],
   "source": [
    "def f_obter_menor_valor(vetor, nodes):\n",
    "    minimo, index = np.inf, 0\n",
    "        \n",
    "    for i in nodes:\n",
    "        if(vetor[i] < minimo):\n",
    "            minimo = vetor[i]\n",
    "            index = i\n",
    "            \n",
    "    return minimo, index\n",
    "\n",
    "def f_solucao_gulosa(distances, indice, return_vet_custos=False):\n",
    "    path, custo, nodes = [], [], []\n",
    "    curr = indice\n",
    "    \n",
    "    #gera sequencia de nós\n",
    "    nodes.append(indice)\n",
    "    nodes.extend([i for i in range(0, indice)])\n",
    "    nodes.extend([i for i in range(indice+1, len(distances))])\n",
    "        \n",
    "    #caminha pela matriz, de forma gulosa\n",
    "    for i in range(0, len(distances)-1):\n",
    "        minimo, j = f_obter_menor_valor(distances[curr][:], nodes)\n",
    "        \n",
    "        custo.append(minimo)\n",
    "        path.append(curr)\n",
    "        nodes.remove(curr)\n",
    "        curr = j\n",
    "    \n",
    "    #volta ao nó original\n",
    "    minimo, j = f_obter_menor_valor(distances[curr][:], [indice])\n",
    "    custo.append(minimo)\n",
    "    path.append(curr)\n",
    "                \n",
    "    if(return_vet_custos):\n",
    "        return path, custo\n",
    "    \n",
    "    return path, sum(custo)"
   ]
  },
  {
   "cell_type": "markdown",
   "metadata": {},
   "source": [
    "#### Busca Aleatória\n",
    "\n",
    "Os métodos abaixo implementam a busca aleatória, para definir a solução inicial.\n",
    "\n",
    "A função `f_solucao_aleatoria_prob` foi desenvolvida para definir uma solução aleatória com base em uma matriz de probabilidades."
   ]
  },
  {
   "cell_type": "code",
   "execution_count": 12,
   "metadata": {},
   "outputs": [],
   "source": [
    "def f_obter_random_sol(vetor, nodes, prob):\n",
    "    index = rd.choice(nodes, 1, p=prob)[0]\n",
    "    minimo = vetor[index]\n",
    "\n",
    "    return minimo, index\n",
    "\n",
    "def f_gera_probabilidades(probab, nodes, curr):\n",
    "    p = []\n",
    "    for n in nodes:\n",
    "        p.append(probab[curr][n])\n",
    "    \n",
    "    #redefine as probabilidades para que somem 1.\n",
    "    p /= sum(p) \n",
    "    \n",
    "    return p\n",
    "\n",
    "def f_solucao_aleatoria_prob(distances, indice, probab, return_vet_custos=False):\n",
    "    path, custo, nodes = [], [], []\n",
    "    curr = indice\n",
    "    \n",
    "    #gera sequencia de nós\n",
    "    #nodes.append(indice)\n",
    "    nodes.extend([i for i in range(0, indice)])\n",
    "    nodes.extend([i for i in range(indice+1, len(distances))])\n",
    "        \n",
    "    #caminha pela matriz\n",
    "    for i in range(0, len(distances)-1):\n",
    "        p = f_gera_probabilidades(probab, nodes, curr)\n",
    "        minimo, j = f_obter_random_sol(distances[curr][:], nodes, p)\n",
    "        \n",
    "        custo.append(minimo)\n",
    "        path.append(curr)\n",
    "        nodes.remove(j)\n",
    "        curr = j\n",
    "    \n",
    "    #volta ao nó original\n",
    "    minimo, j = f_obter_random_sol(distances[curr][:], [indice], [1])\n",
    "    custo.append(minimo)\n",
    "    path.append(curr)\n",
    "                \n",
    "    if(return_vet_custos):\n",
    "        return path, custo\n",
    "    \n",
    "    return path, sum(custo)"
   ]
  },
  {
   "cell_type": "markdown",
   "metadata": {},
   "source": [
    "#### Métodos para gerar candidato e calcular o custo da nova solução"
   ]
  },
  {
   "cell_type": "code",
   "execution_count": 13,
   "metadata": {},
   "outputs": [],
   "source": [
    "def f_gera_candidato(sol_atual):\n",
    "    candidate = sol_atual.copy()\n",
    "    \n",
    "    #gera números aleatorios\n",
    "    i, j = np.random.randint(1, len(sol_atual)-1, 2)\n",
    "    \n",
    "    #corrige sorteios de índices iguais\n",
    "    if(i == j): \n",
    "        j = j+1 if j == 1 else j-1\n",
    "        \n",
    "    #troca os valores\n",
    "    x = candidate[j]\n",
    "    candidate[j] = candidate[i]\n",
    "    candidate[i] = x\n",
    "    \n",
    "    return candidate\n",
    "\n",
    "def f_calcula_custo(distances, candidate):\n",
    "    custo = 0\n",
    "    curr = candidate[0]\n",
    "          \n",
    "    for j in candidate[1:]:\n",
    "        custo += distances[curr][j]\n",
    "        curr = j\n",
    "        \n",
    "    custo += distances[curr][candidate[0]]\n",
    "\n",
    "    return custo"
   ]
  },
  {
   "cell_type": "markdown",
   "metadata": {},
   "source": [
    "#### Estudo inicial do problema"
   ]
  },
  {
   "cell_type": "code",
   "execution_count": 14,
   "metadata": {},
   "outputs": [
    {
     "name": "stdout",
     "output_type": "stream",
     "text": [
      "[[-2, -3], [-9, 8], [-2, 1], [3, -2], [4, -11]]\n"
     ]
    },
    {
     "data": {
      "image/png": "[encoded data removed]",
      "text/plain": [
       "<Figure size 576x576 with 1 Axes>"
      ]
     },
     "metadata": {
      "needs_background": "light"
     },
     "output_type": "display_data"
    },
    {
     "name": "stdout",
     "output_type": "stream",
     "text": [
      "[[  inf 13.04  4.    5.1  10.  ]\n",
      " [13.04   inf  9.9  15.62 23.02]\n",
      " [ 4.    9.9    inf  5.83 13.42]\n",
      " [ 5.1  15.62  5.83   inf  9.06]\n",
      " [10.   23.02 13.42  9.06   inf]]\n"
     ]
    }
   ],
   "source": [
    "np.random.seed(6)\n",
    "\n",
    "#gera as coordenadas cartesianas\n",
    "coords = f_generate_coords(5, interv=12, randint=True)\n",
    "print(coords)\n",
    "\n",
    "#plota as cidades (via coordenadas cartesianas)\n",
    "plot.plot_cities(list(map(lambda a: a[0], coords)), list(map(lambda a: a[1], coords)))\n",
    "\n",
    "#imprime matriz de distâncias\n",
    "distances = f_calc_dist_eucl(coords)\n",
    "np.set_printoptions(precision=2)\n",
    "print(distances)"
   ]
  },
  {
   "cell_type": "code",
   "execution_count": 15,
   "metadata": {},
   "outputs": [
    {
     "name": "stdout",
     "output_type": "stream",
     "text": [
      "[[  inf 13.04  4.    5.1  10.  ]\n",
      " [13.04   inf  9.9  15.62 23.02]\n",
      " [ 4.    9.9    inf  5.83 13.42]\n",
      " [ 5.1  15.62  5.83   inf  9.06]\n",
      " [10.   23.02 13.42  9.06   inf]] \n",
      "\n",
      "caminho = [0, 2, 3, 4, 1]\n",
      "[4.0, 5.830951894845301, 9.055385138137417, 23.021728866442675, 13.038404810405298] = 54.94647070983069\n"
     ]
    }
   ],
   "source": [
    "#gera resultado inicial (por busca gulosa) e imprime o custo\n",
    "\n",
    "print(distances, '\\n')\n",
    "path, custo = f_solucao_gulosa(distances, 0, return_vet_custos=True)\n",
    "\n",
    "print('caminho =', path)\n",
    "print(custo, '=', sum(custo))"
   ]
  },
  {
   "cell_type": "code",
   "execution_count": 16,
   "metadata": {},
   "outputs": [
    {
     "name": "stdout",
     "output_type": "stream",
     "text": [
      "distâncias:\n",
      "[[  inf 13.04  4.    5.1  10.  ]\n",
      " [13.04   inf  9.9  15.62 23.02]\n",
      " [ 4.    9.9    inf  5.83 13.42]\n",
      " [ 5.1  15.62  5.83   inf  9.06]\n",
      " [10.   23.02 13.42  9.06   inf]] \n",
      "\n",
      "feromônios:\n",
      "[[0.   0.08 0.25 0.2  0.1 ]\n",
      " [0.08 0.   0.1  0.06 0.04]\n",
      " [0.25 0.1  0.   0.17 0.07]\n",
      " [0.2  0.06 0.17 0.   0.11]\n",
      " [0.1  0.04 0.07 0.11 0.  ]] \n",
      "\n"
     ]
    }
   ],
   "source": [
    "#imprime a matriz de distâncias\n",
    "print('distâncias:')\n",
    "print(distances, '\\n')\n",
    "\n",
    "#atualiza a matriz de feromônios, distribuindo uniformente valores nas trilhas\n",
    "print('feromônios:')\n",
    "feromonios = np.full_like(distances, (1 / distances))\n",
    "print(feromonios, '\\n')"
   ]
  },
  {
   "cell_type": "code",
   "execution_count": 17,
   "metadata": {},
   "outputs": [
    {
     "name": "stdout",
     "output_type": "stream",
     "text": [
      "caminho = [0, 3, 2, 1, 4]\n",
      "[5.0990195135927845, 5.830951894845301, 9.899494936611665, 23.021728866442675, 10.0] = 53.851195211492424\n"
     ]
    }
   ],
   "source": [
    "#gera resultado inicial (por busca aleatória) e imprime o custo\n",
    "path, custo = f_solucao_aleatoria_prob(distances, 0, feromonios, return_vet_custos=True)\n",
    "\n",
    "print('caminho =', path)\n",
    "print(custo, '=', sum(custo))"
   ]
  },
  {
   "cell_type": "markdown",
   "metadata": {},
   "source": [
    "#### Implementação do ACO (Mínimo)\n",
    "\n",
    "O código abaixo implementa o algoritmo Ant Colony Optimization (ACO) em uma versão simples."
   ]
  },
  {
   "cell_type": "code",
   "execution_count": 18,
   "metadata": {},
   "outputs": [],
   "source": [
    "def gera_trilhas(distances, qtd_formigas, feromonios):\n",
    "    trilhas = []\n",
    "    ini_trilha = [rd.randint(len(distances)) for i in range(0, qtd_formigas)] #posição inicial da trilha\n",
    "    \n",
    "    #gera soluções\n",
    "    for t in ini_trilha:\n",
    "        sol = f_solucao_aleatoria_prob(distances, t, feromonios)\n",
    "        trilha = Trilha(sol[0], sol[1])\n",
    "        trilhas.append(trilha)\n",
    "    \n",
    "    #ordena trilhas\n",
    "    sort_trilhas = sorted(trilhas, key=operator.attrgetter('custo'))\n",
    "       \n",
    "    return sort_trilhas\n",
    "\n",
    "def atualiza_feromonios(feromonios, trilha, incremento):\n",
    "    curr = trilha.caminho[0]\n",
    "    \n",
    "    #atualiza trilha de feromonios, baseado no melhr\n",
    "    for j in trilha.caminho[1:]:\n",
    "        feromonios[curr][j] += incremento\n",
    "        curr = j\n",
    "        \n",
    "    feromonios[curr][trilha.caminho[0]] += incremento\n",
    "\n",
    "    return feromonios\n",
    "\n",
    "def evapora_feromonios(feromonios, rho):\n",
    "    feromonios -= rho\n",
    "    \n",
    "    #zera os feromônios caso se o valor for menor q zero\n",
    "    #feromonios[feromonios[:] <= 0] = 10**(-8)\n",
    "    \n",
    "    return feromonios"
   ]
  },
  {
   "cell_type": "code",
   "execution_count": 19,
   "metadata": {},
   "outputs": [],
   "source": [
    "def basic_aco(distances, qtd_formigas, max_iteracoes):    \n",
    "    #variáveis iniciais\n",
    "    trilhas = []\n",
    "    best_trilha = Trilha([], np.inf)\n",
    "    \n",
    "    #define condições iniciais\n",
    "    feromonios = np.full_like(distances, (1 / distances))\n",
    "    incremento = max(0.2, 1/len(feromonios)) #define taxa de adição de feromônios\n",
    "    \n",
    "    # executa o ACO\n",
    "    for i in range(max_iteracoes):        \n",
    "        #inicia os valores\n",
    "        trilhas = gera_trilhas(distances, qtd_formigas, feromonios)\n",
    "    \n",
    "        #percorre as trilhas deixadas pelas formigas\n",
    "        if(trilhas[0].custo < best_trilha.custo):\n",
    "            best_trilha = trilhas[0]\n",
    "            print(best_trilha.custo)\n",
    "        \n",
    "        #atualiza feromonios \n",
    "        feromonios = atualiza_feromonios(feromonios, best_trilha, incremento)\n",
    "        \n",
    "    return best_trilha"
   ]
  },
  {
   "cell_type": "code",
   "execution_count": 20,
   "metadata": {
    "scrolled": false
   },
   "outputs": [
    {
     "name": "stdout",
     "output_type": "stream",
     "text": [
      "48.57537942656239\n",
      "47.82423677999968\n",
      "[3, 2, 1, 0, 4] 47.82423677999968\n"
     ]
    }
   ],
   "source": [
    "np.random.seed(6)\n",
    "\n",
    "#define as coordenadas iniciais\n",
    "coords = f_generate_coords(5, interv=12, randint=True)\n",
    "distances = f_calc_dist_eucl(coords)\n",
    "\n",
    "# execução do ACO\n",
    "simul = basic_aco(distances=distances, qtd_formigas=5, max_iteracoes=10)\n",
    "print(simul.caminho, simul.custo)"
   ]
  },
  {
   "cell_type": "code",
   "execution_count": 21,
   "metadata": {
    "scrolled": false
   },
   "outputs": [
    {
     "name": "stdout",
     "output_type": "stream",
     "text": [
      "63386.12604857584\n",
      "62890.53437445327\n",
      "60171.165737780044\n",
      "60105.654074846\n",
      "58392.6573146185\n",
      "57513.845730893\n",
      "55791.00776494309\n",
      "54441.08564168057\n",
      "54295.23384236601\n",
      "52001.944291477754\n",
      "51532.541927449936\n",
      "50710.224141602164\n",
      "50462.54207434944\n",
      "50462.495777300726\n",
      "50424.39614721544\n",
      "48356.48733957118\n",
      "46927.871560623185\n",
      "44406.77727574814\n",
      "43780.66765590923\n",
      "43746.4772697475\n",
      "43677.93052666796\n",
      "[33, 82, 94, 96, 60, 92, 23, 32, 99, 7, 43, 73, 15, 78, 29, 56, 76, 91, 64, 66, 40, 85, 62, 4, 3, 53, 88, 45, 2, 51, 63, 10, 98, 59, 89, 42, 49, 22, 28, 13, 24, 72, 5, 35, 58, 95, 16, 8, 0, 71, 31, 86, 41, 1, 25, 37, 18, 50, 81, 54, 6, 55, 57, 48, 74, 84, 67, 12, 44, 20, 11, 90, 30, 21, 38, 39, 52, 26, 68, 46, 80, 77, 14, 61, 75, 36, 79, 93, 19, 65, 87, 97, 83, 69, 9, 34, 17, 70, 47, 27] 43677.93052666796\n"
     ]
    }
   ],
   "source": [
    "np.random.seed(6)\n",
    "\n",
    "#define as coordenadas iniciais\n",
    "coords = f_generate_coords(100, interv=1000, randint=False)\n",
    "distances = f_calc_dist_eucl(coords)\n",
    "\n",
    "# execução do ACO\n",
    "simul = basic_aco(distances=distances, qtd_formigas=80, max_iteracoes=100)\n",
    "print(simul.caminho, simul.custo)"
   ]
  },
  {
   "cell_type": "markdown",
   "metadata": {},
   "source": [
    "#### Implementação do ACO\n",
    "\n",
    "O código abaixo implementa o algoritmo Ant Colony Optimization (ACO) com algumas melhorias em relação à versão anterior.\n",
    "\n",
    "No entanto, nem todas as modificações possíveis foram implementadas nesta versão do código."
   ]
  },
  {
   "cell_type": "code",
   "execution_count": 23,
   "metadata": {},
   "outputs": [],
   "source": [
    "def atualiza_feromonios(feromonios, trilha, alfa):\n",
    "    curr = trilha.caminho[0]\n",
    "    \n",
    "    #atualiza trilha de feromonios, baseado no melhr\n",
    "    for j in trilha.caminho[1:]:\n",
    "        feromonios[curr][j] *= alfa\n",
    "        curr = j\n",
    "        \n",
    "    feromonios[curr][trilha.caminho[0]] *= alfa\n",
    "\n",
    "    return feromonios\n",
    "\n",
    "def aco(distances, qtd_formigas, max_iteracoes, rho=0.03, alfa= 1, beta=3):\n",
    "    #rho - taxa evaporação dos feromônios; \n",
    "    #beta - importância relativa das distâncias\n",
    "    #alpha - importância relativa dos feromônios\n",
    "    \n",
    "    #variáveis iniciais\n",
    "    trilhas = []\n",
    "    best_trilha = Trilha([], np.inf)\n",
    "    \n",
    "    #define condições iniciais\n",
    "    feromonios = np.full_like(distances, ((1 / distances)**beta))\n",
    "    \n",
    "    # executa o ACO\n",
    "    for i in range(max_iteracoes):        \n",
    "        #inicia os valores\n",
    "        trilhas = gera_trilhas(distances, qtd_formigas, feromonios)\n",
    "    \n",
    "        #percorre as trilhas deixadas pelas formigas\n",
    "        if(trilhas[0].custo < best_trilha.custo):\n",
    "            best_trilha = trilhas[0]\n",
    "            print(best_trilha.custo)\n",
    "        \n",
    "        #atualiza feromonios \n",
    "        feromonios = atualiza_feromonios(feromonios, best_trilha, alfa)\n",
    "        \n",
    "        #evapora feromônios\n",
    "        feromonios = evapora_feromonios(feromonios, rho)\n",
    "        \n",
    "    return best_trilha"
   ]
  },
  {
   "cell_type": "code",
   "execution_count": 25,
   "metadata": {},
   "outputs": [
    {
     "name": "stdout",
     "output_type": "stream",
     "text": [
      "20559.318573980898\n",
      "20559.318573980887\n",
      "20559.318573980883\n",
      "[61, 63, 98, 75, 59, 2, 51, 10, 87, 68, 46, 26, 19, 28, 22, 89, 6, 70, 44, 55, 17, 99, 20, 11, 34, 48, 29, 84, 74, 56, 9, 90, 30, 78, 15, 7, 73, 43, 21, 52, 16, 4, 65, 14, 77, 80, 76, 40, 91, 82, 85, 66, 64, 36, 79, 47, 93, 94, 96, 60, 54, 23, 50, 25, 92, 86, 31, 1, 41, 81, 0, 18, 71, 37, 8, 67, 12, 57, 32, 3, 42, 62, 49, 5, 24, 33, 27, 95, 53, 88, 69, 83, 97, 72, 13, 58, 45, 35, 38, 39] 20559.318573980883\n"
     ]
    }
   ],
   "source": [
    "np.random.seed(6)\n",
    "\n",
    "#define as coordenadas iniciais\n",
    "coords = f_generate_coords(100, interv=1000, randint=False)\n",
    "distances = f_calc_dist_eucl(coords)\n",
    "\n",
    "# execução do ACO\n",
    "simul = aco(distances=distances, qtd_formigas=80, max_iteracoes=100, rho=0.00003, alfa=2, beta=5)\n",
    "print(simul.caminho, simul.custo)"
   ]
  },
  {
   "cell_type": "markdown",
   "metadata": {},
   "source": [
    "---\n",
    "### Problema 2: Problema do Caixeiro Viajante\n",
    "\n",
    "O problema do Caixeiro viajante pode ser resolvido utilizando Otimização por Colônia de Formigas."
   ]
  },
  {
   "cell_type": "code",
   "execution_count": 18,
   "metadata": {
    "scrolled": false
   },
   "outputs": [
    {
     "name": "stdout",
     "output_type": "stream",
     "text": [
      "Simétrica? True\n",
      "\n"
     ]
    }
   ],
   "source": [
    "#lê o arquivo com os dados\n",
    "with open('bayg29.txt') as f:\n",
    "    content = f.read().splitlines()\n",
    "\n",
    "#gera matriz inicial\n",
    "len_ct = len(content)+1\n",
    "dist = np.full((len_ct, len_ct), np.inf)\n",
    "\n",
    "#preenche matriz (não simétrica)\n",
    "for i in range(0, len_ct-1):\n",
    "    dist[i][i+1:] = content[i].split(',')\n",
    "\n",
    "#transforma a matriz inicial em matriz simétrica\n",
    "for i in range(0, len(dist)):\n",
    "    for j in range(i, len(dist)):\n",
    "        dist[j,i] = dist[i,j]\n",
    "\n",
    "#confere se a matriz é simétrica\n",
    "print('Simétrica?', np.allclose(dist, dist.T))\n",
    "\n",
    "#imprime a matriz\n",
    "print()"
   ]
  },
  {
   "cell_type": "code",
   "execution_count": 19,
   "metadata": {},
   "outputs": [
    {
     "name": "stdout",
     "output_type": "stream",
     "text": [
      "1877.0\n",
      "[28, 25, 4, 8, 5, 11, 27, 0, 20, 19, 9, 3, 14, 18, 24, 17, 13, 21, 16, 10, 6, 22, 23, 7, 26, 15, 12, 1, 2] 1877.0\n"
     ]
    }
   ],
   "source": [
    "np.random.seed(6)\n",
    "\n",
    "# execução do ACO\n",
    "simul = aco(distances=dist, qtd_formigas=80, max_iteracoes=100, rho=0.03, alfa=2, beta=5)\n",
    "print(simul.caminho, simul.custo)"
   ]
  },
  {
   "cell_type": "markdown",
   "metadata": {
    "id": "xF4i95CV1ToP"
   },
   "source": [
    "---\n",
    "### Problema 3: Problema do Caixeiro Viajante (usando Biblioteca ACopy)\n",
    "\n",
    "O problema do Caixeiro viajante pode ser resolvido utilizando Otimização por Colônia de Formigas (ACO).\n",
    "\n",
    "#### Biblioteca ACopy\n",
    "\n",
    "A biblioteca ACopy é destinada a resolução do problema do caixeiro viajante usando Otimização por Colônia de formigas.\n",
    "\n",
    "A solução desse problema pode ser facilmente realizada com a biblioteca.\n",
    "\n",
    "Para acessar a documentação da biblioteca, utilize o link abaixo:\n",
    "* https://acopy.readthedocs.io/en/latest/usage.html#quickstart"
   ]
  },
  {
   "cell_type": "code",
   "execution_count": 20,
   "metadata": {
    "id": "bxS0VJjR1ToP"
   },
   "outputs": [],
   "source": [
    "#cria um solver e uma colônia de formigas\n",
    "\n",
    "#parâmetros \n",
    "#rho - taxa evaporação dos feromônios; \n",
    "#q - capacidade total de feromônios de cada formiga\n",
    "#alpha - importância relativa dos feromônios\n",
    "#beta - importância relativa das distâncias\n",
    "\n",
    "solver = acopy.Solver(rho=.03, q=1) \n",
    "colony = acopy.Colony(alpha=1, beta=3)"
   ]
  },
  {
   "cell_type": "code",
   "execution_count": 21,
   "metadata": {
    "colab": {
     "base_uri": "https://localhost:8080/",
     "height": 74
    },
    "executionInfo": {
     "elapsed": 872,
     "status": "ok",
     "timestamp": 1602541922700,
     "user": {
      "displayName": "Felipe Augusto Lima Reis",
      "photoUrl": "https://lh3.googleusercontent.com/a-/AOh14GgmuJ275x7vlGLqN7Ms6LW-c6fuWOg24u3W2f2d=s64",
      "userId": "04303091859947772173"
     },
     "user_tz": 180
    },
    "id": "nkrGObwP1ToU",
    "outputId": "a79b9619-9dab-4d57-be88-26ce7e033f63"
   },
   "outputs": [
    {
     "name": "stderr",
     "output_type": "stream",
     "text": [
      "<ipython-input-21-608932671ac8>:3: DeprecationWarning: Call to deprecated function (or staticmethod) load_problem. (Will be removed in newer versions. Use `tsplib95.load` instead.) -- Deprecated since version 7.0.0.\n",
      "  problem = tsplib95.load_problem('bayg29.tsp')\n"
     ]
    }
   ],
   "source": [
    "#recupera o arquivo de distância entre as cidades, que será utilizado para o prob. caixeiro viajante\n",
    "#http://elib.zib.de/pub/mp-testdata/tsp/tsplib/tsp/bayg29.tsp\n",
    "problem = tsplib95.load_problem('bayg29.tsp')\n",
    "G = problem.get_graph()"
   ]
  },
  {
   "cell_type": "code",
   "execution_count": 22,
   "metadata": {
    "id": "THijOd9D1ToY"
   },
   "outputs": [],
   "source": [
    "# resolve o problema, usando o grafo, colônia de formigas e um limite de 100 iterações/gerações.\n",
    "tour = solver.solve(G, colony, limit=1000)"
   ]
  },
  {
   "cell_type": "code",
   "execution_count": 23,
   "metadata": {
    "colab": {
     "base_uri": "https://localhost:8080/",
     "height": 35
    },
    "executionInfo": {
     "elapsed": 658,
     "status": "ok",
     "timestamp": 1602542068679,
     "user": {
      "displayName": "Felipe Augusto Lima Reis",
      "photoUrl": "https://lh3.googleusercontent.com/a-/AOh14GgmuJ275x7vlGLqN7Ms6LW-c6fuWOg24u3W2f2d=s64",
      "userId": "04303091859947772173"
     },
     "user_tz": 180
    },
    "id": "O4a3RIiN1Tod",
    "outputId": "322f2f05-69e3-4e31-a092-0f9ca61f092e"
   },
   "outputs": [
    {
     "name": "stdout",
     "output_type": "stream",
     "text": [
      "1634\n"
     ]
    }
   ],
   "source": [
    "#imprime o custo total da solução gerada\n",
    "print(tour.cost)"
   ]
  },
  {
   "cell_type": "code",
   "execution_count": 24,
   "metadata": {
    "colab": {
     "base_uri": "https://localhost:8080/",
     "height": 129
    },
    "executionInfo": {
     "elapsed": 697,
     "status": "ok",
     "timestamp": 1602542070083,
     "user": {
      "displayName": "Felipe Augusto Lima Reis",
      "photoUrl": "https://lh3.googleusercontent.com/a-/AOh14GgmuJ275x7vlGLqN7Ms6LW-c6fuWOg24u3W2f2d=s64",
      "userId": "04303091859947772173"
     },
     "user_tz": 180
    },
    "id": "e5AcZ_JJ1Toh",
    "outputId": "9e035fe0-63cf-4cd5-d8f8-9622e3425a47"
   },
   "outputs": [
    {
     "name": "stdout",
     "output_type": "stream",
     "text": [
      "Nós:\n",
      "[14, 18, 15, 4, 10, 20, 2, 21, 5, 26, 29, 3, 9, 6, 12, 28, 1, 24, 13, 16, 27, 8, 23, 7, 25, 19, 11, 22, 17]\n",
      "29\n",
      "Caminho:\n",
      "[(14, 18), (18, 15), (15, 4), (4, 10), (10, 20), (20, 2), (2, 21), (21, 5), (5, 26), (26, 29), (29, 3), (3, 9), (9, 6), (6, 12), (12, 28), (28, 1), (1, 24), (24, 13), (13, 16), (16, 27), (27, 8), (8, 23), (23, 7), (7, 25), (25, 19), (19, 11), (11, 22), (22, 17), (17, 14)]\n"
     ]
    }
   ],
   "source": [
    "#imprime os nós da solução gerada\n",
    "print('Nós:')\n",
    "print(tour.nodes)\n",
    "print(len(tour.nodes))\n",
    "\n",
    "#imprime o caminho da solução gerada\n",
    "print('Caminho:')\n",
    "print(tour.path)"
   ]
  },
  {
   "cell_type": "code",
   "execution_count": null,
   "metadata": {},
   "outputs": [],
   "source": []
  }
 ],
 "metadata": {
  "colab": {
   "collapsed_sections": [],
   "name": "ia-aula_meta-heuristicas.ipynb",
   "provenance": []
  },
  "kernelspec": {
   "display_name": "Python 3",
   "language": "python",
   "name": "python3"
  },
  "language_info": {
   "codemirror_mode": {
    "name": "ipython",
    "version": 3
   },
   "file_extension": ".py",
   "mimetype": "text/x-python",
   "name": "python",
   "nbconvert_exporter": "python",
   "pygments_lexer": "ipython3",
   "version": "3.8.3"
  }
 },
 "nbformat": 4,
 "nbformat_minor": 1
}
