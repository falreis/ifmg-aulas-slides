{
 "cells": [
  {
   "cell_type": "markdown",
   "id": "61a0c5a2",
   "metadata": {},
   "source": [
    "Para implementarmos uma programação paralela da forma mais fácil, iremos utilizar o recurso de programação assíncrona.\n",
    "\n",
    "Para isso, iremos importar a biblioteca `asyncio`.\n",
    "\n",
    "Como utilizamos o Jupyter, precisaremos usar alguns comandos diferentes do original. O código abaixo (mais simples), não executa corretamente. A biblioteca indica que o `asyncio` não pode ser executado dentro de um loop. Isso ocorre por que o Jupyter utiliza um loop principal em sua estrutura.\n",
    "\n",
    "```\n",
    "import asyncio\n",
    "\n",
    "async def teste_assincrono():\n",
    "    print('Teste ...')\n",
    "    await asyncio.sleep(1)\n",
    "    print('... assíncrono!')\n",
    "    \n",
    "asyncio.run(teste_assincrono())\n",
    "asyncio.run(teste_assincrono())\n",
    "```\n",
    "\n",
    "Para que o código funcione no Jupyter, devemos recuperar o controle do laço principal e utilizar um código conforme o modelo abaixo.\n",
    "\n",
    "```\n",
    "import asyncio\n",
    "\n",
    "async def teste_assincrono():\n",
    "    print('Teste ...')\n",
    "    await asyncio.sleep(1)\n",
    "    print('... assíncrono!')\n",
    "\n",
    "loop = asyncio.get_event_loop()\n",
    "loop.create_task(teste_assincrono())\n",
    "loop.create_task(teste_assincrono())\n",
    "```\n",
    "Para documentação da biblioteca `asyncio`, consulte o link \n",
    "https://docs.python.org/3/library/asyncio-task.html.\n",
    "\n",
    "Para mais informações sobre o uso da biblioteca `asyncio` no Jupyter, consulte o link https://stackoverflow.com/questions/47518874/how-do-i-run-python-asyncio-code-in-a-jupyter-notebook."
   ]
  },
  {
   "cell_type": "code",
   "execution_count": null,
   "id": "6ed78178",
   "metadata": {},
   "outputs": [],
   "source": [
    "import asyncio\n",
    "\n",
    "async def teste_assincrono():\n",
    "    print('Teste ...')\n",
    "    await asyncio.sleep(1)\n",
    "    print('... assíncrono!')\n",
    "\n",
    "loop = asyncio.get_event_loop()\n",
    "loop.create_task(teste_assincrono())\n",
    "loop.create_task(teste_assincrono())"
   ]
  },
  {
   "cell_type": "code",
   "execution_count": null,
   "id": "57c1cd7e",
   "metadata": {},
   "outputs": [],
   "source": [
    "async def grasp_assincrono():\n",
    "    np.random.seed(5) #8\n",
    "    f_obj= f_prb5v1\n",
    "    it = 10**8\n",
    "    \n",
    "    # Schedule three calls *concurrently*:\n",
    "    L = await asyncio.gather(\n",
    "        grasp(f_objetivo=f_obj, intervalo=[-10, 10], iteracoes=it, vizinhos=20, op=operator.ge),\n",
    "        grasp(f_objetivo=f_obj, intervalo=[-10, 10], iteracoes=it, vizinhos=20, op=operator.ge),\n",
    "        grasp(f_objetivo=f_obj, intervalo=[-10, 10], iteracoes=it, vizinhos=20, op=operator.ge)\n",
    "    )\n",
    "    \n",
    "    results = []\n",
    "    best, score = 0,0\n",
    "    for result in L:\n",
    "        best_i, score_i, values = result\n",
    "        \n",
    "        if(score_i > score):\n",
    "            best = best_i\n",
    "            score = score_i\n",
    "        results.extend(values)\n",
    "    \n",
    "    result = best, score, results\n",
    "    imprimeMelhor(f_obj, result)\n",
    "    \n",
    "loop = asyncio.get_event_loop()\n",
    "loop.create_task(grasp_assincrono())"
   ]
  }
 ],
 "metadata": {
  "kernelspec": {
   "display_name": "Python 3",
   "language": "python",
   "name": "python3"
  },
  "language_info": {
   "codemirror_mode": {
    "name": "ipython",
    "version": 3
   },
   "file_extension": ".py",
   "mimetype": "text/x-python",
   "name": "python",
   "nbconvert_exporter": "python",
   "pygments_lexer": "ipython3",
   "version": "3.8.3"
  }
 },
 "nbformat": 4,
 "nbformat_minor": 5
}
